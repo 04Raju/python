{
  "nbformat": 4,
  "nbformat_minor": 0,
  "metadata": {
    "colab": {
      "name": "Deep Learning IRIS",
      "provenance": []
    },
    "kernelspec": {
      "name": "python3",
      "display_name": "Python 3"
    }
  },
  "cells": [
    {
      "cell_type": "code",
      "metadata": {
        "id": "mgvxJB_v2RR1",
        "colab_type": "code",
        "colab": {}
      },
      "source": [
        "import numpy as np\n",
        "import pandas as pd\n",
        "import matplotlib.pyplot as plt\n",
        "# Load the dataset from sklearn\n",
        "from sklearn.datasets import load_iris\n",
        "# Importing both TensorFlow and its high level API - Keras.\n",
        "import tensorflow as tf\n",
        "from tensorflow import keras\n",
        "# Setting the random seeds for repeatability\n",
        "tf.random.set_seed(42)\n",
        "np.random.seed(42)"
      ],
      "execution_count": 1,
      "outputs": []
    },
    {
      "cell_type": "code",
      "metadata": {
        "id": "gZc0tnnH2T9C",
        "colab_type": "code",
        "colab": {}
      },
      "source": [
        "irisData = load_iris()\n",
        "# Load the attributes and target in X and y\n",
        "X = irisData.data\n",
        "y = irisData.target\n",
        "# Split the data into 80% training and 20% testing\n",
        "from sklearn.model_selection import train_test_split\n",
        "X_train, X_test, y_train, y_test = train_test_split(X, y, test_size=0.2,\n",
        "stratify=y, random_state=42)\n",
        "# Feature scaling using Standardization\n",
        "from sklearn.preprocessing import StandardScaler\n",
        "sc = StandardScaler()\n",
        "# Training the feature scaling parameters\n",
        "sc.fit(X_train)\n",
        "# Applying transformations to both training and testing set\n",
        "X_train_std = sc.transform(X_train)\n",
        "X_test_std = sc.transform(X_test)"
      ],
      "execution_count": 2,
      "outputs": []
    },
    {
      "cell_type": "code",
      "metadata": {
        "id": "vuqTozCT2X_G",
        "colab_type": "code",
        "colab": {
          "base_uri": "https://localhost:8080/",
          "height": 323
        },
        "outputId": "c4daf685-5a25-4ea6-e7f0-81d8882e839b"
      },
      "source": [
        "model_DNN = keras.models.Sequential()\n",
        "# Hidden layer definitions\n",
        "model_DNN.add(keras.layers.Dense(units=12, activation='relu', input_shape=\n",
        "X_train.shape[1:]))\n",
        "model_DNN.add(keras.layers.Dense(units=10, activation='relu'))\n",
        "model_DNN.add(keras.layers.Dense(units= 8, activation='relu'))\n",
        "model_DNN.add(keras.layers.Dense(units=6, activation='relu'))\n",
        "# Output layer definitions\n",
        "model_DNN.add(keras.layers.Dense(units=3, activation='sigmoid'))\n",
        "model_DNN.summary()"
      ],
      "execution_count": 3,
      "outputs": [
        {
          "output_type": "stream",
          "text": [
            "Model: \"sequential\"\n",
            "_________________________________________________________________\n",
            "Layer (type)                 Output Shape              Param #   \n",
            "=================================================================\n",
            "dense (Dense)                (None, 12)                60        \n",
            "_________________________________________________________________\n",
            "dense_1 (Dense)              (None, 10)                130       \n",
            "_________________________________________________________________\n",
            "dense_2 (Dense)              (None, 8)                 88        \n",
            "_________________________________________________________________\n",
            "dense_3 (Dense)              (None, 6)                 54        \n",
            "_________________________________________________________________\n",
            "dense_4 (Dense)              (None, 3)                 21        \n",
            "=================================================================\n",
            "Total params: 353\n",
            "Trainable params: 353\n",
            "Non-trainable params: 0\n",
            "_________________________________________________________________\n"
          ],
          "name": "stdout"
        }
      ]
    },
    {
      "cell_type": "code",
      "metadata": {
        "id": "VuBhxTyE2b2w",
        "colab_type": "code",
        "colab": {}
      },
      "source": [
        "model_DNN.compile(loss='sparse_categorical_crossentropy',\n",
        "optimizer='adam', metrics=['accuracy'])"
      ],
      "execution_count": 4,
      "outputs": []
    },
    {
      "cell_type": "code",
      "metadata": {
        "id": "Y6VylO-z2qMZ",
        "colab_type": "code",
        "colab": {
          "base_uri": "https://localhost:8080/",
          "height": 1000
        },
        "outputId": "6fea87e8-4e11-478a-ec0a-8b1239c29975"
      },
      "source": [
        "model_DNN.fit(x=X_train_std, y=y_train, validation_split=0.1, epochs=50,\n",
        "batch_size=16)"
      ],
      "execution_count": 5,
      "outputs": [
        {
          "output_type": "stream",
          "text": [
            "Epoch 1/50\n",
            "7/7 [==============================] - 0s 31ms/step - loss: 1.1990 - accuracy: 0.3148 - val_loss: 1.0794 - val_accuracy: 0.5000\n",
            "Epoch 2/50\n",
            "7/7 [==============================] - 0s 6ms/step - loss: 1.1663 - accuracy: 0.3148 - val_loss: 1.0703 - val_accuracy: 0.5000\n",
            "Epoch 3/50\n",
            "7/7 [==============================] - 0s 6ms/step - loss: 1.1381 - accuracy: 0.3148 - val_loss: 1.0596 - val_accuracy: 0.5000\n",
            "Epoch 4/50\n",
            "7/7 [==============================] - 0s 7ms/step - loss: 1.1174 - accuracy: 0.3148 - val_loss: 1.0492 - val_accuracy: 0.5000\n",
            "Epoch 5/50\n",
            "7/7 [==============================] - 0s 7ms/step - loss: 1.0993 - accuracy: 0.3148 - val_loss: 1.0380 - val_accuracy: 0.5000\n",
            "Epoch 6/50\n",
            "7/7 [==============================] - 0s 7ms/step - loss: 1.0848 - accuracy: 0.3148 - val_loss: 1.0262 - val_accuracy: 0.5000\n",
            "Epoch 7/50\n",
            "7/7 [==============================] - 0s 6ms/step - loss: 1.0703 - accuracy: 0.3148 - val_loss: 1.0139 - val_accuracy: 0.5000\n",
            "Epoch 8/50\n",
            "7/7 [==============================] - 0s 6ms/step - loss: 1.0582 - accuracy: 0.3426 - val_loss: 1.0018 - val_accuracy: 0.5000\n",
            "Epoch 9/50\n",
            "7/7 [==============================] - 0s 6ms/step - loss: 1.0456 - accuracy: 0.3704 - val_loss: 0.9889 - val_accuracy: 0.5000\n",
            "Epoch 10/50\n",
            "7/7 [==============================] - 0s 7ms/step - loss: 1.0343 - accuracy: 0.4907 - val_loss: 0.9750 - val_accuracy: 0.5833\n",
            "Epoch 11/50\n",
            "7/7 [==============================] - 0s 6ms/step - loss: 1.0229 - accuracy: 0.5463 - val_loss: 0.9605 - val_accuracy: 0.5833\n",
            "Epoch 12/50\n",
            "7/7 [==============================] - 0s 6ms/step - loss: 1.0117 - accuracy: 0.5741 - val_loss: 0.9461 - val_accuracy: 0.5833\n",
            "Epoch 13/50\n",
            "7/7 [==============================] - 0s 6ms/step - loss: 1.0011 - accuracy: 0.6111 - val_loss: 0.9311 - val_accuracy: 0.6667\n",
            "Epoch 14/50\n",
            "7/7 [==============================] - 0s 6ms/step - loss: 0.9902 - accuracy: 0.6389 - val_loss: 0.9163 - val_accuracy: 0.6667\n",
            "Epoch 15/50\n",
            "7/7 [==============================] - 0s 6ms/step - loss: 0.9798 - accuracy: 0.6574 - val_loss: 0.9017 - val_accuracy: 0.6667\n",
            "Epoch 16/50\n",
            "7/7 [==============================] - 0s 6ms/step - loss: 0.9700 - accuracy: 0.6759 - val_loss: 0.8871 - val_accuracy: 0.6667\n",
            "Epoch 17/50\n",
            "7/7 [==============================] - 0s 6ms/step - loss: 0.9596 - accuracy: 0.7037 - val_loss: 0.8738 - val_accuracy: 0.6667\n",
            "Epoch 18/50\n",
            "7/7 [==============================] - 0s 8ms/step - loss: 0.9497 - accuracy: 0.7037 - val_loss: 0.8618 - val_accuracy: 0.6667\n",
            "Epoch 19/50\n",
            "7/7 [==============================] - 0s 6ms/step - loss: 0.9415 - accuracy: 0.6944 - val_loss: 0.8491 - val_accuracy: 0.6667\n",
            "Epoch 20/50\n",
            "7/7 [==============================] - 0s 8ms/step - loss: 0.9324 - accuracy: 0.7037 - val_loss: 0.8378 - val_accuracy: 0.6667\n",
            "Epoch 21/50\n",
            "7/7 [==============================] - 0s 7ms/step - loss: 0.9240 - accuracy: 0.7037 - val_loss: 0.8271 - val_accuracy: 0.6667\n",
            "Epoch 22/50\n",
            "7/7 [==============================] - 0s 6ms/step - loss: 0.9161 - accuracy: 0.7130 - val_loss: 0.8157 - val_accuracy: 0.6667\n",
            "Epoch 23/50\n",
            "7/7 [==============================] - 0s 7ms/step - loss: 0.9075 - accuracy: 0.7222 - val_loss: 0.8045 - val_accuracy: 0.6667\n",
            "Epoch 24/50\n",
            "7/7 [==============================] - 0s 6ms/step - loss: 0.8995 - accuracy: 0.7130 - val_loss: 0.7926 - val_accuracy: 0.6667\n",
            "Epoch 25/50\n",
            "7/7 [==============================] - 0s 6ms/step - loss: 0.8905 - accuracy: 0.7037 - val_loss: 0.7794 - val_accuracy: 0.6667\n",
            "Epoch 26/50\n",
            "7/7 [==============================] - 0s 7ms/step - loss: 0.8814 - accuracy: 0.7037 - val_loss: 0.7653 - val_accuracy: 0.6667\n",
            "Epoch 27/50\n",
            "7/7 [==============================] - 0s 7ms/step - loss: 0.8717 - accuracy: 0.6852 - val_loss: 0.7499 - val_accuracy: 0.6667\n",
            "Epoch 28/50\n",
            "7/7 [==============================] - 0s 6ms/step - loss: 0.8604 - accuracy: 0.6852 - val_loss: 0.7335 - val_accuracy: 0.6667\n",
            "Epoch 29/50\n",
            "7/7 [==============================] - 0s 7ms/step - loss: 0.8486 - accuracy: 0.6944 - val_loss: 0.7157 - val_accuracy: 0.6667\n",
            "Epoch 30/50\n",
            "7/7 [==============================] - 0s 8ms/step - loss: 0.8371 - accuracy: 0.6852 - val_loss: 0.6950 - val_accuracy: 0.5833\n",
            "Epoch 31/50\n",
            "7/7 [==============================] - 0s 7ms/step - loss: 0.8236 - accuracy: 0.7037 - val_loss: 0.6736 - val_accuracy: 0.5833\n",
            "Epoch 32/50\n",
            "7/7 [==============================] - 0s 7ms/step - loss: 0.8090 - accuracy: 0.7315 - val_loss: 0.6527 - val_accuracy: 0.5833\n",
            "Epoch 33/50\n",
            "7/7 [==============================] - 0s 7ms/step - loss: 0.7952 - accuracy: 0.7593 - val_loss: 0.6318 - val_accuracy: 0.5833\n",
            "Epoch 34/50\n",
            "7/7 [==============================] - 0s 7ms/step - loss: 0.7812 - accuracy: 0.7593 - val_loss: 0.6126 - val_accuracy: 0.5833\n",
            "Epoch 35/50\n",
            "7/7 [==============================] - 0s 6ms/step - loss: 0.7691 - accuracy: 0.7685 - val_loss: 0.5957 - val_accuracy: 0.5833\n",
            "Epoch 36/50\n",
            "7/7 [==============================] - 0s 7ms/step - loss: 0.7574 - accuracy: 0.7778 - val_loss: 0.5821 - val_accuracy: 0.5833\n",
            "Epoch 37/50\n",
            "7/7 [==============================] - 0s 7ms/step - loss: 0.7476 - accuracy: 0.7963 - val_loss: 0.5708 - val_accuracy: 0.5833\n",
            "Epoch 38/50\n",
            "7/7 [==============================] - 0s 7ms/step - loss: 0.7393 - accuracy: 0.8056 - val_loss: 0.5620 - val_accuracy: 0.5833\n",
            "Epoch 39/50\n",
            "7/7 [==============================] - 0s 8ms/step - loss: 0.7324 - accuracy: 0.8056 - val_loss: 0.5547 - val_accuracy: 0.5833\n",
            "Epoch 40/50\n",
            "7/7 [==============================] - 0s 6ms/step - loss: 0.7265 - accuracy: 0.8056 - val_loss: 0.5485 - val_accuracy: 0.5833\n",
            "Epoch 41/50\n",
            "7/7 [==============================] - 0s 7ms/step - loss: 0.7213 - accuracy: 0.8148 - val_loss: 0.5426 - val_accuracy: 0.5833\n",
            "Epoch 42/50\n",
            "7/7 [==============================] - 0s 6ms/step - loss: 0.7165 - accuracy: 0.8241 - val_loss: 0.5368 - val_accuracy: 0.8333\n",
            "Epoch 43/50\n",
            "7/7 [==============================] - 0s 6ms/step - loss: 0.7120 - accuracy: 0.8519 - val_loss: 0.5317 - val_accuracy: 0.8333\n",
            "Epoch 44/50\n",
            "7/7 [==============================] - 0s 6ms/step - loss: 0.7080 - accuracy: 0.8611 - val_loss: 0.5281 - val_accuracy: 0.8333\n",
            "Epoch 45/50\n",
            "7/7 [==============================] - 0s 6ms/step - loss: 0.7039 - accuracy: 0.8704 - val_loss: 0.5236 - val_accuracy: 0.8333\n",
            "Epoch 46/50\n",
            "7/7 [==============================] - 0s 6ms/step - loss: 0.7005 - accuracy: 0.8889 - val_loss: 0.5191 - val_accuracy: 0.9167\n",
            "Epoch 47/50\n",
            "7/7 [==============================] - 0s 7ms/step - loss: 0.6967 - accuracy: 0.9074 - val_loss: 0.5163 - val_accuracy: 0.9167\n",
            "Epoch 48/50\n",
            "7/7 [==============================] - 0s 7ms/step - loss: 0.6934 - accuracy: 0.9167 - val_loss: 0.5127 - val_accuracy: 0.9167\n",
            "Epoch 49/50\n",
            "7/7 [==============================] - 0s 8ms/step - loss: 0.6899 - accuracy: 0.9352 - val_loss: 0.5096 - val_accuracy: 0.9167\n",
            "Epoch 50/50\n",
            "7/7 [==============================] - 0s 7ms/step - loss: 0.6868 - accuracy: 0.9444 - val_loss: 0.5059 - val_accuracy: 1.0000\n"
          ],
          "name": "stdout"
        },
        {
          "output_type": "execute_result",
          "data": {
            "text/plain": [
              "<tensorflow.python.keras.callbacks.History at 0x7f61644995c0>"
            ]
          },
          "metadata": {
            "tags": []
          },
          "execution_count": 5
        }
      ]
    },
    {
      "cell_type": "code",
      "metadata": {
        "id": "IaNue74-2rn8",
        "colab_type": "code",
        "colab": {
          "base_uri": "https://localhost:8080/",
          "height": 34
        },
        "outputId": "ee807ca6-20ac-4963-981e-4a24a1267b49"
      },
      "source": [
        "test_loss, test_accuracy = model_DNN.evaluate(x=X_test_std, y=y_test)"
      ],
      "execution_count": 6,
      "outputs": [
        {
          "output_type": "stream",
          "text": [
            "1/1 [==============================] - 0s 1ms/step - loss: 0.6676 - accuracy: 0.9333\n"
          ],
          "name": "stdout"
        }
      ]
    },
    {
      "cell_type": "code",
      "metadata": {
        "id": "dGqq9DlM2tb2",
        "colab_type": "code",
        "colab": {
          "base_uri": "https://localhost:8080/",
          "height": 34
        },
        "outputId": "d934a0a6-0a8a-4232-b361-a69f20f434a2"
      },
      "source": [
        "print(test_loss, test_accuracy)\n",
        "# 0.6650057435035706 0.93333334"
      ],
      "execution_count": 7,
      "outputs": [
        {
          "output_type": "stream",
          "text": [
            "0.6675716638565063 0.9333333373069763\n"
          ],
          "name": "stdout"
        }
      ]
    },
    {
      "cell_type": "code",
      "metadata": {
        "id": "VGGm8zT82unI",
        "colab_type": "code",
        "colab": {}
      },
      "source": [
        ""
      ],
      "execution_count": null,
      "outputs": []
    }
  ]
}