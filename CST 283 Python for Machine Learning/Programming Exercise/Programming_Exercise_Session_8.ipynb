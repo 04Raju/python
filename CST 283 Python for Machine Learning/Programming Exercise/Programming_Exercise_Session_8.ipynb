{
  "nbformat": 4,
  "nbformat_minor": 0,
  "metadata": {
    "colab": {
      "name": "Programming Exercise - Session 8",
      "provenance": []
    },
    "kernelspec": {
      "name": "python3",
      "display_name": "Python 3"
    }
  },
  "cells": [
    {
      "cell_type": "markdown",
      "metadata": {
        "id": "QXZfRTtV33F-",
        "colab_type": "text"
      },
      "source": [
        "#1. Write a Python program which accepts the user's first and last name and print them in reverse order with a space between them."
      ]
    },
    {
      "cell_type": "code",
      "metadata": {
        "id": "JSOEPf0Z36UR",
        "colab_type": "code",
        "colab": {
          "base_uri": "https://localhost:8080/"
        },
        "outputId": "cf87fd07-fb9d-4495-f048-00fbe9b35ce1"
      },
      "source": [
        "fname = input(\"Input your First Name : \")\n",
        "lname = input(\"Input your Last Name : \")\n",
        "print (lname + \" \" + fname)"
      ],
      "execution_count": null,
      "outputs": [
        {
          "output_type": "stream",
          "text": [
            "Input your First Name : Gopika\n",
            "Input your Last Name : Suresh\n",
            "Hello  Suresh Gopika\n"
          ],
          "name": "stdout"
        }
      ]
    },
    {
      "cell_type": "code",
      "metadata": {
        "id": "u-ABh9KkdSOP",
        "colab_type": "code",
        "colab": {}
      },
      "source": [
        ""
      ],
      "execution_count": null,
      "outputs": []
    },
    {
      "cell_type": "markdown",
      "metadata": {
        "id": "7O98ABPe4Hzs",
        "colab_type": "text"
      },
      "source": [
        "#2. Write a Python program which accepts the radius of a circle from the user and compute the area"
      ]
    },
    {
      "cell_type": "code",
      "metadata": {
        "id": "TrhSNyTn4CBJ",
        "colab_type": "code",
        "colab": {
          "base_uri": "https://localhost:8080/"
        },
        "outputId": "3929e41f-3e4b-4d5d-f467-3b23b6b25d12"
      },
      "source": [
        "from math import pi\n",
        "r = float(input (\"Input the radius of the circle : \"))\n",
        "print (\"The area of the circle with radius \" + str(r) + \" is: \" + str(pi * r**2))\n"
      ],
      "execution_count": null,
      "outputs": [
        {
          "output_type": "stream",
          "text": [
            "Input the radius of the circle : 10.5\n",
            "The area of the circle with radius 10.5 is: 346.3605900582747\n"
          ],
          "name": "stdout"
        }
      ]
    },
    {
      "cell_type": "markdown",
      "metadata": {
        "id": "DxO9mWYG4oBL",
        "colab_type": "text"
      },
      "source": [
        "#3. Write a Python program that accepts an integer (n) and computes the value of n+nn+nnn."
      ]
    },
    {
      "cell_type": "code",
      "metadata": {
        "id": "UNKvbU4m4oxO",
        "colab_type": "code",
        "colab": {
          "base_uri": "https://localhost:8080/"
        },
        "outputId": "41da9cb7-bfff-4e79-89ad-943d1b02474b"
      },
      "source": [
        "a = int(input(\"Input an integer : \"))\n",
        "n1 = int( \"%s\" % a )\n",
        "n2 = int( \"%s%s\" % (a,a) )\n",
        "n3 = int( \"%s%s%s\" % (a,a,a) )\n",
        "print(n1)\n",
        "print(n2)\n",
        "print(n3)\n",
        "print (n1+n2+n3)"
      ],
      "execution_count": null,
      "outputs": [
        {
          "output_type": "stream",
          "text": [
            "Input an integer : 2\n",
            "2\n",
            "22\n",
            "222\n",
            "246\n"
          ],
          "name": "stdout"
        }
      ]
    },
    {
      "cell_type": "markdown",
      "metadata": {
        "id": "4zonrp1w5ERL",
        "colab_type": "text"
      },
      "source": [
        "#4. Write a Python program to get the volume of a sphere with radius 6"
      ]
    },
    {
      "cell_type": "code",
      "metadata": {
        "id": "nY83ljJi5Mbd",
        "colab_type": "code",
        "colab": {
          "base_uri": "https://localhost:8080/"
        },
        "outputId": "e6fb1a2d-991b-498c-fc32-a3c8b42b565d"
      },
      "source": [
        "from math import pi\n",
        "r= 6.0\n",
        "V= 4.0/3.0*pi* r**3\n",
        "print('The volume of the sphere is: ',V)"
      ],
      "execution_count": null,
      "outputs": [
        {
          "output_type": "stream",
          "text": [
            "The volume of the sphere is:  904.7786842338603\n"
          ],
          "name": "stdout"
        }
      ]
    },
    {
      "cell_type": "markdown",
      "metadata": {
        "id": "4A5vofLl5kR1",
        "colab_type": "text"
      },
      "source": [
        "#5. Write a Python program to get the difference between a given number and 10, if the number is greater than 10 return double the absolute difference."
      ]
    },
    {
      "cell_type": "markdown",
      "metadata": {
        "id": "T8YLWgTz5mBZ",
        "colab_type": "text"
      },
      "source": [
        ""
      ]
    },
    {
      "cell_type": "code",
      "metadata": {
        "id": "XJW3Gweo5lFB",
        "colab_type": "code",
        "colab": {
          "base_uri": "https://localhost:8080/",
          "height": 67
        },
        "outputId": "fcc1f011-571b-4967-a687-ae21434d7146"
      },
      "source": [
        "def difference(n):\n",
        "    if n <= 10:\n",
        "        return 10 - n\n",
        "    else:\n",
        "        return (n - 10) * 2 \n",
        "\n",
        "print(difference(22))\n",
        "print(difference(7))\n",
        "print(difference(3))"
      ],
      "execution_count": null,
      "outputs": [
        {
          "output_type": "stream",
          "text": [
            "24\n",
            "3\n",
            "7\n"
          ],
          "name": "stdout"
        }
      ]
    },
    {
      "cell_type": "markdown",
      "metadata": {
        "id": "_fLyP6L36BSd",
        "colab_type": "text"
      },
      "source": [
        "#6. Write a Python program to calculate the sum of three given numbers, if the values are equal then return thrice of their sum."
      ]
    },
    {
      "cell_type": "markdown",
      "metadata": {
        "id": "VAkDNT9C6C37",
        "colab_type": "text"
      },
      "source": [
        ""
      ]
    },
    {
      "cell_type": "code",
      "metadata": {
        "id": "da4Hxj0L6CJ6",
        "colab_type": "code",
        "colab": {
          "base_uri": "https://localhost:8080/",
          "height": 50
        },
        "outputId": "ed02cc4f-6306-486a-f82b-3282e5c64052"
      },
      "source": [
        "def sum_thrice(x, y, z):\n",
        "\n",
        "     sum = x + y + z\n",
        "  \n",
        "     if x == y == z:\n",
        "      sum = sum * 3\n",
        "     return sum\n",
        "\n",
        "print(sum_thrice(1, 2, 3))\n",
        "print(sum_thrice(10, 10, 10))"
      ],
      "execution_count": null,
      "outputs": [
        {
          "output_type": "stream",
          "text": [
            "6\n",
            "90\n"
          ],
          "name": "stdout"
        }
      ]
    },
    {
      "cell_type": "code",
      "metadata": {
        "id": "-Z-xPKiPmdTM",
        "colab_type": "code",
        "colab": {
          "base_uri": "https://localhost:8080/",
          "height": 34
        },
        "outputId": "c6942296-0932-4f3f-b056-bf970c702e42"
      },
      "source": [
        "sum=0\n",
        "for i in range(5):\n",
        "    sum=sum+i\n",
        "    if i == 3:\n",
        "        break\n",
        "print (sum)"
      ],
      "execution_count": null,
      "outputs": [
        {
          "output_type": "stream",
          "text": [
            "6\n"
          ],
          "name": "stdout"
        }
      ]
    },
    {
      "cell_type": "code",
      "metadata": {
        "id": "-zK4o6y1FVdt",
        "colab_type": "code",
        "colab": {
          "base_uri": "https://localhost:8080/",
          "height": 34
        },
        "outputId": "7936b29f-068a-41e5-f5b6-d69fe5d5d7ad"
      },
      "source": [
        "sum=0\n",
        "for i in range(5):\n",
        "    sum=sum+i\n",
        "    if i == 3:\n",
        "        continue\n",
        "print (sum)"
      ],
      "execution_count": null,
      "outputs": [
        {
          "output_type": "stream",
          "text": [
            "10\n"
          ],
          "name": "stdout"
        }
      ]
    },
    {
      "cell_type": "code",
      "metadata": {
        "id": "DdZsQlESGc3I",
        "colab_type": "code",
        "colab": {}
      },
      "source": [
        "def func1():\n",
        " pass # Add real code here later\n",
        "def func2():\n",
        " ...\n",
        "def func3():\n",
        " pass\n",
        " ...\n",
        " print(\"Above two are placeholders\")"
      ],
      "execution_count": null,
      "outputs": []
    },
    {
      "cell_type": "code",
      "metadata": {
        "id": "0WwwdexubFz7",
        "colab_type": "code",
        "colab": {}
      },
      "source": [
        "func1()"
      ],
      "execution_count": null,
      "outputs": []
    },
    {
      "cell_type": "code",
      "metadata": {
        "id": "q0mEkIGNbIUF",
        "colab_type": "code",
        "colab": {}
      },
      "source": [
        "func2()"
      ],
      "execution_count": null,
      "outputs": []
    },
    {
      "cell_type": "code",
      "metadata": {
        "id": "840f2ev1bPvH",
        "colab_type": "code",
        "colab": {
          "base_uri": "https://localhost:8080/",
          "height": 35
        },
        "outputId": "fab443f4-8c44-41d7-ae69-d3a812ee0786"
      },
      "source": [
        "func3()"
      ],
      "execution_count": null,
      "outputs": [
        {
          "output_type": "stream",
          "text": [
            "Above two are placeholders\n"
          ],
          "name": "stdout"
        }
      ]
    },
    {
      "cell_type": "markdown",
      "metadata": {
        "id": "UbIcNcoDcdNS",
        "colab_type": "text"
      },
      "source": [
        "#7. Write a Python program to calculate the sum of first n numbers using while loop"
      ]
    },
    {
      "cell_type": "code",
      "metadata": {
        "id": "USObrqfRbdwX",
        "colab_type": "code",
        "colab": {
          "base_uri": "https://localhost:8080/",
          "height": 120
        },
        "outputId": "e7196efd-547e-40fc-fd0f-cba2ea31dbfa"
      },
      "source": [
        "sum = 0\n",
        "count = 0\n",
        "\n",
        "while(True):\n",
        "    count = count + 1\n",
        "    print(count)\n",
        "    sum = sum + count \n",
        "    #print(sum)\n",
        "    if count== 5:\n",
        "        break\n",
        "print(\"Sum of first\",count,\"numbers is: \", sum)\n"
      ],
      "execution_count": null,
      "outputs": [
        {
          "output_type": "stream",
          "text": [
            "1\n",
            "2\n",
            "3\n",
            "4\n",
            "5\n",
            "Sum of first 5 numbers is:  15\n"
          ],
          "name": "stdout"
        }
      ]
    },
    {
      "cell_type": "code",
      "metadata": {
        "id": "uL1BOwdIi49V",
        "colab_type": "code",
        "colab": {}
      },
      "source": [
        ""
      ],
      "execution_count": null,
      "outputs": []
    },
    {
      "cell_type": "markdown",
      "metadata": {
        "id": "VOsT-L9GdPRd",
        "colab_type": "text"
      },
      "source": [
        "#7. Write a Python program to calculate the sum of first n numbers using for loop"
      ]
    },
    {
      "cell_type": "code",
      "metadata": {
        "id": "GhSOWYRUi6EX",
        "colab_type": "code",
        "colab": {}
      },
      "source": [
        ""
      ],
      "execution_count": null,
      "outputs": []
    },
    {
      "cell_type": "code",
      "metadata": {
        "id": "8KDOh_2GcfUL",
        "colab_type": "code",
        "colab": {
          "base_uri": "https://localhost:8080/",
          "height": 34
        },
        "outputId": "b7cf90ff-164e-4d3a-fa85-2eba515850f7"
      },
      "source": [
        "sum = 0\n",
        "for count in range(100):\n",
        "    sum = sum + count\n",
        "    #print(sum)\n",
        "    if count== 5:\n",
        "        break\n",
        "print(\"Sum of first\",count,\"numbers is: \", sum)\n"
      ],
      "execution_count": null,
      "outputs": [
        {
          "output_type": "stream",
          "text": [
            "Sum of first 5 numbers is:  15\n"
          ],
          "name": "stdout"
        }
      ]
    },
    {
      "cell_type": "code",
      "metadata": {
        "id": "6DhPGS83i7X5",
        "colab_type": "code",
        "colab": {}
      },
      "source": [
        ""
      ],
      "execution_count": null,
      "outputs": []
    },
    {
      "cell_type": "code",
      "metadata": {
        "id": "0PtMNOUHdrcm",
        "colab_type": "code",
        "colab": {}
      },
      "source": [
        ""
      ],
      "execution_count": null,
      "outputs": []
    },
    {
      "cell_type": "markdown",
      "metadata": {
        "id": "cnhkvUtgi9Vs",
        "colab_type": "text"
      },
      "source": [
        ""
      ]
    },
    {
      "cell_type": "code",
      "metadata": {
        "id": "vfuF180Pi-bu",
        "colab_type": "code",
        "colab": {}
      },
      "source": [
        "def func1():\n",
        "  print(\"There was a pass here\")"
      ],
      "execution_count": null,
      "outputs": []
    },
    {
      "cell_type": "code",
      "metadata": {
        "id": "3UP5WF_bi_np",
        "colab_type": "code",
        "colab": {
          "base_uri": "https://localhost:8080/",
          "height": 34
        },
        "outputId": "d4e28bf3-574b-431b-aadb-747d6375cf6e"
      },
      "source": [
        "func1()"
      ],
      "execution_count": null,
      "outputs": [
        {
          "output_type": "stream",
          "text": [
            "There was a pass here\n"
          ],
          "name": "stdout"
        }
      ]
    },
    {
      "cell_type": "code",
      "metadata": {
        "id": "TYQbg8dZjBRa",
        "colab_type": "code",
        "colab": {
          "base_uri": "https://localhost:8080/",
          "height": 129
        },
        "outputId": "67a26d7f-a40e-43ed-9042-a4517e5975da"
      },
      "source": [
        "def func2(s)\n"
      ],
      "execution_count": null,
      "outputs": [
        {
          "output_type": "error",
          "ename": "SyntaxError",
          "evalue": "ignored",
          "traceback": [
            "\u001b[0;36m  File \u001b[0;32m\"<ipython-input-7-511fcac40205>\"\u001b[0;36m, line \u001b[0;32m1\u001b[0m\n\u001b[0;31m    def func2(s)\u001b[0m\n\u001b[0m                ^\u001b[0m\n\u001b[0;31mSyntaxError\u001b[0m\u001b[0;31m:\u001b[0m invalid syntax\n"
          ]
        }
      ]
    },
    {
      "cell_type": "code",
      "metadata": {
        "id": "2OG8njHpjIEt",
        "colab_type": "code",
        "colab": {}
      },
      "source": [
        ""
      ],
      "execution_count": null,
      "outputs": []
    }
  ]
}