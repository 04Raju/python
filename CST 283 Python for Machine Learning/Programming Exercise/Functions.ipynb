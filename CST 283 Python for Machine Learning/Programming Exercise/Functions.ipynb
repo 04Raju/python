{
  "nbformat": 4,
  "nbformat_minor": 0,
  "metadata": {
    "colab": {
      "name": "Functions",
      "provenance": []
    },
    "kernelspec": {
      "name": "python3",
      "display_name": "Python 3"
    }
  },
  "cells": [
    {
      "cell_type": "markdown",
      "metadata": {
        "id": "zxAZQWzDOo_O",
        "colab_type": "text"
      },
      "source": [
        "#Functions"
      ]
    },
    {
      "cell_type": "code",
      "metadata": {
        "id": "ysw1QBlGsArN",
        "colab_type": "code",
        "colab": {
          "base_uri": "https://localhost:8080/",
          "height": 170
        },
        "outputId": "669fff7f-9501-4028-8d83-6a3f29af514b"
      },
      "source": [
        "help(round)"
      ],
      "execution_count": 1,
      "outputs": [
        {
          "output_type": "stream",
          "text": [
            "Help on built-in function round in module builtins:\n",
            "\n",
            "round(...)\n",
            "    round(number[, ndigits]) -> number\n",
            "    \n",
            "    Round a number to a given precision in decimal digits (default 0 digits).\n",
            "    This returns an int when called with one argument, otherwise the\n",
            "    same type as the number. ndigits may be negative.\n",
            "\n"
          ],
          "name": "stdout"
        }
      ]
    },
    {
      "cell_type": "code",
      "metadata": {
        "id": "MXThcYylOnVj",
        "colab_type": "code",
        "colab": {
          "base_uri": "https://localhost:8080/",
          "height": 34
        },
        "outputId": "70914f61-c56f-4e74-ea62-61842fab768c"
      },
      "source": [
        "round(6.6)"
      ],
      "execution_count": 3,
      "outputs": [
        {
          "output_type": "execute_result",
          "data": {
            "text/plain": [
              "7"
            ]
          },
          "metadata": {
            "tags": []
          },
          "execution_count": 3
        }
      ]
    },
    {
      "cell_type": "markdown",
      "metadata": {
        "id": "tmYWXEoROGhZ",
        "colab_type": "text"
      },
      "source": [
        "the round function has one required argument"
      ]
    },
    {
      "cell_type": "code",
      "metadata": {
        "id": "677nQ6NpONVA",
        "colab_type": "code",
        "colab": {
          "base_uri": "https://localhost:8080/",
          "height": 34
        },
        "outputId": "f5238e0f-aee3-47d6-ebd5-37d8c1b24105"
      },
      "source": [
        "round(7.563, 2)"
      ],
      "execution_count": 14,
      "outputs": [
        {
          "output_type": "execute_result",
          "data": {
            "text/plain": [
              "7.56"
            ]
          },
          "metadata": {
            "tags": []
          },
          "execution_count": 14
        }
      ]
    },
    {
      "cell_type": "markdown",
      "metadata": {
        "id": "YhIRWOm-ONlA",
        "colab_type": "text"
      },
      "source": [
        "when a second, optional argument is supplied, this argument, a number,\n",
        "indicates the number of places of precision to which the first argument\n",
        "should be rounded"
      ]
    },
    {
      "cell_type": "code",
      "metadata": {
        "id": "ZXEbmTQIs5Lv",
        "colab_type": "code",
        "colab": {
          "base_uri": "https://localhost:8080/",
          "height": 34
        },
        "outputId": "69786857-4dd5-4aea-add5-d1402568b81f"
      },
      "source": [
        "4-7"
      ],
      "execution_count": 9,
      "outputs": [
        {
          "output_type": "execute_result",
          "data": {
            "text/plain": [
              "-3"
            ]
          },
          "metadata": {
            "tags": []
          },
          "execution_count": 9
        }
      ]
    },
    {
      "cell_type": "code",
      "metadata": {
        "id": "iQRt9citNyyh",
        "colab_type": "code",
        "colab": {
          "base_uri": "https://localhost:8080/",
          "height": 34
        },
        "outputId": "b5e833fb-885a-4655-bca5-d8256dca2cb0"
      },
      "source": [
        "abs(4-7)"
      ],
      "execution_count": 8,
      "outputs": [
        {
          "output_type": "execute_result",
          "data": {
            "text/plain": [
              "3"
            ]
          },
          "metadata": {
            "tags": []
          },
          "execution_count": 8
        }
      ]
    },
    {
      "cell_type": "code",
      "metadata": {
        "id": "z0HXdWT5N0Rw",
        "colab_type": "code",
        "colab": {
          "base_uri": "https://localhost:8080/",
          "height": 34
        },
        "outputId": "eea446f6-9575-4ddc-c648-8670fce4f762"
      },
      "source": [
        "print(abs(9-10-1) + 3)"
      ],
      "execution_count": 12,
      "outputs": [
        {
          "output_type": "stream",
          "text": [
            "5\n"
          ],
          "name": "stdout"
        }
      ]
    },
    {
      "cell_type": "code",
      "metadata": {
        "id": "VXivLcTdud9R",
        "colab_type": "code",
        "colab": {}
      },
      "source": [
        "def sumoftwo(x,y):\n",
        "  print(x+y)"
      ],
      "execution_count": 15,
      "outputs": []
    },
    {
      "cell_type": "code",
      "metadata": {
        "id": "dL7e7P0Euk7N",
        "colab_type": "code",
        "colab": {
          "base_uri": "https://localhost:8080/",
          "height": 34
        },
        "outputId": "3833647f-72f5-4182-af77-d5fd614e1487"
      },
      "source": [
        "sumoftwo(1,2)"
      ],
      "execution_count": 16,
      "outputs": [
        {
          "output_type": "stream",
          "text": [
            "3\n"
          ],
          "name": "stdout"
        }
      ]
    },
    {
      "cell_type": "code",
      "metadata": {
        "id": "hQ4L1YJIuphy",
        "colab_type": "code",
        "colab": {}
      },
      "source": [
        "def sumoftwo(x,y):\n",
        "  return (x+y)/2"
      ],
      "execution_count": 20,
      "outputs": []
    },
    {
      "cell_type": "code",
      "metadata": {
        "id": "rNi3EHQWuuO2",
        "colab_type": "code",
        "colab": {
          "base_uri": "https://localhost:8080/",
          "height": 34
        },
        "outputId": "08a62e28-5c09-4599-ad0c-43987ba9d44a"
      },
      "source": [
        "result =sum_of_two(1,2)\n",
        "result_rounded=round(result)\n",
        "print(result_rounded)"
      ],
      "execution_count": 22,
      "outputs": [
        {
          "output_type": "stream",
          "text": [
            "2\n"
          ],
          "name": "stdout"
        }
      ]
    },
    {
      "cell_type": "code",
      "metadata": {
        "id": "cT0QHwdMvEsy",
        "colab_type": "code",
        "colab": {}
      },
      "source": [
        ""
      ],
      "execution_count": null,
      "outputs": []
    },
    {
      "cell_type": "markdown",
      "metadata": {
        "id": "jxsSlYMUN_rD",
        "colab_type": "text"
      },
      "source": [
        "Some functions have only optional arguments, some have required\n",
        "arguments, and some have both required and optional arguments."
      ]
    },
    {
      "cell_type": "markdown",
      "metadata": {
        "id": "X3-OnhBeOdUH",
        "colab_type": "text"
      },
      "source": [
        "Each argument passed to a function has a specific data type"
      ]
    },
    {
      "cell_type": "markdown",
      "metadata": {
        "id": "MmAtp8U6Og73",
        "colab_type": "text"
      },
      "source": [
        "A program that attempts to pass an argument of the wrong data\n",
        "type to a function will usually generate an error."
      ]
    },
    {
      "cell_type": "code",
      "metadata": {
        "id": "EKMscZhVN6LE",
        "colab_type": "code",
        "colab": {
          "base_uri": "https://localhost:8080/",
          "height": 173
        },
        "outputId": "71f133d1-8b0d-4ec4-e17f-90273ae8be33"
      },
      "source": [
        "help(round)"
      ],
      "execution_count": null,
      "outputs": [
        {
          "output_type": "stream",
          "text": [
            "Help on built-in function round in module builtins:\n",
            "\n",
            "round(...)\n",
            "    round(number[, ndigits]) -> number\n",
            "    \n",
            "    Round a number to a given precision in decimal digits (default 0 digits).\n",
            "    This returns an int when called with one argument, otherwise the\n",
            "    same type as the number. ndigits may be negative.\n",
            "\n"
          ],
          "name": "stdout"
        }
      ]
    },
    {
      "cell_type": "code",
      "metadata": {
        "id": "YlTBiK0LOl9H",
        "colab_type": "code",
        "colab": {}
      },
      "source": [
        ""
      ],
      "execution_count": null,
      "outputs": []
    },
    {
      "cell_type": "markdown",
      "metadata": {
        "id": "h-PuApWhPCx6",
        "colab_type": "text"
      },
      "source": [
        "Functions Examples & Math Module"
      ]
    },
    {
      "cell_type": "code",
      "metadata": {
        "id": "VutyLKkqPB3g",
        "colab_type": "code",
        "colab": {}
      },
      "source": [
        "import math"
      ],
      "execution_count": 23,
      "outputs": []
    },
    {
      "cell_type": "code",
      "metadata": {
        "id": "OUERP2mVQC6g",
        "colab_type": "code",
        "colab": {
          "base_uri": "https://localhost:8080/",
          "height": 935
        },
        "outputId": "b4f9ee0f-2128-4c81-ec34-c507a980b0c1"
      },
      "source": [
        "dir(math)"
      ],
      "execution_count": 24,
      "outputs": [
        {
          "output_type": "execute_result",
          "data": {
            "text/plain": [
              "['__doc__',\n",
              " '__loader__',\n",
              " '__name__',\n",
              " '__package__',\n",
              " '__spec__',\n",
              " 'acos',\n",
              " 'acosh',\n",
              " 'asin',\n",
              " 'asinh',\n",
              " 'atan',\n",
              " 'atan2',\n",
              " 'atanh',\n",
              " 'ceil',\n",
              " 'copysign',\n",
              " 'cos',\n",
              " 'cosh',\n",
              " 'degrees',\n",
              " 'e',\n",
              " 'erf',\n",
              " 'erfc',\n",
              " 'exp',\n",
              " 'expm1',\n",
              " 'fabs',\n",
              " 'factorial',\n",
              " 'floor',\n",
              " 'fmod',\n",
              " 'frexp',\n",
              " 'fsum',\n",
              " 'gamma',\n",
              " 'gcd',\n",
              " 'hypot',\n",
              " 'inf',\n",
              " 'isclose',\n",
              " 'isfinite',\n",
              " 'isinf',\n",
              " 'isnan',\n",
              " 'ldexp',\n",
              " 'lgamma',\n",
              " 'log',\n",
              " 'log10',\n",
              " 'log1p',\n",
              " 'log2',\n",
              " 'modf',\n",
              " 'nan',\n",
              " 'pi',\n",
              " 'pow',\n",
              " 'radians',\n",
              " 'sin',\n",
              " 'sinh',\n",
              " 'sqrt',\n",
              " 'tan',\n",
              " 'tanh',\n",
              " 'tau',\n",
              " 'trunc']"
            ]
          },
          "metadata": {
            "tags": []
          },
          "execution_count": 24
        }
      ]
    },
    {
      "cell_type": "markdown",
      "metadata": {
        "id": "LAeq8DYLQJ8a",
        "colab_type": "text"
      },
      "source": [
        "To use a resource from a module, you write the name of a module as a qualifier,\n",
        "followed by a dot (.) and the name of the resource."
      ]
    },
    {
      "cell_type": "code",
      "metadata": {
        "id": "FviKAb7RQDmr",
        "colab_type": "code",
        "colab": {
          "base_uri": "https://localhost:8080/",
          "height": 34
        },
        "outputId": "55ae3e5d-a6e5-4867-e430-8a42cb55e262"
      },
      "source": [
        "math.pi"
      ],
      "execution_count": 25,
      "outputs": [
        {
          "output_type": "execute_result",
          "data": {
            "text/plain": [
              "3.141592653589793"
            ]
          },
          "metadata": {
            "tags": []
          },
          "execution_count": 25
        }
      ]
    },
    {
      "cell_type": "code",
      "metadata": {
        "id": "Qp9GRI_0QOcj",
        "colab_type": "code",
        "colab": {
          "base_uri": "https://localhost:8080/",
          "height": 34
        },
        "outputId": "89de251e-9b9e-4ac9-ae35-f2e93ce5dace"
      },
      "source": [
        "math.sqrt(16)"
      ],
      "execution_count": 27,
      "outputs": [
        {
          "output_type": "execute_result",
          "data": {
            "text/plain": [
              "4.0"
            ]
          },
          "metadata": {
            "tags": []
          },
          "execution_count": 27
        }
      ]
    },
    {
      "cell_type": "code",
      "metadata": {
        "id": "dpJ2bqz-QPp3",
        "colab_type": "code",
        "colab": {
          "base_uri": "https://localhost:8080/",
          "height": 34
        },
        "outputId": "672d2b29-ca97-425f-b9c3-7973be8bcb5c"
      },
      "source": [
        "math.cos(90)"
      ],
      "execution_count": 28,
      "outputs": [
        {
          "output_type": "execute_result",
          "data": {
            "text/plain": [
              "-0.4480736161291701"
            ]
          },
          "metadata": {
            "tags": []
          },
          "execution_count": 28
        }
      ]
    },
    {
      "cell_type": "code",
      "metadata": {
        "id": "RHPOpH9FQagb",
        "colab_type": "code",
        "colab": {
          "base_uri": "https://localhost:8080/",
          "height": 136
        },
        "outputId": "54e18a42-2fc7-458d-c6a1-739152877593"
      },
      "source": [
        "help(math.cos)"
      ],
      "execution_count": 29,
      "outputs": [
        {
          "output_type": "stream",
          "text": [
            "Help on built-in function cos in module math:\n",
            "\n",
            "cos(...)\n",
            "    cos(x)\n",
            "    \n",
            "    Return the cosine of x (measured in radians).\n",
            "\n"
          ],
          "name": "stdout"
        }
      ]
    },
    {
      "cell_type": "markdown",
      "metadata": {
        "id": "f7TxQ-h1QZ0y",
        "colab_type": "text"
      },
      "source": [
        "radian = radian x 180/π degree"
      ]
    },
    {
      "cell_type": "code",
      "metadata": {
        "id": "BFI5mHdyQaBS",
        "colab_type": "code",
        "colab": {
          "base_uri": "https://localhost:8080/",
          "height": 34
        },
        "outputId": "f8a93c2a-9513-4b20-aba5-618d2f00b73a"
      },
      "source": [
        "math.cos(0)"
      ],
      "execution_count": 30,
      "outputs": [
        {
          "output_type": "execute_result",
          "data": {
            "text/plain": [
              "1.0"
            ]
          },
          "metadata": {
            "tags": []
          },
          "execution_count": 30
        }
      ]
    },
    {
      "cell_type": "markdown",
      "metadata": {
        "id": "t1J1JVaiRdI-",
        "colab_type": "text"
      },
      "source": [
        "If you are going to use only a couple of a module’s resources frequently, you\n",
        "can avoid the use of the qualifier with each reference by importing the individual\n",
        "resources, as follows"
      ]
    },
    {
      "cell_type": "code",
      "metadata": {
        "id": "sh-LIrbezAQl",
        "colab_type": "code",
        "colab": {
          "base_uri": "https://localhost:8080/",
          "height": 35
        },
        "outputId": "da77c514-034c-4b5b-b1e2-297d9953df34"
      },
      "source": [
        "pow(2,3)"
      ],
      "execution_count": 32,
      "outputs": [
        {
          "output_type": "execute_result",
          "data": {
            "text/plain": [
              "8"
            ]
          },
          "metadata": {
            "tags": []
          },
          "execution_count": 32
        }
      ]
    },
    {
      "cell_type": "code",
      "metadata": {
        "id": "gytUfgknRaWe",
        "colab_type": "code",
        "colab": {}
      },
      "source": [
        "from math import pi, sqrt"
      ],
      "execution_count": 31,
      "outputs": []
    },
    {
      "cell_type": "markdown",
      "metadata": {
        "id": "o_qTxsO9R8gF",
        "colab_type": "text"
      },
      "source": [
        "#The math module includes a pow function that raises a number to a given power. The first argument is the number, and the second argument is the exponent. Write a code segment that imports this function and calls it to print the values 8^2 and 5^4."
      ]
    },
    {
      "cell_type": "code",
      "metadata": {
        "id": "KbEf3SUeR9Pb",
        "colab_type": "code",
        "colab": {
          "base_uri": "https://localhost:8080/",
          "height": 52
        },
        "outputId": "1c04c9d5-58c2-4d93-95ae-5d6881cc9387"
      },
      "source": [
        "from math import pow\n",
        "print(pow(8,2))\n",
        "print(pow(5,4))"
      ],
      "execution_count": 33,
      "outputs": [
        {
          "output_type": "stream",
          "text": [
            "64.0\n",
            "625.0\n"
          ],
          "name": "stdout"
        }
      ]
    },
    {
      "cell_type": "code",
      "metadata": {
        "id": "QXdgBzZt0Xox",
        "colab_type": "code",
        "colab": {}
      },
      "source": [
        "from math import pow"
      ],
      "execution_count": 34,
      "outputs": []
    },
    {
      "cell_type": "code",
      "metadata": {
        "id": "5bR4Hiay0Vhx",
        "colab_type": "code",
        "colab": {}
      },
      "source": [
        "def power_of_no():\n",
        "  number=int(input(\"Number\"))\n",
        "  power=int(input(\"Power\"))\n",
        "  result=pow(number,power)\n",
        "  return result"
      ],
      "execution_count": 37,
      "outputs": []
    },
    {
      "cell_type": "code",
      "metadata": {
        "id": "ULNDNJM60W7-",
        "colab_type": "code",
        "colab": {
          "base_uri": "https://localhost:8080/",
          "height": 69
        },
        "outputId": "f76ab0b8-f3d3-468f-81ef-f247132eb2e5"
      },
      "source": [
        "power_of_no()"
      ],
      "execution_count": 38,
      "outputs": [
        {
          "output_type": "stream",
          "text": [
            "Number8\n",
            "Power2\n"
          ],
          "name": "stdout"
        },
        {
          "output_type": "execute_result",
          "data": {
            "text/plain": [
              "64.0"
            ]
          },
          "metadata": {
            "tags": []
          },
          "execution_count": 38
        }
      ]
    },
    {
      "cell_type": "markdown",
      "metadata": {
        "id": "zp6Jd4RVSV80",
        "colab_type": "text"
      },
      "source": [
        "#You can calculate the surface area of a cube if you know the length of an edge. Write a program that takes the length of an edge (an integer) as input and prints the cube’s surface area as output."
      ]
    },
    {
      "cell_type": "code",
      "metadata": {
        "id": "cpGv6_MnSXpl",
        "colab_type": "code",
        "colab": {
          "base_uri": "https://localhost:8080/",
          "height": 52
        },
        "outputId": "7be3ed52-f6b9-445c-cbf4-f5bed73c9f0f"
      },
      "source": [
        "from math import pow\n",
        "a = int(input(\"Length of an edge : \"))\n",
        "surface_area = 6*pow(a,2)\n",
        "print(\"Surface area of cube:\",surface_area)"
      ],
      "execution_count": 45,
      "outputs": [
        {
          "output_type": "stream",
          "text": [
            "Length of an edge : 3\n",
            "Surface area of cube: 54.0\n"
          ],
          "name": "stdout"
        }
      ]
    },
    {
      "cell_type": "code",
      "metadata": {
        "id": "aVlVhVAX2zk0",
        "colab_type": "code",
        "colab": {}
      },
      "source": [
        "2 24\n",
        "3 54\n",
        "4 96"
      ],
      "execution_count": null,
      "outputs": []
    },
    {
      "cell_type": "markdown",
      "metadata": {
        "id": "f0JpLZN8TjQU",
        "colab_type": "text"
      },
      "source": [
        "#Write a Python program which accepts the radius of a circle from the user and compute the area"
      ]
    },
    {
      "cell_type": "code",
      "metadata": {
        "id": "0OXhThPLS5V7",
        "colab_type": "code",
        "colab": {
          "base_uri": "https://localhost:8080/",
          "height": 52
        },
        "outputId": "8af93c7d-d1d2-4f11-e2cd-0d22b0c26d0f"
      },
      "source": [
        "from math import pow,pi\n",
        "r = float(input (\"Input the radius of the circle : \"))\n",
        "print(\"Area\",pi*pow(r,2))"
      ],
      "execution_count": 46,
      "outputs": [
        {
          "output_type": "stream",
          "text": [
            "Input the radius of the circle : 2\n",
            "Area 12.566370614359172\n"
          ],
          "name": "stdout"
        }
      ]
    },
    {
      "cell_type": "markdown",
      "metadata": {
        "id": "90WmqpuPT8lq",
        "colab_type": "text"
      },
      "source": [
        "#Write a Python program to get the volume of a sphere with radius 6"
      ]
    },
    {
      "cell_type": "code",
      "metadata": {
        "id": "_cAOc-2TTz_p",
        "colab_type": "code",
        "colab": {
          "base_uri": "https://localhost:8080/",
          "height": 52
        },
        "outputId": "b2934220-d20e-4be4-8c1a-d60c0b1f18c5"
      },
      "source": [
        "from math import pow,pi\n",
        "r = float(input (\"Input the radius of the sphere : \"))\n",
        "print(\"Area\",4/3*pi*pow(r,3))"
      ],
      "execution_count": 48,
      "outputs": [
        {
          "output_type": "stream",
          "text": [
            "Input the radius of the sphere : 3\n",
            "Area 113.09733552923254\n"
          ],
          "name": "stdout"
        }
      ]
    },
    {
      "cell_type": "markdown",
      "metadata": {
        "id": "w3b_vivgUuym",
        "colab_type": "text"
      },
      "source": [
        "#Write a python program to print multiplication table of a number"
      ]
    },
    {
      "cell_type": "code",
      "metadata": {
        "id": "7B9wpiUzUGM-",
        "colab_type": "code",
        "colab": {}
      },
      "source": [
        "def table(number,start,end): \n",
        "\tfor i in range (start, end+1): \n",
        "\t\tprint (\"%d * %d = %d\" % (number, i, number * i) )"
      ],
      "execution_count": null,
      "outputs": []
    },
    {
      "cell_type": "code",
      "metadata": {
        "id": "krI7n8UBUxk1",
        "colab_type": "code",
        "colab": {
          "base_uri": "https://localhost:8080/",
          "height": 191
        },
        "outputId": "a351bcde-508e-4b80-b65e-41c4ccaced1e"
      },
      "source": [
        "table(5,1,10)"
      ],
      "execution_count": null,
      "outputs": [
        {
          "output_type": "stream",
          "text": [
            "5 * 1 = 5\n",
            "5 * 2 = 10\n",
            "5 * 3 = 15\n",
            "5 * 4 = 20\n",
            "5 * 5 = 25\n",
            "5 * 6 = 30\n",
            "5 * 7 = 35\n",
            "5 * 8 = 40\n",
            "5 * 9 = 45\n",
            "5 * 10 = 50\n"
          ],
          "name": "stdout"
        }
      ]
    },
    {
      "cell_type": "code",
      "metadata": {
        "id": "45QzGc2lUzab",
        "colab_type": "code",
        "colab": {}
      },
      "source": [
        ""
      ],
      "execution_count": null,
      "outputs": []
    }
  ]
}