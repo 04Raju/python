{
  "nbformat": 4,
  "nbformat_minor": 0,
  "metadata": {
    "colab": {
      "name": "Case Study: Income Tax Calculator",
      "provenance": []
    },
    "kernelspec": {
      "name": "python3",
      "display_name": "Python 3"
    }
  },
  "cells": [
    {
      "cell_type": "markdown",
      "metadata": {
        "id": "4xF7fXNbMe4j",
        "colab_type": "text"
      },
      "source": [
        "#Case Study: Income Tax Calculator"
      ]
    },
    {
      "cell_type": "markdown",
      "metadata": {
        "id": "PrxnES9jMe3C",
        "colab_type": "text"
      },
      "source": [
        "Each year, nearly everyone with an income faces the unpleasant task of computing\n",
        "his or her income tax return. If only it could be done as easily as suggested\n",
        "in this case study."
      ]
    },
    {
      "cell_type": "markdown",
      "metadata": {
        "id": "4s61kytmMp8L",
        "colab_type": "text"
      },
      "source": [
        "##Request"
      ]
    },
    {
      "cell_type": "markdown",
      "metadata": {
        "id": "yEK31eb5Mt7w",
        "colab_type": "text"
      },
      "source": [
        "The customer requests a program that computes a person’s income tax."
      ]
    },
    {
      "cell_type": "markdown",
      "metadata": {
        "id": "YV31X8nuMwJx",
        "colab_type": "text"
      },
      "source": [
        "##Analysis"
      ]
    },
    {
      "cell_type": "markdown",
      "metadata": {
        "id": "R6TKopo_Mxco",
        "colab_type": "text"
      },
      "source": [
        "Analysis often requires the programmer to learn some things about the problem\n",
        "domain, in this case, the relevant tax law."
      ]
    },
    {
      "cell_type": "markdown",
      "metadata": {
        "id": "8x2rOtICMxiq",
        "colab_type": "text"
      },
      "source": [
        "\n",
        "\n",
        "*   All taxpayers are charged a flat tax rate of 20%.\n",
        "*   All taxpayers are allowed a 10000 standard deduction.\n",
        "*   For each dependent, a taxpayer is allowed an additional 3000 deduction.\n",
        "*   Gross income must be entered to the nearest rupees.\n",
        "*   The income tax is expressed as a decimal number.\n",
        "\n",
        "\n",
        "\n",
        "\n",
        "\n",
        "\n"
      ]
    },
    {
      "cell_type": "markdown",
      "metadata": {
        "id": "fRmYym6fMxmn",
        "colab_type": "text"
      },
      "source": [
        "Another part of analysis determines what information the user will have to\n",
        "provide. In this case, the user inputs are gross income and number of dependents.\n",
        "The program calculates the income tax based on the inputs and the tax law and\n",
        "then displays the income tax."
      ]
    },
    {
      "cell_type": "code",
      "metadata": {
        "id": "BxiBOfllNpKa",
        "colab_type": "code",
        "colab": {
          "base_uri": "https://localhost:8080/",
          "height": 67
        },
        "outputId": "704f0dd1-e6f7-4f23-c2c9-8a469f21e5f0"
      },
      "source": [
        "gross = int(input(\"Enter the gross income:\"))\n",
        "dependents = int(input(\"Enter the number of dependents:\"))\n",
        "print(\"The income tax is:\")\n",
        "\n",
        "\n"
      ],
      "execution_count": 11,
      "outputs": [
        {
          "output_type": "stream",
          "text": [
            "Enter the gross income:2\n",
            "Enter the number of dependents:4\n",
            "The income tax is:\n"
          ],
          "name": "stdout"
        }
      ]
    },
    {
      "cell_type": "markdown",
      "metadata": {
        "id": "6LgZ1duKMxqs",
        "colab_type": "text"
      },
      "source": [
        "##Design"
      ]
    },
    {
      "cell_type": "markdown",
      "metadata": {
        "id": "EFY30Rn6MxvO",
        "colab_type": "text"
      },
      "source": [
        "During analysis, we specify what a program is going to do. In the next phase, design,\n",
        "we describe how the program is going to do it. This usually involves writing an\n",
        "algorithm. Algorithms are more often written in a somewhat stylized version of English\n",
        "called pseudocode."
      ]
    },
    {
      "cell_type": "code",
      "metadata": {
        "id": "SXguX7QIOcH8",
        "colab_type": "code",
        "colab": {}
      },
      "source": [
        "#Input the gross income and number of dependents\n",
        "#Compute the taxable income using the formula\n",
        "#Taxable income = gross income - 10000 - (3000 * number of dependents)\n",
        "#Compute the income tax using the formula\n",
        "#Tax = taxable income * 0.20\n",
        "#Print the tax"
      ],
      "execution_count": 12,
      "outputs": []
    },
    {
      "cell_type": "markdown",
      "metadata": {
        "id": "sDuwSuRpMxyX",
        "colab_type": "text"
      },
      "source": [
        "##Implementation (Coding)"
      ]
    },
    {
      "cell_type": "markdown",
      "metadata": {
        "id": "PDs5qTMCMxuF",
        "colab_type": "text"
      },
      "source": [
        "Given the preceding pseudocode, an experienced programmer would now find it\n",
        "easy to write the corresponding Python program."
      ]
    },
    {
      "cell_type": "code",
      "metadata": {
        "id": "-9PdubGkMnty",
        "colab_type": "code",
        "colab": {}
      },
      "source": [
        "TAX_RATE=0.20\n",
        "STANDARD_DEDUCTION=10000.0\n",
        "DEPENDENT_DEDUCTION=3000.0"
      ],
      "execution_count": 14,
      "outputs": []
    },
    {
      "cell_type": "code",
      "metadata": {
        "id": "hFT01h5vPGCS",
        "colab_type": "code",
        "colab": {
          "base_uri": "https://localhost:8080/",
          "height": 67
        },
        "outputId": "8a930304-1c1e-48ac-dfc9-b8cb65879c49"
      },
      "source": [
        "grossIncome = float(input(\"Enter the gross income: \"))\n",
        "numDependents = int(input(\"Enter the number of dependents: \"))\n",
        "# Compute the income tax\n",
        "taxableIncome = grossIncome - STANDARD_DEDUCTION - \\\n",
        "                DEPENDENT_DEDUCTION * numDependents\n",
        "incomeTax = taxableIncome * TAX_RATE\n",
        "# Display the income tax\n",
        "print(\"The income tax is Rupees\" + str(incomeTax))"
      ],
      "execution_count": 16,
      "outputs": [
        {
          "output_type": "stream",
          "text": [
            "Enter the gross income: 6000\n",
            "Enter the number of dependents: 4\n",
            "The income tax is Rupees-3200.0\n"
          ],
          "name": "stdout"
        }
      ]
    },
    {
      "cell_type": "markdown",
      "metadata": {
        "id": "TWzGrlBNPgKN",
        "colab_type": "text"
      },
      "source": [
        "##Testing"
      ]
    },
    {
      "cell_type": "markdown",
      "metadata": {
        "id": "H5iuUWHfPr-O",
        "colab_type": "text"
      },
      "source": [
        "A single run without syntax errors and with correct outputs provides\n",
        "just a slight indication of a program’s correctness. Testing is a deliberate\n",
        "process that requires some planning and discipline on the programmer’s part."
      ]
    },
    {
      "cell_type": "markdown",
      "metadata": {
        "id": "tng878ebQDmx",
        "colab_type": "text"
      },
      "source": [
        "The programmer just\n",
        "loads the program repeatedly into the shell and enters different sets of inputs. The\n",
        "real challenge is coming up with sets of inputs that can reveal an error. An error at\n",
        "this point, also called a logic error or a design error, is an unexpected output"
      ]
    },
    {
      "cell_type": "markdown",
      "metadata": {
        "id": "ibQN2D74QJN-",
        "colab_type": "text"
      },
      "source": [
        "A correct program produces the expected output for any legitimate input."
      ]
    },
    {
      "cell_type": "markdown",
      "metadata": {
        "id": "V-tWr2bXQVL4",
        "colab_type": "text"
      },
      "source": [
        "Even though the range of\n",
        "the input numbers on a computer is finite, testing all of the possible combinations\n",
        "of inputs would be impractical. The challenge is to find a smaller set of inputs,\n",
        "called a test suite"
      ]
    },
    {
      "cell_type": "markdown",
      "metadata": {
        "id": "7w4pqXGjQm3B",
        "colab_type": "text"
      },
      "source": [
        "In the tax program, we try inputs of 0, 1, and 2 for the number of dependents.\n",
        "The test inputs for the gross income are a number equal to the standard deduction and a number twice that amount (10000 and 20000, respectively)."
      ]
    },
    {
      "cell_type": "code",
      "metadata": {
        "id": "RCFJ8tKgQoXp",
        "colab_type": "code",
        "colab": {}
      },
      "source": [
        ""
      ],
      "execution_count": null,
      "outputs": []
    }
  ]
}