{
  "nbformat": 4,
  "nbformat_minor": 0,
  "metadata": {
    "colab": {
      "name": "CST 283 Module 1 - 1.5 & 1.6",
      "provenance": [],
      "toc_visible": true
    },
    "kernelspec": {
      "name": "python3",
      "display_name": "Python 3"
    }
  },
  "cells": [
    {
      "cell_type": "markdown",
      "metadata": {
        "id": "5GbEBPKo1A9V",
        "colab_type": "text"
      },
      "source": [
        "1.5 Basic coding skills: Working with data types, Numeric data types and Character sets, Keywords, Variables and Assignment statement, Operators, Expressions\n",
        "1.6 Working with numeric data, Type conversions, Comments in the program\n"
      ]
    },
    {
      "cell_type": "markdown",
      "metadata": {
        "id": "1TiFbt3q4-B2",
        "colab_type": "text"
      },
      "source": [
        "#Data Types"
      ]
    },
    {
      "cell_type": "markdown",
      "metadata": {
        "id": "9QcbQKiI4_jB",
        "colab_type": "text"
      },
      "source": [
        "In the real world, we use data all the time without bothering to consider what\n",
        "kind of data we’re using. For example, consider this sentence: “I bought 2.5 kg of apple for Rs. 250” "
      ]
    },
    {
      "cell_type": "markdown",
      "metadata": {
        "id": "7V87W5Ng5Jxq",
        "colab_type": "text"
      },
      "source": [
        "When we use data in a computer program, we do need to keep in mind the type of data we’re using."
      ]
    },
    {
      "cell_type": "markdown",
      "metadata": {
        "id": "b4ZeGTSc5g8D",
        "colab_type": "text"
      },
      "source": [
        "In programming, a data type consists of a set of values and a set of operations\n",
        "that can be performed on those values"
      ]
    },
    {
      "cell_type": "markdown",
      "metadata": {
        "id": "yDiRQSRs5pRp",
        "colab_type": "text"
      },
      "source": [
        "A literal is the way a value of a data\n",
        "type looks to a programmer. The programmer can use a literal in a program to\n",
        "mention a data value."
      ]
    },
    {
      "cell_type": "markdown",
      "metadata": {
        "id": "qW3n3GHo5yzQ",
        "colab_type": "text"
      },
      "source": [
        " * int -1, 0, 1, 2\n",
        " * float -0.55, .3333, 3.14, 6.0\n",
        " * str “Hi”, “”, 'A', '66'"
      ]
    },
    {
      "cell_type": "markdown",
      "metadata": {
        "id": "BxQpBXNz6FNq",
        "colab_type": "text"
      },
      "source": [
        "#String Literals\n",
        "In Python, a string literal is a sequence of characters enclosed in single or double quotation marks."
      ]
    },
    {
      "cell_type": "code",
      "metadata": {
        "id": "s-r10-K-6Swo",
        "colab_type": "code",
        "colab": {
          "base_uri": "https://localhost:8080/",
          "height": 35
        },
        "outputId": "669afb49-2bba-40e7-8d8a-52e2e1f91ced"
      },
      "source": [
        "'Hello there!'"
      ],
      "execution_count": 2,
      "outputs": [
        {
          "output_type": "execute_result",
          "data": {
            "application/vnd.google.colaboratory.intrinsic+json": {
              "type": "string"
            },
            "text/plain": [
              "'Hello there!'"
            ]
          },
          "metadata": {
            "tags": []
          },
          "execution_count": 2
        }
      ]
    },
    {
      "cell_type": "code",
      "metadata": {
        "id": "w9Mkc2dK6Yde",
        "colab_type": "code",
        "colab": {
          "base_uri": "https://localhost:8080/",
          "height": 35
        },
        "outputId": "d8930233-9c3d-45e0-c979-9d819a7c8b05"
      },
      "source": [
        "\"Hello there!\""
      ],
      "execution_count": 3,
      "outputs": [
        {
          "output_type": "execute_result",
          "data": {
            "application/vnd.google.colaboratory.intrinsic+json": {
              "type": "string"
            },
            "text/plain": [
              "'Hello there!'"
            ]
          },
          "metadata": {
            "tags": []
          },
          "execution_count": 3
        }
      ]
    },
    {
      "cell_type": "markdown",
      "metadata": {
        "id": "ph5y68uq6nBW",
        "colab_type": "text"
      },
      "source": [
        "(' ' and \" \") represent the empty string"
      ]
    },
    {
      "cell_type": "code",
      "metadata": {
        "id": "Gk8CO6Yt6jH6",
        "colab_type": "code",
        "colab": {
          "base_uri": "https://localhost:8080/",
          "height": 35
        },
        "outputId": "939f0dbc-500f-4ac1-d981-80f3e8c3fb5a"
      },
      "source": [
        "''"
      ],
      "execution_count": 6,
      "outputs": [
        {
          "output_type": "execute_result",
          "data": {
            "application/vnd.google.colaboratory.intrinsic+json": {
              "type": "string"
            },
            "text/plain": [
              "''"
            ]
          },
          "metadata": {
            "tags": []
          },
          "execution_count": 6
        }
      ]
    },
    {
      "cell_type": "code",
      "metadata": {
        "id": "_fiYgjzn6l3n",
        "colab_type": "code",
        "colab": {
          "base_uri": "https://localhost:8080/",
          "height": 35
        },
        "outputId": "9d79796a-83f1-4dcf-ed83-1ecd8fce7f57"
      },
      "source": [
        "\"\""
      ],
      "execution_count": 5,
      "outputs": [
        {
          "output_type": "execute_result",
          "data": {
            "application/vnd.google.colaboratory.intrinsic+json": {
              "type": "string"
            },
            "text/plain": [
              "''"
            ]
          },
          "metadata": {
            "tags": []
          },
          "execution_count": 5
        }
      ]
    },
    {
      "cell_type": "markdown",
      "metadata": {
        "id": "bQ-_K5k46zfG",
        "colab_type": "text"
      },
      "source": [
        "Empty string is different from a string that contains a single blank space character, \"  \"."
      ]
    },
    {
      "cell_type": "code",
      "metadata": {
        "id": "oDyRGJp964_5",
        "colab_type": "code",
        "colab": {
          "base_uri": "https://localhost:8080/",
          "height": 35
        },
        "outputId": "aa99f37e-33f1-4b7a-c0e3-37878305e6ef"
      },
      "source": [
        "\" \""
      ],
      "execution_count": 7,
      "outputs": [
        {
          "output_type": "execute_result",
          "data": {
            "application/vnd.google.colaboratory.intrinsic+json": {
              "type": "string"
            },
            "text/plain": [
              "' '"
            ]
          },
          "metadata": {
            "tags": []
          },
          "execution_count": 7
        }
      ]
    },
    {
      "cell_type": "code",
      "metadata": {
        "id": "1IGTrJbZ67WT",
        "colab_type": "code",
        "colab": {
          "base_uri": "https://localhost:8080/",
          "height": 34
        },
        "outputId": "70287819-e6f8-4eef-c1bb-8a403c0804d1"
      },
      "source": [
        "\"\" == \" \" "
      ],
      "execution_count": 9,
      "outputs": [
        {
          "output_type": "execute_result",
          "data": {
            "text/plain": [
              "False"
            ]
          },
          "metadata": {
            "tags": []
          },
          "execution_count": 9
        }
      ]
    },
    {
      "cell_type": "markdown",
      "metadata": {
        "id": "UcjEkfNJ7FTe",
        "colab_type": "text"
      },
      "source": [
        "Double-quoted strings are handy for composing strings that contain single\n",
        "quotation marks or apostrophes."
      ]
    },
    {
      "cell_type": "code",
      "metadata": {
        "id": "x50Volw37Gol",
        "colab_type": "code",
        "colab": {
          "base_uri": "https://localhost:8080/",
          "height": 35
        },
        "outputId": "5500bc54-24c9-4da4-cadf-85138c933ff8"
      },
      "source": [
        "\"Hello, I'am Angel\""
      ],
      "execution_count": 10,
      "outputs": [
        {
          "output_type": "execute_result",
          "data": {
            "application/vnd.google.colaboratory.intrinsic+json": {
              "type": "string"
            },
            "text/plain": [
              "\"Hello, I'am Angel\""
            ]
          },
          "metadata": {
            "tags": []
          },
          "execution_count": 10
        }
      ]
    },
    {
      "cell_type": "code",
      "metadata": {
        "id": "NUjBGQUb7gKA",
        "colab_type": "code",
        "colab": {
          "base_uri": "https://localhost:8080/",
          "height": 34
        },
        "outputId": "5a5d8df6-badd-4d90-bc85-a8636493b6a6"
      },
      "source": [
        "print(\"Hello, I'am Angel\")"
      ],
      "execution_count": 11,
      "outputs": [
        {
          "output_type": "stream",
          "text": [
            "Hello, I'am Angel\n"
          ],
          "name": "stdout"
        }
      ]
    },
    {
      "cell_type": "markdown",
      "metadata": {
        "id": "cwmkClpc7mhZ",
        "colab_type": "text"
      },
      "source": [
        "A double quotation mark can also be included in a\n",
        "string literal if one uses the single quotation marks to enclose the literal"
      ]
    },
    {
      "cell_type": "code",
      "metadata": {
        "id": "si3Ah44-7_2z",
        "colab_type": "code",
        "colab": {
          "base_uri": "https://localhost:8080/",
          "height": 51
        },
        "outputId": "ce25acf6-c768-4d1f-8d63-1d8ac81f1d3b"
      },
      "source": [
        "print(\"\"\"Note that the first line in the output ends exactly where the first line ends in\n",
        "the code\"\"\")"
      ],
      "execution_count": 13,
      "outputs": [
        {
          "output_type": "stream",
          "text": [
            "Note that the first line in the output ends exactly where the first line ends in\n",
            "the code\n"
          ],
          "name": "stdout"
        }
      ]
    },
    {
      "cell_type": "code",
      "metadata": {
        "id": "QC43hEMk8VZS",
        "colab_type": "code",
        "colab": {
          "base_uri": "https://localhost:8080/",
          "height": 52
        },
        "outputId": "8606ba9c-bdc8-473d-b645-a1019464b2af"
      },
      "source": [
        "\"\"\"When you evaluate a string in the Python shell without the print function,\n",
        "you can see the literal for the newline character, \\n\"\"\""
      ],
      "execution_count": 15,
      "outputs": [
        {
          "output_type": "execute_result",
          "data": {
            "application/vnd.google.colaboratory.intrinsic+json": {
              "type": "string"
            },
            "text/plain": [
              "'When you evaluate a string in the Python shell without the print function,\\nyou can see the literal for the newline character, \\n'"
            ]
          },
          "metadata": {
            "tags": []
          },
          "execution_count": 15
        }
      ]
    },
    {
      "cell_type": "markdown",
      "metadata": {
        "id": "_2WzRjFB8a39",
        "colab_type": "text"
      },
      "source": [
        "#Escape Sequences"
      ]
    },
    {
      "cell_type": "markdown",
      "metadata": {
        "id": "l0ah1Qb98hk1",
        "colab_type": "text"
      },
      "source": [
        "The newline character \\n is called an escape sequence. Escape sequences are the\n",
        "way Python expresses special characters, such as the tab, the newline, and the\n",
        "backspace (delete key), as literals."
      ]
    },
    {
      "cell_type": "markdown",
      "metadata": {
        "id": "Rw3TAfbZ8kto",
        "colab_type": "text"
      },
      "source": [
        "* \\b Backspace\n",
        "* \\n Newline\n",
        "* \\t Horizontal tab\n",
        "* \\\\ The \\ character\n",
        "* \\' Single quotation mark\n",
        "* \\\" Double quotation mark"
      ]
    },
    {
      "cell_type": "markdown",
      "metadata": {
        "id": "rqcsRr8u84c3",
        "colab_type": "text"
      },
      "source": [
        "**Because the backslash is used for escape sequences, it must be escaped to\n",
        "appear as a literal character in a string. Thus, print(“\\\\”) would display a single\n",
        "\\ character**"
      ]
    },
    {
      "cell_type": "code",
      "metadata": {
        "id": "Tp3UxOCR898_",
        "colab_type": "code",
        "colab": {
          "base_uri": "https://localhost:8080/",
          "height": 34
        },
        "outputId": "e540c982-635b-4ed3-d7c1-48d2d68332f1"
      },
      "source": [
        " print(\"\\\\\")"
      ],
      "execution_count": 17,
      "outputs": [
        {
          "output_type": "stream",
          "text": [
            "\\\n"
          ],
          "name": "stdout"
        }
      ]
    },
    {
      "cell_type": "markdown",
      "metadata": {
        "id": "aNaXjHgQ9cgF",
        "colab_type": "text"
      },
      "source": [
        "#String Concatenation"
      ]
    },
    {
      "cell_type": "code",
      "metadata": {
        "id": "BNP9FsV-9dwx",
        "colab_type": "code",
        "colab": {
          "base_uri": "https://localhost:8080/",
          "height": 35
        },
        "outputId": "08c03369-f90d-444e-f5df-5f3b52b6726f"
      },
      "source": [
        "\"Hi\" + \"There\""
      ],
      "execution_count": 18,
      "outputs": [
        {
          "output_type": "execute_result",
          "data": {
            "application/vnd.google.colaboratory.intrinsic+json": {
              "type": "string"
            },
            "text/plain": [
              "'HiThere'"
            ]
          },
          "metadata": {
            "tags": []
          },
          "execution_count": 18
        }
      ]
    },
    {
      "cell_type": "markdown",
      "metadata": {
        "id": "9Z4l4voj91H7",
        "colab_type": "text"
      },
      "source": [
        "The * operator allows you to build a string by repeating another string a given\n",
        "number of times"
      ]
    },
    {
      "cell_type": "code",
      "metadata": {
        "id": "LLto2Qkm9mCg",
        "colab_type": "code",
        "colab": {
          "base_uri": "https://localhost:8080/",
          "height": 35
        },
        "outputId": "62fd2e63-5db5-4e18-d6d5-f5f69b53a875"
      },
      "source": [
        "\"Hello\"*5"
      ],
      "execution_count": 19,
      "outputs": [
        {
          "output_type": "execute_result",
          "data": {
            "application/vnd.google.colaboratory.intrinsic+json": {
              "type": "string"
            },
            "text/plain": [
              "'HelloHelloHelloHelloHello'"
            ]
          },
          "metadata": {
            "tags": []
          },
          "execution_count": 19
        }
      ]
    },
    {
      "cell_type": "code",
      "metadata": {
        "id": "3ynA3a199xha",
        "colab_type": "code",
        "colab": {
          "base_uri": "https://localhost:8080/",
          "height": 35
        },
        "outputId": "c34a7ac5-3aca-4037-cee8-4de64067210a"
      },
      "source": [
        "10*\"Hi\""
      ],
      "execution_count": 20,
      "outputs": [
        {
          "output_type": "execute_result",
          "data": {
            "application/vnd.google.colaboratory.intrinsic+json": {
              "type": "string"
            },
            "text/plain": [
              "'HiHiHiHiHiHiHiHiHiHi'"
            ]
          },
          "metadata": {
            "tags": []
          },
          "execution_count": 20
        }
      ]
    },
    {
      "cell_type": "markdown",
      "metadata": {
        "id": "S6Ph2_VP947E",
        "colab_type": "text"
      },
      "source": [
        "#Variables and the Assignment Statement"
      ]
    },
    {
      "cell_type": "markdown",
      "metadata": {
        "id": "XUbxB8Kp-ZRt",
        "colab_type": "text"
      },
      "source": [
        "You need to be mindful of a few\n",
        "rules when choosing names for your variables. For example, some names, such as\n",
        "if, def, and import, are reserved for other purposes and thus cannot be used for\n",
        "variable names."
      ]
    },
    {
      "cell_type": "code",
      "metadata": {
        "id": "cHachtxs_AtH",
        "colab_type": "code",
        "colab": {
          "base_uri": "https://localhost:8080/",
          "height": 129
        },
        "outputId": "e6caab32-4484-468f-b2e3-1c656960aa6f"
      },
      "source": [
        "def = 4"
      ],
      "execution_count": 25,
      "outputs": [
        {
          "output_type": "error",
          "ename": "SyntaxError",
          "evalue": "ignored",
          "traceback": [
            "\u001b[0;36m  File \u001b[0;32m\"<ipython-input-25-d6a56edf0fb5>\"\u001b[0;36m, line \u001b[0;32m1\u001b[0m\n\u001b[0;31m    def = 4\u001b[0m\n\u001b[0m        ^\u001b[0m\n\u001b[0;31mSyntaxError\u001b[0m\u001b[0;31m:\u001b[0m invalid syntax\n"
          ]
        }
      ]
    },
    {
      "cell_type": "code",
      "metadata": {
        "id": "9XSRHFe1_EKs",
        "colab_type": "code",
        "colab": {}
      },
      "source": [
        "Def = 4"
      ],
      "execution_count": 26,
      "outputs": []
    },
    {
      "cell_type": "markdown",
      "metadata": {
        "id": "hyRpf-DQ-f7F",
        "colab_type": "text"
      },
      "source": [
        "Variable name must begin with either a letter or an\n",
        "underscore ( _), and can contain any number of letters, digits, or other underscores.\n",
        "Python variable names are case sensitive; thus, the variable WEIGHT is a different\n",
        "name from the variable weight."
      ]
    },
    {
      "cell_type": "code",
      "metadata": {
        "id": "Cp-jDbbh-zUW",
        "colab_type": "code",
        "colab": {}
      },
      "source": [
        "weight = 8\n",
        "Weight = 9\n",
        "WEIGHT = 10\n"
      ],
      "execution_count": 23,
      "outputs": []
    },
    {
      "cell_type": "code",
      "metadata": {
        "id": "an3tSfq8-6ka",
        "colab_type": "code",
        "colab": {
          "base_uri": "https://localhost:8080/",
          "height": 34
        },
        "outputId": "9ae445ee-4315-42e0-95ca-2bb3ed7a9079"
      },
      "source": [
        "WEIGHT+Weight+weight"
      ],
      "execution_count": 24,
      "outputs": [
        {
          "output_type": "execute_result",
          "data": {
            "text/plain": [
              "27"
            ]
          },
          "metadata": {
            "tags": []
          },
          "execution_count": 24
        }
      ]
    },
    {
      "cell_type": "markdown",
      "metadata": {
        "id": "GTwQcHxO-phh",
        "colab_type": "text"
      },
      "source": [
        "Python programmers typically use lowercase letters\n",
        "for variable names, but in the case of variable names that consist of more than one\n",
        "word, it’s common to begin each word in the variable name (except for the first one)\n",
        "with an uppercase letter. This makes the variable name easier to read. For example,\n",
        "the name interestRate is slightly easier to read than the name interestrate"
      ]
    },
    {
      "cell_type": "code",
      "metadata": {
        "id": "EBxkAkYK-sw7",
        "colab_type": "code",
        "colab": {}
      },
      "source": [
        "interestRate = 9.8"
      ],
      "execution_count": 21,
      "outputs": []
    },
    {
      "cell_type": "code",
      "metadata": {
        "id": "scx0KJ81-wMO",
        "colab_type": "code",
        "colab": {}
      },
      "source": [
        "interestrate = 9.8"
      ],
      "execution_count": 22,
      "outputs": []
    },
    {
      "cell_type": "markdown",
      "metadata": {
        "id": "SBzICj0o-orN",
        "colab_type": "text"
      },
      "source": [
        "Programmers use all uppercase letters for the names of variables that contain\n",
        "values that the program never changes. Such variables are known as symbolic\n",
        "constants. Examples of symbolic constants in the tax calculator case study are\n",
        "TAX_RATE and STANDARD_DEDUCTION."
      ]
    },
    {
      "cell_type": "code",
      "metadata": {
        "id": "IVqJWoZs9p3g",
        "colab_type": "code",
        "colab": {}
      },
      "source": [
        "STANDARD_DEDUCTION = 10000"
      ],
      "execution_count": 27,
      "outputs": []
    },
    {
      "cell_type": "markdown",
      "metadata": {
        "id": "VTIqxnG__UGc",
        "colab_type": "text"
      },
      "source": [
        "The Python interpreter first evaluates the expression on the right side of the\n",
        "assignment symbol and then binds the variable name on the left side to this value.\n",
        "When this happens to the variable name for the first time, it is called defining or\n",
        "initializing the variable."
      ]
    },
    {
      "cell_type": "markdown",
      "metadata": {
        "id": "5M62E_VJ_UKz",
        "colab_type": "text"
      },
      "source": [
        "*After you initialize a variable, subsequent uses of the variable name in expressions\n",
        "are known as variable references*"
      ]
    },
    {
      "cell_type": "markdown",
      "metadata": {
        "id": "PVmvQHcL_UFL",
        "colab_type": "text"
      },
      "source": [
        "When the interpreter encounters a variable reference in any expression, it\n",
        "looks up the associated value. If a name is not yet bound to a value when it is referenced,\n",
        "Python signals an error"
      ]
    },
    {
      "cell_type": "code",
      "metadata": {
        "id": "f_8akQAp_iJu",
        "colab_type": "code",
        "colab": {
          "base_uri": "https://localhost:8080/",
          "height": 163
        },
        "outputId": "cedfabdf-6fea-4783-8dc2-429028bc5fc8"
      },
      "source": [
        "notinitializedvariable +1"
      ],
      "execution_count": 29,
      "outputs": [
        {
          "output_type": "error",
          "ename": "NameError",
          "evalue": "ignored",
          "traceback": [
            "\u001b[0;31m---------------------------------------------------------------------------\u001b[0m",
            "\u001b[0;31mNameError\u001b[0m                                 Traceback (most recent call last)",
            "\u001b[0;32m<ipython-input-29-01f903ab0184>\u001b[0m in \u001b[0;36m<module>\u001b[0;34m()\u001b[0m\n\u001b[0;32m----> 1\u001b[0;31m \u001b[0mnotinitializedvariable\u001b[0m \u001b[0;34m+\u001b[0m\u001b[0;36m1\u001b[0m\u001b[0;34m\u001b[0m\u001b[0;34m\u001b[0m\u001b[0m\n\u001b[0m",
            "\u001b[0;31mNameError\u001b[0m: name 'notinitializedvariable' is not defined"
          ]
        }
      ]
    },
    {
      "cell_type": "markdown",
      "metadata": {
        "id": "Cwjw1ygh_3C_",
        "colab_type": "text"
      },
      "source": [
        "The wise programmer selects names that inform the human reader about the\n",
        "purpose of the data. This, in turn, makes the program easier to maintain and\n",
        "troubleshoot"
      ]
    },
    {
      "cell_type": "markdown",
      "metadata": {
        "id": "AGRi0nnw_6Hh",
        "colab_type": "text"
      },
      "source": [
        "#Program Comments and Docstrings"
      ]
    },
    {
      "cell_type": "code",
      "metadata": {
        "id": "jMxn-wS7_8Z4",
        "colab_type": "code",
        "colab": {
          "base_uri": "https://localhost:8080/",
          "height": 86
        },
        "outputId": "83a672d9-c2ae-4811-a25c-5fe9c61e94db"
      },
      "source": [
        "\"\"\"\n",
        "We conclude this subsection on strings with a discussion of program comments.\n",
        "A comment is a piece of program text that the interpreter ignores but that provides\n",
        "useful documentation to programmers. At the very least, the author of a\n",
        "program can include his or her name and a brief statement about the purpose of\n",
        "the program at the beginning of the program file. This type of comment, called a\n",
        "docstring, is a multi-line string of the form discussed earlier in this section\n",
        "\"\"\""
      ],
      "execution_count": 31,
      "outputs": [
        {
          "output_type": "execute_result",
          "data": {
            "application/vnd.google.colaboratory.intrinsic+json": {
              "type": "string"
            },
            "text/plain": [
              "'\\nWe conclude this subsection on strings with a discussion of program comments.\\nA comment is a piece of program text that the interpreter ignores but that provides\\nuseful documentation to programmers. At the very least, the author of a\\nprogram can include his or her name and a brief statement about the purpose of\\nthe program at the beginning of the program file. This type of comment, called a\\ndocstring, is a multi-line string of the form discussed earlier in this section\\n'"
            ]
          },
          "metadata": {
            "tags": []
          },
          "execution_count": 31
        }
      ]
    },
    {
      "cell_type": "code",
      "metadata": {
        "id": "cuVNOJdOAKS-",
        "colab_type": "code",
        "colab": {
          "base_uri": "https://localhost:8080/",
          "height": 34
        },
        "outputId": "eff4ac59-679a-435d-d316-1697e464763b"
      },
      "source": [
        "print(3+4) #end-of-line comments can document a program"
      ],
      "execution_count": 32,
      "outputs": [
        {
          "output_type": "stream",
          "text": [
            "7\n"
          ],
          "name": "stdout"
        }
      ]
    },
    {
      "cell_type": "markdown",
      "metadata": {
        "id": "TJZvsKD8Acpg",
        "colab_type": "text"
      },
      "source": [
        "#2.3 Exercises"
      ]
    },
    {
      "cell_type": "code",
      "metadata": {
        "id": "1Z89lZUuAhBq",
        "colab_type": "code",
        "colab": {}
      },
      "source": [
        "#Assignment"
      ],
      "execution_count": 33,
      "outputs": []
    },
    {
      "cell_type": "markdown",
      "metadata": {
        "id": "u4RAGAom1M7J",
        "colab_type": "text"
      },
      "source": [
        "#Numeric Data Types and Character Sets"
      ]
    },
    {
      "cell_type": "markdown",
      "metadata": {
        "id": "8fSoDkWt3HKE",
        "colab_type": "text"
      },
      "source": [
        "##Integers"
      ]
    },
    {
      "cell_type": "markdown",
      "metadata": {
        "id": "SN9BChFlAr88",
        "colab_type": "text"
      },
      "source": [
        "integers include 0, all of the positive whole\n",
        "numbers, and all of the negative whole numbers. Integer literals in a Python\n",
        "program are written without commas, and a leading negative sign indicates a\n",
        "negative value."
      ]
    },
    {
      "cell_type": "markdown",
      "metadata": {
        "id": "amrXsOilAvFT",
        "colab_type": "text"
      },
      "source": [
        "Although the range of integers is infinite, a real computer’s memory places a\n",
        "limit on the magnitude of the largest positive and negative integers."
      ]
    },
    {
      "cell_type": "markdown",
      "metadata": {
        "id": "yOOvCfhjBFnk",
        "colab_type": "text"
      },
      "source": [
        "The most\n",
        "common implementation of the int data type in many programming languages\n",
        "consists of the integers from –2,147,483,648  to 2,147,483,647 ."
      ]
    },
    {
      "cell_type": "code",
      "metadata": {
        "id": "NTVUZc2BBKuP",
        "colab_type": "code",
        "colab": {
          "base_uri": "https://localhost:8080/",
          "height": 34
        },
        "outputId": "02d30e1d-b459-417d-ed2b-f7319f589772"
      },
      "source": [
        "-2 ** 31"
      ],
      "execution_count": 38,
      "outputs": [
        {
          "output_type": "execute_result",
          "data": {
            "text/plain": [
              "-2147483648"
            ]
          },
          "metadata": {
            "tags": []
          },
          "execution_count": 38
        }
      ]
    },
    {
      "cell_type": "code",
      "metadata": {
        "id": "DU__0EkyBNHK",
        "colab_type": "code",
        "colab": {
          "base_uri": "https://localhost:8080/",
          "height": 34
        },
        "outputId": "c835f514-5d6d-4245-9011-e7b8a7f282dd"
      },
      "source": [
        "2 ** 31 -1"
      ],
      "execution_count": 40,
      "outputs": [
        {
          "output_type": "execute_result",
          "data": {
            "text/plain": [
              "2147483647"
            ]
          },
          "metadata": {
            "tags": []
          },
          "execution_count": 40
        }
      ]
    },
    {
      "cell_type": "markdown",
      "metadata": {
        "id": "R6l58drvBV7t",
        "colab_type": "text"
      },
      "source": [
        "However, the magnitude of a long integer can be quite large, but is still limited\n",
        "by the memory of your particular computer"
      ]
    },
    {
      "cell_type": "code",
      "metadata": {
        "id": "NeBVlGvG1Fo7",
        "colab_type": "code",
        "colab": {
          "base_uri": "https://localhost:8080/",
          "height": 54
        },
        "outputId": "1829fe43-ffb5-40c4-f0c6-d95e09b21aa2"
      },
      "source": [
        "2147483647 ** 100"
      ],
      "execution_count": 37,
      "outputs": [
        {
          "output_type": "execute_result",
          "data": {
            "text/plain": [
              "1559504161927395313089766283611045095184166456156233474572085163357534654738797063887632014637816117949813926036684867553080514657188796504333086305507656255292147626596157171650991696270997903913691973920453877254050625132751713208473274559978772522497550811192776755602407364075634529283178128335706552086765396239448165459737793141402907183238647497654024973755952741379520745645870958605626343235697020840075679647145082222996064390762140673908300268662002180879073687369113921488295707635863472829803580804269052934322720811435538827271876112029482350303462059967133447720562624308817636009914920456247996909799730298364983515664000503090061376386042199774555980233518115819461110123209472665318189875269025720278552414135942180927121021664764131465472466171867442428454532973289516585065280294820721076055121847207284925582889142828119902308066037717895418435816952783409148916816161548451157299532676512533400184891943944192001"
            ]
          },
          "metadata": {
            "tags": []
          },
          "execution_count": 37
        }
      ]
    },
    {
      "cell_type": "markdown",
      "metadata": {
        "id": "cnrvbxGyBZu7",
        "colab_type": "text"
      },
      "source": [
        "##Floating-Point Numbers"
      ]
    },
    {
      "cell_type": "markdown",
      "metadata": {
        "id": "8oEF4NdZBgvv",
        "colab_type": "text"
      },
      "source": [
        "Real numbers have infinite\n",
        "precision, which means that the digits in the fractional part can continue forever."
      ]
    },
    {
      "cell_type": "markdown",
      "metadata": {
        "id": "z_S89CRFBlXk",
        "colab_type": "text"
      },
      "source": [
        "Python\n",
        "uses floating-point numbers to represent real numbers. A floating-point number can be written using either ordinary decimal notation\n",
        "or scientific notation"
      ]
    },
    {
      "cell_type": "code",
      "metadata": {
        "id": "ow3aR-swBcCT",
        "colab_type": "code",
        "colab": {
          "base_uri": "https://localhost:8080/",
          "height": 34
        },
        "outputId": "0536a9eb-9c3b-4af9-bace-05cc006a249f"
      },
      "source": [
        "0.378 #DECIMAL NOTATION"
      ],
      "execution_count": 46,
      "outputs": [
        {
          "output_type": "execute_result",
          "data": {
            "text/plain": [
              "0.378"
            ]
          },
          "metadata": {
            "tags": []
          },
          "execution_count": 46
        }
      ]
    },
    {
      "cell_type": "code",
      "metadata": {
        "id": "HDRFwQ6rBqQo",
        "colab_type": "code",
        "colab": {
          "base_uri": "https://localhost:8080/",
          "height": 34
        },
        "outputId": "b125fbf1-5402-478a-f756-230c6169a8d7"
      },
      "source": [
        "3.78e-1 #SCIENTIFIC NOTATION"
      ],
      "execution_count": 47,
      "outputs": [
        {
          "output_type": "execute_result",
          "data": {
            "text/plain": [
              "0.378"
            ]
          },
          "metadata": {
            "tags": []
          },
          "execution_count": 47
        }
      ]
    },
    {
      "cell_type": "code",
      "metadata": {
        "id": "AwKIAT0wCEHD",
        "colab_type": "code",
        "colab": {
          "base_uri": "https://localhost:8080/",
          "height": 34
        },
        "outputId": "947d6232-19cd-4dc1-df26-4c161281fb67"
      },
      "source": [
        "3.78 * 10 ** -1 #MEANING"
      ],
      "execution_count": 48,
      "outputs": [
        {
          "output_type": "execute_result",
          "data": {
            "text/plain": [
              "0.378"
            ]
          },
          "metadata": {
            "tags": []
          },
          "execution_count": 48
        }
      ]
    },
    {
      "cell_type": "code",
      "metadata": {
        "id": "Kke6yBS0CI62",
        "colab_type": "code",
        "colab": {
          "base_uri": "https://localhost:8080/",
          "height": 51
        },
        "outputId": "8347a4a8-07ca-4c41-a41b-ee3a743df024"
      },
      "source": [
        "print(3.78e3)\n",
        "print(3.78e-3)"
      ],
      "execution_count": 50,
      "outputs": [
        {
          "output_type": "stream",
          "text": [
            "3780.0\n",
            "0.00378\n"
          ],
          "name": "stdout"
        }
      ]
    },
    {
      "cell_type": "markdown",
      "metadata": {
        "id": "ddSNOh2KCto7",
        "colab_type": "text"
      },
      "source": [
        "##Character Sets"
      ]
    },
    {
      "cell_type": "markdown",
      "metadata": {
        "id": "H_xSWQpFDBvb",
        "colab_type": "text"
      },
      "source": [
        "ASCII character set maps to a set of integers"
      ]
    },
    {
      "cell_type": "code",
      "metadata": {
        "id": "JXoj0OFgClD0",
        "colab_type": "code",
        "colab": {
          "base_uri": "https://localhost:8080/",
          "height": 34
        },
        "outputId": "bdb64675-28e9-4518-8b08-89b8f51dd347"
      },
      "source": [
        "ord('a')"
      ],
      "execution_count": 51,
      "outputs": [
        {
          "output_type": "execute_result",
          "data": {
            "text/plain": [
              "97"
            ]
          },
          "metadata": {
            "tags": []
          },
          "execution_count": 51
        }
      ]
    },
    {
      "cell_type": "code",
      "metadata": {
        "id": "1L2gzg-MDFBh",
        "colab_type": "code",
        "colab": {
          "base_uri": "https://localhost:8080/",
          "height": 34
        },
        "outputId": "ec603d56-5d21-497f-d442-c2db43944e7e"
      },
      "source": [
        "ord('A')"
      ],
      "execution_count": 52,
      "outputs": [
        {
          "output_type": "execute_result",
          "data": {
            "text/plain": [
              "65"
            ]
          },
          "metadata": {
            "tags": []
          },
          "execution_count": 52
        }
      ]
    },
    {
      "cell_type": "code",
      "metadata": {
        "id": "cqnC4akIDH8L",
        "colab_type": "code",
        "colab": {
          "base_uri": "https://localhost:8080/",
          "height": 35
        },
        "outputId": "5f575b1a-4add-4a2c-ca2f-4b73e09dfc56"
      },
      "source": [
        "chr(65)"
      ],
      "execution_count": 53,
      "outputs": [
        {
          "output_type": "execute_result",
          "data": {
            "application/vnd.google.colaboratory.intrinsic+json": {
              "type": "string"
            },
            "text/plain": [
              "'A'"
            ]
          },
          "metadata": {
            "tags": []
          },
          "execution_count": 53
        }
      ]
    },
    {
      "cell_type": "code",
      "metadata": {
        "id": "QkZxKXF9DJDP",
        "colab_type": "code",
        "colab": {
          "base_uri": "https://localhost:8080/",
          "height": 35
        },
        "outputId": "4bf2615d-018b-41c6-948b-1850ca7c1c37"
      },
      "source": [
        "chr(66)"
      ],
      "execution_count": 54,
      "outputs": [
        {
          "output_type": "execute_result",
          "data": {
            "application/vnd.google.colaboratory.intrinsic+json": {
              "type": "string"
            },
            "text/plain": [
              "'B'"
            ]
          },
          "metadata": {
            "tags": []
          },
          "execution_count": 54
        }
      ]
    },
    {
      "cell_type": "markdown",
      "metadata": {
        "id": "D6FSuJN5DVLI",
        "colab_type": "text"
      },
      "source": [
        "if you want to shift three places to the right of the\n",
        "letter 'A',"
      ]
    },
    {
      "cell_type": "code",
      "metadata": {
        "id": "1-4jMGuODKHy",
        "colab_type": "code",
        "colab": {
          "base_uri": "https://localhost:8080/",
          "height": 35
        },
        "outputId": "b99a1cbd-5c0c-44b1-afe5-15f23e51140f"
      },
      "source": [
        "chr(ord('A')+3)"
      ],
      "execution_count": 56,
      "outputs": [
        {
          "output_type": "execute_result",
          "data": {
            "application/vnd.google.colaboratory.intrinsic+json": {
              "type": "string"
            },
            "text/plain": [
              "'D'"
            ]
          },
          "metadata": {
            "tags": []
          },
          "execution_count": 56
        }
      ]
    },
    {
      "cell_type": "markdown",
      "metadata": {
        "id": "pwgtbLtyDYCI",
        "colab_type": "text"
      },
      "source": [
        "#2.4 Exercises"
      ]
    },
    {
      "cell_type": "code",
      "metadata": {
        "id": "-bLaxA0IDPbX",
        "colab_type": "code",
        "colab": {}
      },
      "source": [
        ""
      ],
      "execution_count": null,
      "outputs": []
    },
    {
      "cell_type": "markdown",
      "metadata": {
        "id": "X17ORT1cDcx9",
        "colab_type": "text"
      },
      "source": [
        "#Expressions"
      ]
    },
    {
      "cell_type": "markdown",
      "metadata": {
        "id": "_yPPbmQKDuMy",
        "colab_type": "text"
      },
      "source": [
        "[CST 283 Module 1 - Programming Environment and Python Basics](https://docs.google.com/presentation/d/1WO6cR_rrLpJ7UEClk7WaweFmxuW8outp3oJwVLv7pWY/edit#slide=id.g92e1bb0f1a_0_72)"
      ]
    },
    {
      "cell_type": "markdown",
      "metadata": {
        "id": "512poZ1kFLFJ",
        "colab_type": "text"
      },
      "source": [
        "Mixed-Mode Arithmetic and Type Conversions"
      ]
    },
    {
      "cell_type": "markdown",
      "metadata": {
        "id": "6cAK0-ThFnO5",
        "colab_type": "text"
      },
      "source": [
        "In a binary operation on\n",
        "operands of different numeric types, the less general type (int) is temporarily and\n",
        "automatically converted to the more general type (float) before the operation is\n",
        "performed."
      ]
    },
    {
      "cell_type": "code",
      "metadata": {
        "id": "4gwch-zPDmvA",
        "colab_type": "code",
        "colab": {
          "base_uri": "https://localhost:8080/",
          "height": 34
        },
        "outputId": "a2f0ca2d-1076-468c-8088-38bb700a0f12"
      },
      "source": [
        "3.14 * 2 ** 3"
      ],
      "execution_count": 62,
      "outputs": [
        {
          "output_type": "execute_result",
          "data": {
            "text/plain": [
              "25.12"
            ]
          },
          "metadata": {
            "tags": []
          },
          "execution_count": 62
        }
      ]
    },
    {
      "cell_type": "markdown",
      "metadata": {
        "id": "2JrahgwSGVhu",
        "colab_type": "text"
      },
      "source": [
        "##Floor division //"
      ]
    },
    {
      "cell_type": "code",
      "metadata": {
        "id": "2czPTJrLFWvF",
        "colab_type": "code",
        "colab": {
          "base_uri": "https://localhost:8080/",
          "height": 34
        },
        "outputId": "f77c74de-84b8-4862-dc0f-8291176cc99f"
      },
      "source": [
        "3 // 2"
      ],
      "execution_count": 64,
      "outputs": [
        {
          "output_type": "execute_result",
          "data": {
            "text/plain": [
              "1"
            ]
          },
          "metadata": {
            "tags": []
          },
          "execution_count": 64
        }
      ]
    },
    {
      "cell_type": "code",
      "metadata": {
        "id": "IyK2geV0GJvB",
        "colab_type": "code",
        "colab": {
          "base_uri": "https://localhost:8080/",
          "height": 34
        },
        "outputId": "295d64a9-8419-4c4d-ec19-6bf0ec976958"
      },
      "source": [
        "3 / 2"
      ],
      "execution_count": 66,
      "outputs": [
        {
          "output_type": "execute_result",
          "data": {
            "text/plain": [
              "1.5"
            ]
          },
          "metadata": {
            "tags": []
          },
          "execution_count": 66
        }
      ]
    },
    {
      "cell_type": "markdown",
      "metadata": {
        "id": "XcR8aaY6G5tC",
        "colab_type": "text"
      },
      "source": [
        "##Type Conversion"
      ]
    },
    {
      "cell_type": "code",
      "metadata": {
        "id": "hu_2EapPGbQT",
        "colab_type": "code",
        "colab": {
          "base_uri": "https://localhost:8080/",
          "height": 34
        },
        "outputId": "d3c04dc8-d249-4bf7-a84e-3b98d04a2b57"
      },
      "source": [
        "int(3.77)"
      ],
      "execution_count": 67,
      "outputs": [
        {
          "output_type": "execute_result",
          "data": {
            "text/plain": [
              "3"
            ]
          },
          "metadata": {
            "tags": []
          },
          "execution_count": 67
        }
      ]
    },
    {
      "cell_type": "markdown",
      "metadata": {
        "id": "sAL7yMkQHNiz",
        "colab_type": "text"
      },
      "source": [
        "##round"
      ]
    },
    {
      "cell_type": "code",
      "metadata": {
        "id": "FpbeQ__SHITA",
        "colab_type": "code",
        "colab": {
          "base_uri": "https://localhost:8080/",
          "height": 34
        },
        "outputId": "1f57346e-7eea-41c6-b03b-58c5dda4930e"
      },
      "source": [
        "round(3.77)"
      ],
      "execution_count": 72,
      "outputs": [
        {
          "output_type": "execute_result",
          "data": {
            "text/plain": [
              "4"
            ]
          },
          "metadata": {
            "tags": []
          },
          "execution_count": 72
        }
      ]
    },
    {
      "cell_type": "code",
      "metadata": {
        "id": "ElI3f9qbG7vF",
        "colab_type": "code",
        "colab": {
          "base_uri": "https://localhost:8080/",
          "height": 34
        },
        "outputId": "74bea14c-3d24-4c2b-a2e9-ee8364773aae"
      },
      "source": [
        "int(\"33\")"
      ],
      "execution_count": 69,
      "outputs": [
        {
          "output_type": "execute_result",
          "data": {
            "text/plain": [
              "33"
            ]
          },
          "metadata": {
            "tags": []
          },
          "execution_count": 69
        }
      ]
    },
    {
      "cell_type": "code",
      "metadata": {
        "id": "_os4RtXeG9wx",
        "colab_type": "code",
        "colab": {
          "base_uri": "https://localhost:8080/",
          "height": 34
        },
        "outputId": "239bbeef-97c7-41bf-d812-bc1b8aab210a"
      },
      "source": [
        "float(22)"
      ],
      "execution_count": 70,
      "outputs": [
        {
          "output_type": "execute_result",
          "data": {
            "text/plain": [
              "22.0"
            ]
          },
          "metadata": {
            "tags": []
          },
          "execution_count": 70
        }
      ]
    },
    {
      "cell_type": "code",
      "metadata": {
        "id": "RYOg1Y-MHBc4",
        "colab_type": "code",
        "colab": {
          "base_uri": "https://localhost:8080/",
          "height": 35
        },
        "outputId": "cdbeae33-aebe-4d88-aea8-45eb3a33dd05"
      },
      "source": [
        "str(99)"
      ],
      "execution_count": 71,
      "outputs": [
        {
          "output_type": "execute_result",
          "data": {
            "application/vnd.google.colaboratory.intrinsic+json": {
              "type": "string"
            },
            "text/plain": [
              "'99'"
            ]
          },
          "metadata": {
            "tags": []
          },
          "execution_count": 71
        }
      ]
    },
    {
      "cell_type": "markdown",
      "metadata": {
        "id": "feA51VccHaiQ",
        "colab_type": "text"
      },
      "source": [
        "Python is a strongly typed programming language. The interpreter checks\n",
        "data types of all operands before operators are applied to those operands. If the\n",
        "type of an operand is not appropriate, the interpreter halts execution with an\n",
        "error message. This error checking prevents a program from attempting to do\n",
        "something that it cannot do."
      ]
    },
    {
      "cell_type": "code",
      "metadata": {
        "id": "GaBfKPQVHChk",
        "colab_type": "code",
        "colab": {
          "base_uri": "https://localhost:8080/",
          "height": 180
        },
        "outputId": "dc5d1a39-d733-4428-eb6e-b37c13e77644"
      },
      "source": [
        "profit  = 10000\n",
        "print('$'+profit)"
      ],
      "execution_count": 74,
      "outputs": [
        {
          "output_type": "error",
          "ename": "TypeError",
          "evalue": "ignored",
          "traceback": [
            "\u001b[0;31m---------------------------------------------------------------------------\u001b[0m",
            "\u001b[0;31mTypeError\u001b[0m                                 Traceback (most recent call last)",
            "\u001b[0;32m<ipython-input-74-268d7b6d262e>\u001b[0m in \u001b[0;36m<module>\u001b[0;34m()\u001b[0m\n\u001b[1;32m      1\u001b[0m \u001b[0mprofit\u001b[0m  \u001b[0;34m=\u001b[0m \u001b[0;36m10000\u001b[0m\u001b[0;34m\u001b[0m\u001b[0;34m\u001b[0m\u001b[0m\n\u001b[0;32m----> 2\u001b[0;31m \u001b[0mprint\u001b[0m\u001b[0;34m(\u001b[0m\u001b[0;34m'$'\u001b[0m\u001b[0;34m+\u001b[0m\u001b[0mprofit\u001b[0m\u001b[0;34m)\u001b[0m\u001b[0;34m\u001b[0m\u001b[0;34m\u001b[0m\u001b[0m\n\u001b[0m",
            "\u001b[0;31mTypeError\u001b[0m: must be str, not int"
          ]
        }
      ]
    },
    {
      "cell_type": "code",
      "metadata": {
        "id": "i5d20-OrHfEk",
        "colab_type": "code",
        "colab": {
          "base_uri": "https://localhost:8080/",
          "height": 34
        },
        "outputId": "636428be-5ffa-4332-ae42-e8142817791f"
      },
      "source": [
        "profit  = 10000\n",
        "print('$'+str(profit))"
      ],
      "execution_count": 75,
      "outputs": [
        {
          "output_type": "stream",
          "text": [
            "$10000\n"
          ],
          "name": "stdout"
        }
      ]
    },
    {
      "cell_type": "code",
      "metadata": {
        "id": "utb2MDN_Hpi3",
        "colab_type": "code",
        "colab": {}
      },
      "source": [
        ""
      ],
      "execution_count": null,
      "outputs": []
    }
  ]
}