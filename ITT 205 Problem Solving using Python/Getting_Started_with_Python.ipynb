{
  "nbformat": 4,
  "nbformat_minor": 0,
  "metadata": {
    "colab": {
      "name": "Getting Started with Python",
      "provenance": []
    },
    "kernelspec": {
      "name": "python3",
      "display_name": "Python 3"
    }
  },
  "cells": [
    {
      "cell_type": "markdown",
      "metadata": {
        "id": "tpY_UtTS6K86",
        "colab_type": "text"
      },
      "source": [
        "#Getting Started with Python"
      ]
    },
    {
      "cell_type": "markdown",
      "metadata": {
        "id": "Kkk6McMU9Y_p",
        "colab_type": "text"
      },
      "source": [
        "Python is a programming language that lets you work quickly\n",
        "and integrate systems more effectively. https://www.python.org/"
      ]
    },
    {
      "cell_type": "markdown",
      "metadata": {
        "id": "Lh2kavFd6P7K",
        "colab_type": "text"
      },
      "source": [
        "What you can do with Python? Let's have a look: https://realpython.com/"
      ]
    },
    {
      "cell_type": "markdown",
      "metadata": {
        "id": "v5IVq1J46lU9",
        "colab_type": "text"
      },
      "source": [
        "Let's discuss https://www.menti.com/"
      ]
    },
    {
      "cell_type": "markdown",
      "metadata": {
        "id": "m2WJWInv6_-S",
        "colab_type": "text"
      },
      "source": [
        "Go professional: https://www.jetbrains.com/pycharm/"
      ]
    },
    {
      "cell_type": "markdown",
      "metadata": {
        "id": "IehD2x2h9AuK",
        "colab_type": "text"
      },
      "source": [
        "Repositories related to the Python Programming language https://github.com/python"
      ]
    },
    {
      "cell_type": "markdown",
      "metadata": {
        "id": "58ZqpiQR9tgQ",
        "colab_type": "text"
      },
      "source": [
        "Where you will work? https://www.python.org/jobs/"
      ]
    },
    {
      "cell_type": "markdown",
      "metadata": {
        "id": "fH1Ivvq_-3wr",
        "colab_type": "text"
      },
      "source": [
        "Coursera https://www.coursera.org/learn/python-data-analysis"
      ]
    },
    {
      "cell_type": "markdown",
      "metadata": {
        "id": "vgkb56R5CmiL",
        "colab_type": "text"
      },
      "source": [
        "Interested in another Language? https://www.r-project.org/about.html "
      ]
    },
    {
      "cell_type": "markdown",
      "metadata": {
        "id": "k5tLwSbODBe4",
        "colab_type": "text"
      },
      "source": [
        "Want to become a Data Scientist? http://courses.csail.mit.edu/18.337/2015/docs/50YearsDataScience.pdf"
      ]
    },
    {
      "cell_type": "markdown",
      "metadata": {
        "id": "xmoQ51N-DbrB",
        "colab_type": "text"
      },
      "source": [
        "Python do wonders. Want to See? https://numpy.org/learn/"
      ]
    },
    {
      "cell_type": "markdown",
      "metadata": {
        "id": "sV_N0j81FzH_",
        "colab_type": "text"
      },
      "source": [
        "![alt text](https://www.researchgate.net/publication/299474560/figure/fig6/AS:349583008911366@1460358492284/An-example-of-a-deep-neural-network-with-two-hidden-layers-The-first-layer-is-the-input.png)"
      ]
    },
    {
      "cell_type": "markdown",
      "metadata": {
        "id": "2EbKXxx1Dfef",
        "colab_type": "text"
      },
      "source": [
        "That's All! Let's Start with Python Basics"
      ]
    }
  ]
}