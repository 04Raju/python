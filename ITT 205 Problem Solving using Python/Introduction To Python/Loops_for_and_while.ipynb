{
  "nbformat": 4,
  "nbformat_minor": 0,
  "metadata": {
    "colab": {
      "name": "Loops - for and while",
      "provenance": []
    },
    "kernelspec": {
      "name": "python3",
      "display_name": "Python 3"
    }
  },
  "cells": [
    {
      "cell_type": "markdown",
      "metadata": {
        "id": "Aeq31962rL6U",
        "colab_type": "text"
      },
      "source": [
        "#For Loop"
      ]
    },
    {
      "cell_type": "code",
      "metadata": {
        "id": "GGP7ff3fsOAW",
        "colab_type": "code",
        "colab": {
          "base_uri": "https://localhost:8080/",
          "height": 101
        },
        "outputId": "15565e44-c95a-4c99-ac2a-cef6ac0ade74"
      },
      "source": [
        "for number in range(5):\n",
        "    print(number)"
      ],
      "execution_count": null,
      "outputs": [
        {
          "output_type": "stream",
          "text": [
            "0\n",
            "1\n",
            "2\n",
            "3\n",
            "4\n"
          ],
          "name": "stdout"
        }
      ]
    },
    {
      "cell_type": "code",
      "metadata": {
        "id": "JMd16ZvOrVDz",
        "colab_type": "code",
        "colab": {
          "base_uri": "https://localhost:8080/",
          "height": 84
        },
        "outputId": "54890c14-aabb-450f-dbdd-12ee9dc6404e"
      },
      "source": [
        "n = 4\n",
        "for i in range(0, n): \n",
        "    print(i) "
      ],
      "execution_count": null,
      "outputs": [
        {
          "output_type": "stream",
          "text": [
            "0\n",
            "1\n",
            "2\n",
            "3\n"
          ],
          "name": "stdout"
        }
      ]
    },
    {
      "cell_type": "code",
      "metadata": {
        "id": "dkohqfSRsTC7",
        "colab_type": "code",
        "colab": {
          "base_uri": "https://localhost:8080/",
          "height": 101
        },
        "outputId": "51046209-3157-4d7b-a230-d6de2e8e75ba"
      },
      "source": [
        "for number in range(0, 10, 2):  # last one is step\n",
        "    print(number)"
      ],
      "execution_count": null,
      "outputs": [
        {
          "output_type": "stream",
          "text": [
            "0\n",
            "2\n",
            "4\n",
            "6\n",
            "8\n"
          ],
          "name": "stdout"
        }
      ]
    },
    {
      "cell_type": "code",
      "metadata": {
        "id": "UJLcziQbrXK5",
        "colab_type": "code",
        "colab": {
          "base_uri": "https://localhost:8080/",
          "height": 134
        },
        "outputId": "4bd0f3f9-b0c0-4a74-850e-1c657964e55e"
      },
      "source": [
        "my_list = [1, 2, 3, 4, 'Python', 'is', 'neat']\n",
        "for item in my_list:\n",
        "    print(item)"
      ],
      "execution_count": null,
      "outputs": [
        {
          "output_type": "stream",
          "text": [
            "1\n",
            "2\n",
            "3\n",
            "4\n",
            "Python\n",
            "is\n",
            "neat\n"
          ],
          "name": "stdout"
        }
      ]
    },
    {
      "cell_type": "markdown",
      "metadata": {
        "id": "910VylxSrm0_",
        "colab_type": "text"
      },
      "source": [
        "###break\n",
        "Stop the execution of the loop."
      ]
    },
    {
      "cell_type": "code",
      "metadata": {
        "id": "HObQ0QP-rgQB",
        "colab_type": "code",
        "colab": {
          "base_uri": "https://localhost:8080/",
          "height": 84
        },
        "outputId": "c3e3f50d-ea85-414e-822d-6f9a6164af6b"
      },
      "source": [
        "my_list = [1, 2, 3, 4, 'Python', 'is', 'neat']\n",
        "for item in my_list:\n",
        "    if item == 'Python':\n",
        "        break\n",
        "    print(item)"
      ],
      "execution_count": null,
      "outputs": [
        {
          "output_type": "stream",
          "text": [
            "1\n",
            "2\n",
            "3\n",
            "4\n"
          ],
          "name": "stdout"
        }
      ]
    },
    {
      "cell_type": "markdown",
      "metadata": {
        "id": "zw7F05xVrxPp",
        "colab_type": "text"
      },
      "source": [
        "###continue\n",
        "Continue to the next item without executing the lines occuring after continue inside the loop"
      ]
    },
    {
      "cell_type": "code",
      "metadata": {
        "id": "Tg7accGwrr-n",
        "colab_type": "code",
        "colab": {
          "base_uri": "https://localhost:8080/",
          "height": 118
        },
        "outputId": "8e49859a-a440-4ce7-8c2d-8e68ff7ab1d6"
      },
      "source": [
        "my_list = [1, 2, 3, 4, 'Python', 'is', 'neat']\n",
        "for item in my_list:\n",
        "    if item == 2:\n",
        "        continue\n",
        "    print(item)"
      ],
      "execution_count": null,
      "outputs": [
        {
          "output_type": "stream",
          "text": [
            "1\n",
            "3\n",
            "4\n",
            "Python\n",
            "is\n",
            "neat\n"
          ],
          "name": "stdout"
        }
      ]
    },
    {
      "cell_type": "markdown",
      "metadata": {
        "id": "tU335FAOsf7w",
        "colab_type": "text"
      },
      "source": [
        "###Iterating over a String "
      ]
    },
    {
      "cell_type": "code",
      "metadata": {
        "id": "3piRbF-or1VD",
        "colab_type": "code",
        "colab": {
          "base_uri": "https://localhost:8080/",
          "height": 101
        },
        "outputId": "43873076-c07c-4edf-bbdd-088b246247a6"
      },
      "source": [
        "s = \"Mango\"\n",
        "for i in s : \n",
        "    print(i)"
      ],
      "execution_count": null,
      "outputs": [
        {
          "output_type": "stream",
          "text": [
            "M\n",
            "a\n",
            "n\n",
            "g\n",
            "o\n"
          ],
          "name": "stdout"
        }
      ]
    },
    {
      "cell_type": "markdown",
      "metadata": {
        "id": "scnbCF3asuOr",
        "colab_type": "text"
      },
      "source": [
        "###Looping dictionaries"
      ]
    },
    {
      "cell_type": "code",
      "metadata": {
        "id": "mfMbKhp1sj1g",
        "colab_type": "code",
        "colab": {
          "base_uri": "https://localhost:8080/",
          "height": 67
        },
        "outputId": "3020be03-9800-4a20-d345-9a356a79ccb4"
      },
      "source": [
        "my_dict = {'hacker': True, 'age': 72, 'name': 'John Doe'}\n",
        "for val in my_dict:\n",
        "    print(val)"
      ],
      "execution_count": null,
      "outputs": [
        {
          "output_type": "stream",
          "text": [
            "hacker\n",
            "age\n",
            "name\n"
          ],
          "name": "stdout"
        }
      ]
    },
    {
      "cell_type": "code",
      "metadata": {
        "id": "iH-k1MtCsqnx",
        "colab_type": "code",
        "colab": {
          "base_uri": "https://localhost:8080/",
          "height": 67
        },
        "outputId": "32e1b5e5-7e25-4541-880d-4ed9e94190cc"
      },
      "source": [
        "for key, val in my_dict.items():\n",
        "    print('{}={}'.format(key, val))"
      ],
      "execution_count": null,
      "outputs": [
        {
          "output_type": "stream",
          "text": [
            "hacker=True\n",
            "age=72\n",
            "name=John Doe\n"
          ],
          "name": "stdout"
        }
      ]
    },
    {
      "cell_type": "markdown",
      "metadata": {
        "id": "kqk-kyMCtCa1",
        "colab_type": "text"
      },
      "source": [
        "#For Else"
      ]
    },
    {
      "cell_type": "code",
      "metadata": {
        "id": "lathEDFYtiy0",
        "colab_type": "code",
        "colab": {
          "base_uri": "https://localhost:8080/",
          "height": 67
        },
        "outputId": "6f657d70-8f3f-4aa7-caf8-cdf57808fac1"
      },
      "source": [
        "for i in range(1, 4): \n",
        "\tprint(i)"
      ],
      "execution_count": null,
      "outputs": [
        {
          "output_type": "stream",
          "text": [
            "1\n",
            "2\n",
            "3\n"
          ],
          "name": "stdout"
        }
      ]
    },
    {
      "cell_type": "code",
      "metadata": {
        "id": "8HD1djiOs2VE",
        "colab_type": "code",
        "colab": {
          "base_uri": "https://localhost:8080/",
          "height": 84
        },
        "outputId": "ac086f5c-d9f3-4035-a1cb-1ed6229bfb95"
      },
      "source": [
        "for i in range(1, 4): \n",
        "\tprint(i) \n",
        "else: # Executed because no break in for \n",
        "\tprint(\"No Break\") "
      ],
      "execution_count": null,
      "outputs": [
        {
          "output_type": "stream",
          "text": [
            "1\n",
            "2\n",
            "3\n",
            "No Break\n"
          ],
          "name": "stdout"
        }
      ]
    },
    {
      "cell_type": "code",
      "metadata": {
        "id": "2z-cnZH5tIiT",
        "colab_type": "code",
        "colab": {
          "base_uri": "https://localhost:8080/",
          "height": 34
        },
        "outputId": "eb1a170d-9041-4ec7-bfe2-17708dacd831"
      },
      "source": [
        "for i in range(1, 4): \n",
        "\tprint(i) \n",
        "\tbreak\n",
        "else: # Not executed as there is a break \n",
        "\tprint(\"No Break\") \n"
      ],
      "execution_count": null,
      "outputs": [
        {
          "output_type": "stream",
          "text": [
            "1\n"
          ],
          "name": "stdout"
        }
      ]
    },
    {
      "cell_type": "code",
      "metadata": {
        "id": "wkp_MO_DtyEu",
        "colab_type": "code",
        "colab": {
          "base_uri": "https://localhost:8080/",
          "height": 34
        },
        "outputId": "ce947535-9945-48d7-c4b8-4c13222e2dbe"
      },
      "source": [
        "for i in [1,3,5,7,9]: \n",
        "    if i % 2 == 0: \n",
        "        print (\"list contains an even number\") \n",
        "        break\n",
        "else:      \n",
        "    print (\"list does not contain an even number\")"
      ],
      "execution_count": null,
      "outputs": [
        {
          "output_type": "stream",
          "text": [
            "list does not contain an even number\n"
          ],
          "name": "stdout"
        }
      ]
    },
    {
      "cell_type": "code",
      "metadata": {
        "id": "CH--1MyzvxdK",
        "colab_type": "code",
        "colab": {
          "base_uri": "https://localhost:8080/",
          "height": 34
        },
        "outputId": "d86aada5-4b0e-4d11-eff7-fee170c79e96"
      },
      "source": [
        "for i in range(1, 99, 2): \n",
        "    if i % 2 == 0: \n",
        "        print (\"list contains an even number\") \n",
        "        break\n",
        "else:      \n",
        "    print (\"list does not contain an even number\")"
      ],
      "execution_count": null,
      "outputs": [
        {
          "output_type": "stream",
          "text": [
            "list does not contain an even number\n"
          ],
          "name": "stdout"
        }
      ]
    },
    {
      "cell_type": "code",
      "metadata": {
        "id": "Vtmv7OkovuXA",
        "colab_type": "code",
        "colab": {
          "base_uri": "https://localhost:8080/",
          "height": 34
        },
        "outputId": "9b69b366-5cfb-42ee-a4b0-c4be5dffb6fe"
      },
      "source": [
        "for i in range(1, 10, 1):\n",
        "  reply = input('Enter text:')\n",
        "  if reply == 'stop': break\n",
        "  print(i)\n",
        "  print(reply.upper())\n",
        "  "
      ],
      "execution_count": 5,
      "outputs": [
        {
          "output_type": "stream",
          "text": [
            "Enter text:stop\n"
          ],
          "name": "stdout"
        }
      ]
    },
    {
      "cell_type": "markdown",
      "metadata": {
        "id": "oGD4d-ECPVyE",
        "colab_type": "text"
      },
      "source": [
        "##Handling Errors with try Statements"
      ]
    },
    {
      "cell_type": "code",
      "metadata": {
        "id": "QeoscaljOZI4",
        "colab_type": "code",
        "colab": {
          "base_uri": "https://localhost:8080/",
          "height": 34
        },
        "outputId": "f2748602-4873-40c7-967d-6bdafc2d5756"
      },
      "source": [
        "for i in range(1, 10, 1):\n",
        "  reply = input('Enter text:')\n",
        "  if reply == 'stop': break\n",
        "  try:\n",
        "    num = int(reply)\n",
        "  except:\n",
        "    print('Bad!' * 8)\n",
        "  else:\n",
        "    print(int(reply) ** 2)\n",
        "    print('Bye')"
      ],
      "execution_count": 12,
      "outputs": [
        {
          "output_type": "stream",
          "text": [
            "Enter text:stop\n"
          ],
          "name": "stdout"
        }
      ]
    },
    {
      "cell_type": "code",
      "metadata": {
        "id": "lYbetkFAPekT",
        "colab_type": "code",
        "colab": {}
      },
      "source": [
        ""
      ],
      "execution_count": null,
      "outputs": []
    }
  ]
}