{
  "nbformat": 4,
  "nbformat_minor": 0,
  "metadata": {
    "colab": {
      "name": "String traversal and string slices",
      "provenance": [],
      "collapsed_sections": []
    },
    "kernelspec": {
      "name": "python3",
      "display_name": "Python 3"
    }
  },
  "cells": [
    {
      "cell_type": "code",
      "metadata": {
        "id": "BjcUOsWedwVN",
        "colab_type": "code",
        "colab": {
          "base_uri": "https://localhost:8080/",
          "height": 34
        },
        "outputId": "520c5a6a-1881-4200-9e75-584bf505ff15"
      },
      "source": [
        " fruit = \"banana\"\n",
        " letter = fruit[1]\n",
        " print(letter)"
      ],
      "execution_count": 2,
      "outputs": [
        {
          "output_type": "stream",
          "text": [
            "a\n"
          ],
          "name": "stdout"
        }
      ]
    },
    {
      "cell_type": "code",
      "metadata": {
        "id": "p9YGgowUd5eD",
        "colab_type": "code",
        "colab": {
          "base_uri": "https://localhost:8080/",
          "height": 34
        },
        "outputId": "e6ca0023-abc7-4056-9a92-1b610bf9571d"
      },
      "source": [
        " fruit = \"banana\"\n",
        " letter = fruit[0]\n",
        " print(letter)"
      ],
      "execution_count": null,
      "outputs": [
        {
          "output_type": "stream",
          "text": [
            "b\n"
          ],
          "name": "stdout"
        }
      ]
    },
    {
      "cell_type": "code",
      "metadata": {
        "id": "uqFhoguud9Ow",
        "colab_type": "code",
        "colab": {
          "base_uri": "https://localhost:8080/",
          "height": 34
        },
        "outputId": "aa9c9651-f965-49a3-a44e-9f4028f29489"
      },
      "source": [
        " fruit = \"banana\"\n",
        " letter = fruit[-1]\n",
        " print(letter)"
      ],
      "execution_count": null,
      "outputs": [
        {
          "output_type": "stream",
          "text": [
            "a\n"
          ],
          "name": "stdout"
        }
      ]
    },
    {
      "cell_type": "code",
      "metadata": {
        "id": "Dru2ieb-d_Hp",
        "colab_type": "code",
        "colab": {
          "base_uri": "https://localhost:8080/",
          "height": 34
        },
        "outputId": "e332210c-2c7f-4900-f982-cd42f3324418"
      },
      "source": [
        " fruit = \"banana\"\n",
        " letter = fruit[1+1]\n",
        " print(letter)"
      ],
      "execution_count": null,
      "outputs": [
        {
          "output_type": "stream",
          "text": [
            "n\n"
          ],
          "name": "stdout"
        }
      ]
    },
    {
      "cell_type": "code",
      "metadata": {
        "id": "aFGGRTnPeCYm",
        "colab_type": "code",
        "colab": {
          "base_uri": "https://localhost:8080/",
          "height": 34
        },
        "outputId": "c3068d40-3198-477e-9240-ed1ec3e89d53"
      },
      "source": [
        "len(fruit)"
      ],
      "execution_count": null,
      "outputs": [
        {
          "output_type": "execute_result",
          "data": {
            "text/plain": [
              "6"
            ]
          },
          "metadata": {
            "tags": []
          },
          "execution_count": 6
        }
      ]
    },
    {
      "cell_type": "markdown",
      "metadata": {
        "id": "bn42qDxgeMCH",
        "colab_type": "text"
      },
      "source": [
        "#Traversal"
      ]
    },
    {
      "cell_type": "code",
      "metadata": {
        "id": "I5YNjExueG_v",
        "colab_type": "code",
        "colab": {
          "base_uri": "https://localhost:8080/",
          "height": 120
        },
        "outputId": "156d9fee-1b9a-49e9-cadc-8e487107ad9c"
      },
      "source": [
        "index = 0\n",
        "while index < len(fruit):\n",
        "  letter = fruit[index]\n",
        "  print (letter)\n",
        "  index = index + 1\n"
      ],
      "execution_count": 3,
      "outputs": [
        {
          "output_type": "stream",
          "text": [
            "b\n",
            "a\n",
            "n\n",
            "a\n",
            "n\n",
            "a\n"
          ],
          "name": "stdout"
        }
      ]
    },
    {
      "cell_type": "code",
      "metadata": {
        "id": "QUvb5aC5eNxy",
        "colab_type": "code",
        "colab": {
          "base_uri": "https://localhost:8080/",
          "height": 120
        },
        "outputId": "f0532a29-20a9-467e-e6b4-ad6a21a9248a"
      },
      "source": [
        "for letter in fruit:\n",
        "  print (letter)"
      ],
      "execution_count": 4,
      "outputs": [
        {
          "output_type": "stream",
          "text": [
            "b\n",
            "a\n",
            "n\n",
            "a\n",
            "n\n",
            "a\n"
          ],
          "name": "stdout"
        }
      ]
    },
    {
      "cell_type": "markdown",
      "metadata": {
        "id": "mhMZWXfWekqg",
        "colab_type": "text"
      },
      "source": [
        "The following example shows how to use concatenation and a for loop to generate\n",
        "an abecedarian series. Abecedarian refers to a series or list in which\n",
        "the elements appear in alphabetical order. "
      ]
    },
    {
      "cell_type": "code",
      "metadata": {
        "id": "s02Say6weS8B",
        "colab_type": "code",
        "colab": {
          "base_uri": "https://localhost:8080/",
          "height": 154
        },
        "outputId": "429848da-8a41-4b45-97f7-597f19893211"
      },
      "source": [
        "prefixes = \"JKLMNOPQ\"\n",
        "suffix = \"001\"\n",
        "for letter in prefixes:\n",
        "  print (letter + suffix)"
      ],
      "execution_count": 15,
      "outputs": [
        {
          "output_type": "stream",
          "text": [
            "J001\n",
            "K001\n",
            "L001\n",
            "M001\n",
            "N001\n",
            "O001\n",
            "P001\n",
            "Q001\n"
          ],
          "name": "stdout"
        }
      ]
    },
    {
      "cell_type": "markdown",
      "metadata": {
        "id": "gB3LcgfAfFhc",
        "colab_type": "text"
      },
      "source": [
        "#Exercise "
      ]
    },
    {
      "cell_type": "markdown",
      "metadata": {
        "id": "QaC8e-sme77n",
        "colab_type": "text"
      },
      "source": [
        "#For example, in Robert McCloskey's book Make Way for Ducklings, the names of the ducklings are Jack, Kack, Lack, Mack, Nack, Ouack, Pack, and Quack."
      ]
    },
    {
      "cell_type": "code",
      "metadata": {
        "id": "uMK2hYlBen6m",
        "colab_type": "code",
        "colab": {
          "base_uri": "https://localhost:8080/",
          "height": 153
        },
        "outputId": "44e709c8-6bc0-47de-c720-3a2cabadca96"
      },
      "source": [
        "prefixes = \"JKLMNOPQ\"\n",
        "suffix = \"ack\"\n",
        "for letter in prefixes:\n",
        "  if letter=='O' or letter=='Q':\n",
        "    letter=letter +'u'\n",
        "  print (letter + suffix)"
      ],
      "execution_count": null,
      "outputs": [
        {
          "output_type": "stream",
          "text": [
            "Jack\n",
            "Kack\n",
            "Lack\n",
            "Mack\n",
            "Nack\n",
            "Ouack\n",
            "Pack\n",
            "Quack\n"
          ],
          "name": "stdout"
        }
      ]
    },
    {
      "cell_type": "code",
      "metadata": {
        "id": "4BFpc8kUfa_N",
        "colab_type": "code",
        "colab": {}
      },
      "source": [
        ""
      ],
      "execution_count": null,
      "outputs": []
    },
    {
      "cell_type": "markdown",
      "metadata": {
        "id": "hrdVropNfmT4",
        "colab_type": "text"
      },
      "source": [
        "#String slices"
      ]
    },
    {
      "cell_type": "markdown",
      "metadata": {
        "id": "eUy3BAVjfqIo",
        "colab_type": "text"
      },
      "source": [
        "A segment of a string is called a slice. Selecting a slice is similar to selecting a character:"
      ]
    },
    {
      "cell_type": "markdown",
      "metadata": {
        "id": "B-KC_HpJf6HP",
        "colab_type": "text"
      },
      "source": [
        "The operator [n:m] returns the part of the string from the \"n-eth\" character to\n",
        "the \"m-eth\" character, including the \frst but excluding the last"
      ]
    },
    {
      "cell_type": "markdown",
      "metadata": {
        "id": "ah992rCtkuzS",
        "colab_type": "text"
      },
      "source": [
        ""
      ]
    },
    {
      "cell_type": "code",
      "metadata": {
        "id": "uaFbab2sfn3E",
        "colab_type": "code",
        "colab": {}
      },
      "source": [
        "s = \"Peter, Paul, and Mary\""
      ],
      "execution_count": 10,
      "outputs": []
    },
    {
      "cell_type": "code",
      "metadata": {
        "id": "euQnuWkskyVk",
        "colab_type": "code",
        "colab": {}
      },
      "source": [
        "fruit = \"Mangoes\""
      ],
      "execution_count": 11,
      "outputs": []
    },
    {
      "cell_type": "code",
      "metadata": {
        "id": "1whz_s4Rk1_4",
        "colab_type": "code",
        "colab": {
          "base_uri": "https://localhost:8080/",
          "height": 34
        },
        "outputId": "236060a1-ce97-464c-9ee8-ba7c5f5febae"
      },
      "source": [
        "print (fruit[0:])"
      ],
      "execution_count": 13,
      "outputs": [
        {
          "output_type": "stream",
          "text": [
            "Mangoes\n"
          ],
          "name": "stdout"
        }
      ]
    },
    {
      "cell_type": "code",
      "metadata": {
        "id": "UHvM4Qhlfuwv",
        "colab_type": "code",
        "colab": {
          "base_uri": "https://localhost:8080/",
          "height": 34
        },
        "outputId": "cc87ce67-ba7a-4863-a64e-46595d94dbb3"
      },
      "source": [
        "print (s[0:5])"
      ],
      "execution_count": null,
      "outputs": [
        {
          "output_type": "stream",
          "text": [
            "Peter\n"
          ],
          "name": "stdout"
        }
      ]
    },
    {
      "cell_type": "code",
      "metadata": {
        "id": "WXAp8wrwfxh6",
        "colab_type": "code",
        "colab": {
          "base_uri": "https://localhost:8080/",
          "height": 34
        },
        "outputId": "d164d1cd-c9cf-4e84-bfb2-830d171e743f"
      },
      "source": [
        "print (s[7:11])"
      ],
      "execution_count": null,
      "outputs": [
        {
          "output_type": "stream",
          "text": [
            "Paul\n"
          ],
          "name": "stdout"
        }
      ]
    },
    {
      "cell_type": "code",
      "metadata": {
        "id": "j5uUKJTvfzlk",
        "colab_type": "code",
        "colab": {
          "base_uri": "https://localhost:8080/",
          "height": 34
        },
        "outputId": "0a2a15ac-988b-4207-eb6b-df8b5059dba3"
      },
      "source": [
        "print (s[17:21])"
      ],
      "execution_count": null,
      "outputs": [
        {
          "output_type": "stream",
          "text": [
            "Mary\n"
          ],
          "name": "stdout"
        }
      ]
    },
    {
      "cell_type": "markdown",
      "metadata": {
        "id": "SnfFM03Hgbtx",
        "colab_type": "text"
      },
      "source": [
        "If you omit the first index (before the colon), the slice starts at the beginning of the string."
      ]
    },
    {
      "cell_type": "code",
      "metadata": {
        "id": "HU1ModPvf1z4",
        "colab_type": "code",
        "colab": {
          "base_uri": "https://localhost:8080/",
          "height": 35
        },
        "outputId": "daa99568-a1f9-442f-b2fe-fa23d44eae6c"
      },
      "source": [
        "fruit[:3]"
      ],
      "execution_count": null,
      "outputs": [
        {
          "output_type": "execute_result",
          "data": {
            "application/vnd.google.colaboratory.intrinsic+json": {
              "type": "string"
            },
            "text/plain": [
              "'ban'"
            ]
          },
          "metadata": {
            "tags": []
          },
          "execution_count": 20
        }
      ]
    },
    {
      "cell_type": "markdown",
      "metadata": {
        "id": "ltmq60E2gj5B",
        "colab_type": "text"
      },
      "source": [
        "If you omit the second index, the slice goes to the end of the string"
      ]
    },
    {
      "cell_type": "code",
      "metadata": {
        "id": "t5s4GfNwgkF5",
        "colab_type": "code",
        "colab": {
          "base_uri": "https://localhost:8080/",
          "height": 35
        },
        "outputId": "d470827e-28b9-47b2-a404-be31c8050a0c"
      },
      "source": [
        "fruit[3:]"
      ],
      "execution_count": null,
      "outputs": [
        {
          "output_type": "execute_result",
          "data": {
            "application/vnd.google.colaboratory.intrinsic+json": {
              "type": "string"
            },
            "text/plain": [
              "'ana'"
            ]
          },
          "metadata": {
            "tags": []
          },
          "execution_count": 21
        }
      ]
    },
    {
      "cell_type": "code",
      "metadata": {
        "id": "hTW5OXGygnlc",
        "colab_type": "code",
        "colab": {
          "base_uri": "https://localhost:8080/",
          "height": 35
        },
        "outputId": "463ccdec-9de5-415f-86f2-f02b776aece6"
      },
      "source": [
        "fruit[:]"
      ],
      "execution_count": null,
      "outputs": [
        {
          "output_type": "execute_result",
          "data": {
            "application/vnd.google.colaboratory.intrinsic+json": {
              "type": "string"
            },
            "text/plain": [
              "'banana'"
            ]
          },
          "metadata": {
            "tags": []
          },
          "execution_count": 22
        }
      ]
    },
    {
      "cell_type": "markdown",
      "metadata": {
        "id": "WZP6g3Q5gvLi",
        "colab_type": "text"
      },
      "source": [
        "#String comparison"
      ]
    },
    {
      "cell_type": "code",
      "metadata": {
        "id": "d4ZhkADxg3gt",
        "colab_type": "code",
        "colab": {}
      },
      "source": [
        "word = \"banana1\""
      ],
      "execution_count": 16,
      "outputs": []
    },
    {
      "cell_type": "code",
      "metadata": {
        "id": "Wfl609Qygqvl",
        "colab_type": "code",
        "colab": {}
      },
      "source": [
        "if word == \"banana\":\n",
        "  print (\"Yes, we have bananas!\")"
      ],
      "execution_count": 17,
      "outputs": []
    },
    {
      "cell_type": "code",
      "metadata": {
        "id": "f9n-NTYThPY2",
        "colab_type": "code",
        "colab": {}
      },
      "source": [
        "word='banana'"
      ],
      "execution_count": 20,
      "outputs": []
    },
    {
      "cell_type": "code",
      "metadata": {
        "id": "dSjZA7EngzNO",
        "colab_type": "code",
        "colab": {
          "base_uri": "https://localhost:8080/",
          "height": 34
        },
        "outputId": "e1657274-a078-49ed-968a-c7f94795ac88"
      },
      "source": [
        "if word < \"banana\":\n",
        "  print (\"Your word,\" + word + \", comes before banana.\")\n",
        "elif word > \"banana\":\n",
        "  print (\"Your word,\" + word + \", comes after banana.\")\n",
        "else:\n",
        "  print (\"Yes, we have bananas!\")"
      ],
      "execution_count": 21,
      "outputs": [
        {
          "output_type": "stream",
          "text": [
            "Yes, we have bananas!\n"
          ],
          "name": "stdout"
        }
      ]
    },
    {
      "cell_type": "code",
      "metadata": {
        "id": "TBLcT48xhB_v",
        "colab_type": "code",
        "colab": {}
      },
      "source": [
        "word ='apple'"
      ],
      "execution_count": null,
      "outputs": []
    },
    {
      "cell_type": "code",
      "metadata": {
        "id": "75Zxaz_ghYIt",
        "colab_type": "code",
        "colab": {
          "base_uri": "https://localhost:8080/",
          "height": 34
        },
        "outputId": "055f8a67-9605-4047-d0b4-2ef16fb5a321"
      },
      "source": [
        "if word < \"banana\":\n",
        "  print (\"Your word,\" + word + \", comes before banana.\")\n",
        "elif word > \"banana\":\n",
        "  print (\"Your word,\" + word + \", comes after banana.\")\n",
        "else:\n",
        "  print (\"Yes, we have bananas!\")"
      ],
      "execution_count": null,
      "outputs": [
        {
          "output_type": "stream",
          "text": [
            "Your word,apple, comes before banana.\n"
          ],
          "name": "stdout"
        }
      ]
    },
    {
      "cell_type": "markdown",
      "metadata": {
        "id": "PQDbPRLzhc4K",
        "colab_type": "text"
      },
      "source": [
        "All the uppercase letters come before all the lowercase letters."
      ]
    },
    {
      "cell_type": "code",
      "metadata": {
        "id": "QlilqcahhYZN",
        "colab_type": "code",
        "colab": {}
      },
      "source": [
        "word ='Zebra'"
      ],
      "execution_count": 26,
      "outputs": []
    },
    {
      "cell_type": "code",
      "metadata": {
        "id": "7qb6PVg9hidd",
        "colab_type": "code",
        "colab": {
          "base_uri": "https://localhost:8080/",
          "height": 34
        },
        "outputId": "0490d6f0-8f61-4c2d-f176-924ce8b9728c"
      },
      "source": [
        "if word < \"banana\":\n",
        "  print (\"Your word,\" + word + \", comes before banana.\")\n",
        "elif word > \"banana\":\n",
        "  print (\"Your word,\" + word + \", comes after banana.\")\n",
        "else:\n",
        "  print (\"Yes, we have bananas!\")"
      ],
      "execution_count": 27,
      "outputs": [
        {
          "output_type": "stream",
          "text": [
            "Your word,Zebra, comes before banana.\n"
          ],
          "name": "stdout"
        }
      ]
    },
    {
      "cell_type": "markdown",
      "metadata": {
        "id": "y62KdAqWhqgy",
        "colab_type": "text"
      },
      "source": [
        "A common way to address this problem is to convert strings to a standard\n",
        "format, such as all lowercase, before performing the comparison."
      ]
    },
    {
      "cell_type": "markdown",
      "metadata": {
        "id": "HIJvePZDhvED",
        "colab_type": "text"
      },
      "source": [
        "#Strings are immutable"
      ]
    },
    {
      "cell_type": "code",
      "metadata": {
        "id": "gmWi9v7tosFG",
        "colab_type": "code",
        "colab": {
          "base_uri": "https://localhost:8080/",
          "height": 199
        },
        "outputId": "93e24852-7c50-48df-b2d4-b41557269047"
      },
      "source": [
        "greeting = \"Hello, world!\"\n",
        "greeting[0]\n",
        "greeting[0] = 'J'"
      ],
      "execution_count": 31,
      "outputs": [
        {
          "output_type": "error",
          "ename": "TypeError",
          "evalue": "ignored",
          "traceback": [
            "\u001b[0;31m---------------------------------------------------------------------------\u001b[0m",
            "\u001b[0;31mTypeError\u001b[0m                                 Traceback (most recent call last)",
            "\u001b[0;32m<ipython-input-31-fbba4a7660ba>\u001b[0m in \u001b[0;36m<module>\u001b[0;34m()\u001b[0m\n\u001b[1;32m      1\u001b[0m \u001b[0mgreeting\u001b[0m \u001b[0;34m=\u001b[0m \u001b[0;34m\"Hello, world!\"\u001b[0m\u001b[0;34m\u001b[0m\u001b[0;34m\u001b[0m\u001b[0m\n\u001b[1;32m      2\u001b[0m \u001b[0mgreeting\u001b[0m\u001b[0;34m[\u001b[0m\u001b[0;36m0\u001b[0m\u001b[0;34m]\u001b[0m\u001b[0;34m\u001b[0m\u001b[0;34m\u001b[0m\u001b[0m\n\u001b[0;32m----> 3\u001b[0;31m \u001b[0mgreeting\u001b[0m\u001b[0;34m[\u001b[0m\u001b[0;36m0\u001b[0m\u001b[0;34m]\u001b[0m \u001b[0;34m=\u001b[0m \u001b[0;34m'J'\u001b[0m\u001b[0;34m\u001b[0m\u001b[0;34m\u001b[0m\u001b[0m\n\u001b[0m",
            "\u001b[0;31mTypeError\u001b[0m: 'str' object does not support item assignment"
          ]
        }
      ]
    },
    {
      "cell_type": "code",
      "metadata": {
        "id": "yigjdEOhhjeW",
        "colab_type": "code",
        "colab": {
          "base_uri": "https://localhost:8080/",
          "height": 199
        },
        "outputId": "44387a1c-5587-4f22-985b-d14e36161c27"
      },
      "source": [
        "greeting = \"Hello, world!\"\n",
        "greeting[0] = 'J' # ERROR!\n",
        "print (greeting)"
      ],
      "execution_count": 28,
      "outputs": [
        {
          "output_type": "error",
          "ename": "TypeError",
          "evalue": "ignored",
          "traceback": [
            "\u001b[0;31m---------------------------------------------------------------------------\u001b[0m",
            "\u001b[0;31mTypeError\u001b[0m                                 Traceback (most recent call last)",
            "\u001b[0;32m<ipython-input-28-0f6d0d5f0ec1>\u001b[0m in \u001b[0;36m<module>\u001b[0;34m()\u001b[0m\n\u001b[1;32m      1\u001b[0m \u001b[0mgreeting\u001b[0m \u001b[0;34m=\u001b[0m \u001b[0;34m\"Hello, world!\"\u001b[0m\u001b[0;34m\u001b[0m\u001b[0;34m\u001b[0m\u001b[0m\n\u001b[0;32m----> 2\u001b[0;31m \u001b[0mgreeting\u001b[0m\u001b[0;34m[\u001b[0m\u001b[0;36m0\u001b[0m\u001b[0;34m]\u001b[0m \u001b[0;34m=\u001b[0m \u001b[0;34m'J'\u001b[0m \u001b[0;31m# ERROR!\u001b[0m\u001b[0;34m\u001b[0m\u001b[0;34m\u001b[0m\u001b[0m\n\u001b[0m\u001b[1;32m      3\u001b[0m \u001b[0mprint\u001b[0m \u001b[0;34m(\u001b[0m\u001b[0mgreeting\u001b[0m\u001b[0;34m)\u001b[0m\u001b[0;34m\u001b[0m\u001b[0;34m\u001b[0m\u001b[0m\n",
            "\u001b[0;31mTypeError\u001b[0m: 'str' object does not support item assignment"
          ]
        }
      ]
    },
    {
      "cell_type": "code",
      "metadata": {
        "id": "AHv8QFyhiOpr",
        "colab_type": "code",
        "colab": {
          "base_uri": "https://localhost:8080/",
          "height": 34
        },
        "outputId": "1652fd34-e430-489f-e4e7-b94a50208964"
      },
      "source": [
        "greeting = \"Hello, world!\"\n",
        "newGreeting = 'J' + greeting[1:]\n",
        "print (newGreeting)"
      ],
      "execution_count": 29,
      "outputs": [
        {
          "output_type": "stream",
          "text": [
            "Jello, world!\n"
          ],
          "name": "stdout"
        }
      ]
    },
    {
      "cell_type": "code",
      "metadata": {
        "id": "4vfzxU-Xoz2A",
        "colab_type": "code",
        "colab": {
          "base_uri": "https://localhost:8080/",
          "height": 35
        },
        "outputId": "00459dec-1d20-41b1-9b3a-119ff01d3921"
      },
      "source": [
        "'J' + greeting[1:]"
      ],
      "execution_count": 33,
      "outputs": [
        {
          "output_type": "execute_result",
          "data": {
            "application/vnd.google.colaboratory.intrinsic+json": {
              "type": "string"
            },
            "text/plain": [
              "'Jello, world!'"
            ]
          },
          "metadata": {
            "tags": []
          },
          "execution_count": 33
        }
      ]
    },
    {
      "cell_type": "markdown",
      "metadata": {
        "id": "7dl2vPMGjfqz",
        "colab_type": "text"
      },
      "source": [
        "A find function: This pattern of computation is sometimes called a \"eureka\" traversal because as soon as we find what we are looking for, we can cry \"Eureka!\" and stop looking."
      ]
    },
    {
      "cell_type": "code",
      "metadata": {
        "id": "RTO3FSdyjgyE",
        "colab_type": "code",
        "colab": {}
      },
      "source": [
        "def find(str, ch):\n",
        "  index = 0\n",
        "  while index < len(str):\n",
        "    if str[index] == ch:\n",
        "      return index\n",
        "    index = index + 1\n",
        "  return -1"
      ],
      "execution_count": null,
      "outputs": []
    },
    {
      "cell_type": "code",
      "metadata": {
        "id": "8VrS8OmjjkqH",
        "colab_type": "code",
        "colab": {
          "base_uri": "https://localhost:8080/",
          "height": 34
        },
        "outputId": "d0c585c0-d9b7-456a-995d-282f4ff74ba7"
      },
      "source": [
        "find('apple','l')"
      ],
      "execution_count": null,
      "outputs": [
        {
          "output_type": "execute_result",
          "data": {
            "text/plain": [
              "3"
            ]
          },
          "metadata": {
            "tags": []
          },
          "execution_count": 47
        }
      ]
    },
    {
      "cell_type": "markdown",
      "metadata": {
        "id": "YMUu6XnIi6-8",
        "colab_type": "text"
      },
      "source": [
        "#Modify the find function so that it has a third parameter,the index in the string where it should start looking"
      ]
    },
    {
      "cell_type": "code",
      "metadata": {
        "id": "PLW6bnvdiXCG",
        "colab_type": "code",
        "colab": {}
      },
      "source": [
        "def find(str, ch,index):\n",
        "  #\n",
        "  while index < len(str):\n",
        "    if str[index] == ch:\n",
        "      return index\n",
        "    index = index + 1\n",
        "  return -1"
      ],
      "execution_count": null,
      "outputs": []
    },
    {
      "cell_type": "code",
      "metadata": {
        "id": "S4o8gwKGi6FB",
        "colab_type": "code",
        "colab": {
          "base_uri": "https://localhost:8080/",
          "height": 34
        },
        "outputId": "c4e50276-4f48-4fec-a63e-e63d358b36b0"
      },
      "source": [
        "find('apple','l',0)"
      ],
      "execution_count": null,
      "outputs": [
        {
          "output_type": "execute_result",
          "data": {
            "text/plain": [
              "3"
            ]
          },
          "metadata": {
            "tags": []
          },
          "execution_count": 50
        }
      ]
    },
    {
      "cell_type": "code",
      "metadata": {
        "id": "v8VSbSmCj6Ao",
        "colab_type": "code",
        "colab": {
          "base_uri": "https://localhost:8080/",
          "height": 34
        },
        "outputId": "1fd460fd-ffa2-4eca-99aa-d8911a2798bf"
      },
      "source": [
        "find('apple','l',1)"
      ],
      "execution_count": null,
      "outputs": [
        {
          "output_type": "execute_result",
          "data": {
            "text/plain": [
              "3"
            ]
          },
          "metadata": {
            "tags": []
          },
          "execution_count": 51
        }
      ]
    },
    {
      "cell_type": "code",
      "metadata": {
        "id": "h6b3fhDTj7ze",
        "colab_type": "code",
        "colab": {
          "base_uri": "https://localhost:8080/",
          "height": 34
        },
        "outputId": "efa849bc-3dc5-4d24-b825-7e8d021f4ef0"
      },
      "source": [
        "find('apple','l',3)"
      ],
      "execution_count": null,
      "outputs": [
        {
          "output_type": "execute_result",
          "data": {
            "text/plain": [
              "3"
            ]
          },
          "metadata": {
            "tags": []
          },
          "execution_count": 52
        }
      ]
    },
    {
      "cell_type": "code",
      "metadata": {
        "id": "KPVEExzQj_zk",
        "colab_type": "code",
        "colab": {
          "base_uri": "https://localhost:8080/",
          "height": 34
        },
        "outputId": "a4988a61-8bc8-46fc-8f53-be33553820f0"
      },
      "source": [
        "find('apple','l',4)"
      ],
      "execution_count": null,
      "outputs": [
        {
          "output_type": "execute_result",
          "data": {
            "text/plain": [
              "-1"
            ]
          },
          "metadata": {
            "tags": []
          },
          "execution_count": 53
        }
      ]
    },
    {
      "cell_type": "markdown",
      "metadata": {
        "id": "Sa1yLrLtkFkG",
        "colab_type": "text"
      },
      "source": [
        "#Looping and counting"
      ]
    },
    {
      "cell_type": "code",
      "metadata": {
        "id": "4vs-bvRUkBDk",
        "colab_type": "code",
        "colab": {
          "base_uri": "https://localhost:8080/",
          "height": 34
        },
        "outputId": "ffa8e72e-55ed-4453-8512-3e750657b871"
      },
      "source": [
        "fruit = \"banana\"\n",
        "count = 0\n",
        "for char in fruit:\n",
        "  if char == 'a':\n",
        "    count = count + 1\n",
        "print (count)"
      ],
      "execution_count": null,
      "outputs": [
        {
          "output_type": "stream",
          "text": [
            "3\n"
          ],
          "name": "stdout"
        }
      ]
    },
    {
      "cell_type": "markdown",
      "metadata": {
        "id": "qUv1iRyXkVqb",
        "colab_type": "text"
      },
      "source": [
        "This program demonstrates another pattern of computation called a counter.\n",
        "The variable count is initialized to 0 and then incremented each time an a is found. (To increment is to increase by one; it is the opposite of decrement)"
      ]
    },
    {
      "cell_type": "markdown",
      "metadata": {
        "id": "8Rk2UORFkhoU",
        "colab_type": "text"
      },
      "source": [
        "#Assignment"
      ]
    },
    {
      "cell_type": "markdown",
      "metadata": {
        "id": "jCUHFoJ8kkYC",
        "colab_type": "text"
      },
      "source": [
        "Encapsulate this code in a function named countLetters, and generalize it so that it accepts the string and the letter as arguments."
      ]
    },
    {
      "cell_type": "markdown",
      "metadata": {
        "id": "dbB9N-L1kpP4",
        "colab_type": "text"
      },
      "source": [
        "Rewrite this function so that instead of traversing the string, it uses the three-parameter version of find from the previous."
      ]
    },
    {
      "cell_type": "code",
      "metadata": {
        "id": "tAgRpEajkLvN",
        "colab_type": "code",
        "colab": {}
      },
      "source": [
        ""
      ],
      "execution_count": null,
      "outputs": []
    }
  ]
}