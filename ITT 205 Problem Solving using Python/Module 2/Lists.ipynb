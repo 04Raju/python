{
  "nbformat": 4,
  "nbformat_minor": 0,
  "metadata": {
    "colab": {
      "name": "Lists.ipynb",
      "provenance": []
    },
    "kernelspec": {
      "name": "python3",
      "display_name": "Python 3"
    }
  },
  "cells": [
    {
      "cell_type": "markdown",
      "metadata": {
        "id": "a4Eq32QtRkSg",
        "colab_type": "text"
      },
      "source": [
        "#Lists-List Values"
      ]
    },
    {
      "cell_type": "code",
      "metadata": {
        "id": "Ki6lim2ARrRz",
        "colab_type": "code",
        "colab": {}
      },
      "source": [
        "list1= [10, 20, 30, 40]\n",
        "list2= [\"spam\", \"bungee\", \"swallow\"]\n",
        "list3= [\"hello\", 2.0, 5, [10, 20]]\n"
      ],
      "execution_count": null,
      "outputs": []
    },
    {
      "cell_type": "code",
      "metadata": {
        "id": "4Rt7c6MMRu92",
        "colab_type": "code",
        "colab": {
          "base_uri": "https://localhost:8080/",
          "height": 68
        },
        "outputId": "6e8506c8-fc19-4d78-a0d7-dba8a653b9fe"
      },
      "source": [
        "print(list1)\n",
        "print(list2)\n",
        "print(list3)"
      ],
      "execution_count": null,
      "outputs": [
        {
          "output_type": "stream",
          "text": [
            "[10, 20, 30, 40]\n",
            "['spam', 'bungee', 'swallow']\n",
            "['hello', 2.0, 5, [10, 20]]\n"
          ],
          "name": "stdout"
        }
      ]
    },
    {
      "cell_type": "code",
      "metadata": {
        "id": "25-AzVoyRyGD",
        "colab_type": "code",
        "colab": {}
      },
      "source": [
        "empty = []"
      ],
      "execution_count": null,
      "outputs": []
    },
    {
      "cell_type": "code",
      "metadata": {
        "id": "k0DzQqOdSEhE",
        "colab_type": "code",
        "colab": {
          "base_uri": "https://localhost:8080/",
          "height": 34
        },
        "outputId": "b93a513c-3bf2-48c6-acf4-3e275fb84a5c"
      },
      "source": [
        "print(empty)"
      ],
      "execution_count": null,
      "outputs": [
        {
          "output_type": "stream",
          "text": [
            "[]\n"
          ],
          "name": "stdout"
        }
      ]
    },
    {
      "cell_type": "code",
      "metadata": {
        "id": "ksedorVKSHD3",
        "colab_type": "code",
        "colab": {}
      },
      "source": [
        "vocabulary = [\"ameliorate\", \"castigate\", \"defenestrate\"]\n",
        "numbers = [17, 123,2.3]\n",
        "empty = []"
      ],
      "execution_count": null,
      "outputs": []
    },
    {
      "cell_type": "markdown",
      "metadata": {
        "id": "zi-fIKeQS6au",
        "colab_type": "text"
      },
      "source": [
        "#Accessing Elements"
      ]
    },
    {
      "cell_type": "markdown",
      "metadata": {
        "id": "kQ6HGQoXTAuw",
        "colab_type": "text"
      },
      "source": [
        "The syntax for accessing the elements of a list is the same as the syntax for\n",
        "accessing the characters of a string|the bracket operator ([]). The expression\n",
        "inside the brackets specifies the index. Remember that the indices start at 0:"
      ]
    },
    {
      "cell_type": "code",
      "metadata": {
        "id": "m6VACH77TR_a",
        "colab_type": "code",
        "colab": {}
      },
      "source": [
        "numbers = [10, 20,30]"
      ],
      "execution_count": null,
      "outputs": []
    },
    {
      "cell_type": "code",
      "metadata": {
        "id": "E3UNPdAaTV_a",
        "colab_type": "code",
        "colab": {
          "base_uri": "https://localhost:8080/",
          "height": 34
        },
        "outputId": "dd7cf90f-6825-4bb4-f4c9-bd84526b11e3"
      },
      "source": [
        "print(numbers)"
      ],
      "execution_count": null,
      "outputs": [
        {
          "output_type": "stream",
          "text": [
            "[10, 20, 30]\n"
          ],
          "name": "stdout"
        }
      ]
    },
    {
      "cell_type": "code",
      "metadata": {
        "id": "B6oLIU12sMDo",
        "colab_type": "code",
        "colab": {
          "base_uri": "https://localhost:8080/",
          "height": 34
        },
        "outputId": "ec83ec54-0137-42f6-f7fe-f7908586ad82"
      },
      "source": [
        "numbers[2]"
      ],
      "execution_count": null,
      "outputs": [
        {
          "output_type": "execute_result",
          "data": {
            "text/plain": [
              "30"
            ]
          },
          "metadata": {
            "tags": []
          },
          "execution_count": 13
        }
      ]
    },
    {
      "cell_type": "markdown",
      "metadata": {
        "id": "2zoI6LV7Wlxz",
        "colab_type": "text"
      },
      "source": [
        "**Lists are mutable** "
      ]
    },
    {
      "cell_type": "code",
      "metadata": {
        "id": "SCTRk3UqS1W1",
        "colab_type": "code",
        "colab": {
          "base_uri": "https://localhost:8080/",
          "height": 51
        },
        "outputId": "f7713738-0600-49e6-e1f3-2cb62c62268f"
      },
      "source": [
        "print (numbers)\n",
        "numbers[1] = 55\n",
        "print(numbers)"
      ],
      "execution_count": null,
      "outputs": [
        {
          "output_type": "stream",
          "text": [
            "[10, 20, 30]\n",
            "[10, 55, 30]\n"
          ],
          "name": "stdout"
        }
      ]
    },
    {
      "cell_type": "markdown",
      "metadata": {
        "id": "XhR2ZjmiTPj6",
        "colab_type": "text"
      },
      "source": [
        "The bracket operator can appear anywhere in an expression. When it appears\n",
        "on the left side of an assignment, it changes one of the elements in the list, so the one-eth element of numbers, which used to be 123, is now 5."
      ]
    },
    {
      "cell_type": "markdown",
      "metadata": {
        "id": "PCsWAl9UTlNs",
        "colab_type": "text"
      },
      "source": [
        "Any integer expression can be used as an index:"
      ]
    },
    {
      "cell_type": "code",
      "metadata": {
        "id": "NmmQGbbHs1bW",
        "colab_type": "code",
        "colab": {
          "base_uri": "https://localhost:8080/",
          "height": 34
        },
        "outputId": "8fdf0755-abfd-49dc-9a87-ff49f68cdac1"
      },
      "source": [
        "type(3/1)"
      ],
      "execution_count": null,
      "outputs": [
        {
          "output_type": "execute_result",
          "data": {
            "text/plain": [
              "float"
            ]
          },
          "metadata": {
            "tags": []
          },
          "execution_count": 19
        }
      ]
    },
    {
      "cell_type": "code",
      "metadata": {
        "id": "dfClEcBjs3hm",
        "colab_type": "code",
        "colab": {
          "base_uri": "https://localhost:8080/",
          "height": 34
        },
        "outputId": "a9a3dd48-cf8d-4309-f21d-b2dc5c21bde8"
      },
      "source": [
        "3/1"
      ],
      "execution_count": null,
      "outputs": [
        {
          "output_type": "execute_result",
          "data": {
            "text/plain": [
              "3.0"
            ]
          },
          "metadata": {
            "tags": []
          },
          "execution_count": 20
        }
      ]
    },
    {
      "cell_type": "code",
      "metadata": {
        "id": "dzGXbNNnTGGj",
        "colab_type": "code",
        "colab": {
          "base_uri": "https://localhost:8080/",
          "height": 164
        },
        "outputId": "368863b4-b334-49db-b936-fa0e4bb712c6"
      },
      "source": [
        "numbers[3/1]"
      ],
      "execution_count": null,
      "outputs": [
        {
          "output_type": "error",
          "ename": "TypeError",
          "evalue": "ignored",
          "traceback": [
            "\u001b[0;31m---------------------------------------------------------------------------\u001b[0m",
            "\u001b[0;31mTypeError\u001b[0m                                 Traceback (most recent call last)",
            "\u001b[0;32m<ipython-input-18-3bb47ec7ddac>\u001b[0m in \u001b[0;36m<module>\u001b[0;34m()\u001b[0m\n\u001b[0;32m----> 1\u001b[0;31m \u001b[0mnumbers\u001b[0m\u001b[0;34m[\u001b[0m\u001b[0;36m3\u001b[0m\u001b[0;34m/\u001b[0m\u001b[0;36m1\u001b[0m\u001b[0;34m]\u001b[0m\u001b[0;34m\u001b[0m\u001b[0;34m\u001b[0m\u001b[0m\n\u001b[0m",
            "\u001b[0;31mTypeError\u001b[0m: list indices must be integers or slices, not float"
          ]
        }
      ]
    },
    {
      "cell_type": "code",
      "metadata": {
        "id": "OjPAKt-ITnHf",
        "colab_type": "code",
        "colab": {
          "base_uri": "https://localhost:8080/",
          "height": 163
        },
        "outputId": "c235de4d-6e57-4d8c-8382-fb3a420fbc1b"
      },
      "source": [
        "numbers[1.0]"
      ],
      "execution_count": null,
      "outputs": [
        {
          "output_type": "error",
          "ename": "TypeError",
          "evalue": "ignored",
          "traceback": [
            "\u001b[0;31m---------------------------------------------------------------------------\u001b[0m",
            "\u001b[0;31mTypeError\u001b[0m                                 Traceback (most recent call last)",
            "\u001b[0;32m<ipython-input-20-465ed91686c6>\u001b[0m in \u001b[0;36m<module>\u001b[0;34m()\u001b[0m\n\u001b[0;32m----> 1\u001b[0;31m \u001b[0mnumbers\u001b[0m\u001b[0;34m[\u001b[0m\u001b[0;36m1.0\u001b[0m\u001b[0;34m]\u001b[0m\u001b[0;34m\u001b[0m\u001b[0;34m\u001b[0m\u001b[0m\n\u001b[0m",
            "\u001b[0;31mTypeError\u001b[0m: list indices must be integers or slices, not float"
          ]
        }
      ]
    },
    {
      "cell_type": "code",
      "metadata": {
        "id": "RAa233pUToaS",
        "colab_type": "code",
        "colab": {
          "base_uri": "https://localhost:8080/",
          "height": 164
        },
        "outputId": "7a369a91-ac6b-4419-975a-c099c70cac9d"
      },
      "source": [
        "numbers[4] = 5"
      ],
      "execution_count": null,
      "outputs": [
        {
          "output_type": "error",
          "ename": "IndexError",
          "evalue": "ignored",
          "traceback": [
            "\u001b[0;31m---------------------------------------------------------------------------\u001b[0m",
            "\u001b[0;31mIndexError\u001b[0m                                Traceback (most recent call last)",
            "\u001b[0;32m<ipython-input-21-ebb1adec07ec>\u001b[0m in \u001b[0;36m<module>\u001b[0;34m()\u001b[0m\n\u001b[0;32m----> 1\u001b[0;31m \u001b[0mnumbers\u001b[0m\u001b[0;34m[\u001b[0m\u001b[0;36m4\u001b[0m\u001b[0;34m]\u001b[0m \u001b[0;34m=\u001b[0m \u001b[0;36m5\u001b[0m\u001b[0;34m\u001b[0m\u001b[0;34m\u001b[0m\u001b[0m\n\u001b[0m",
            "\u001b[0;31mIndexError\u001b[0m: list assignment index out of range"
          ]
        }
      ]
    },
    {
      "cell_type": "markdown",
      "metadata": {
        "id": "5g-35ndxTu1b",
        "colab_type": "text"
      },
      "source": [
        "If an index has a negative value, it counts backward from the end of the list:"
      ]
    },
    {
      "cell_type": "code",
      "metadata": {
        "id": "ugyEXu2gtF0p",
        "colab_type": "code",
        "colab": {
          "base_uri": "https://localhost:8080/",
          "height": 34
        },
        "outputId": "a505ba73-b381-4dbe-f192-88c3682cba3d"
      },
      "source": [
        "numbers"
      ],
      "execution_count": null,
      "outputs": [
        {
          "output_type": "execute_result",
          "data": {
            "text/plain": [
              "[10, 55, 30]"
            ]
          },
          "metadata": {
            "tags": []
          },
          "execution_count": 23
        }
      ]
    },
    {
      "cell_type": "code",
      "metadata": {
        "id": "gm7EmIuRTq4z",
        "colab_type": "code",
        "colab": {
          "base_uri": "https://localhost:8080/",
          "height": 164
        },
        "outputId": "7017af94-0b44-463a-ca39-68d77bbe02f4"
      },
      "source": [
        "numbers[-4]"
      ],
      "execution_count": null,
      "outputs": [
        {
          "output_type": "error",
          "ename": "IndexError",
          "evalue": "ignored",
          "traceback": [
            "\u001b[0;31m---------------------------------------------------------------------------\u001b[0m",
            "\u001b[0;31mIndexError\u001b[0m                                Traceback (most recent call last)",
            "\u001b[0;32m<ipython-input-26-71d91f5a2aa7>\u001b[0m in \u001b[0;36m<module>\u001b[0;34m()\u001b[0m\n\u001b[0;32m----> 1\u001b[0;31m \u001b[0mnumbers\u001b[0m\u001b[0;34m[\u001b[0m\u001b[0;34m-\u001b[0m\u001b[0;36m4\u001b[0m\u001b[0;34m]\u001b[0m\u001b[0;34m\u001b[0m\u001b[0;34m\u001b[0m\u001b[0m\n\u001b[0m",
            "\u001b[0;31mIndexError\u001b[0m: list index out of range"
          ]
        }
      ]
    },
    {
      "cell_type": "markdown",
      "metadata": {
        "id": "7KsO_Z4aT7I0",
        "colab_type": "text"
      },
      "source": [
        "#List traversal"
      ]
    },
    {
      "cell_type": "code",
      "metadata": {
        "id": "y951TM5qTtTa",
        "colab_type": "code",
        "colab": {
          "base_uri": "https://localhost:8080/",
          "height": 86
        },
        "outputId": "59a631a8-2fd8-409f-8b0c-2b644b09d86a"
      },
      "source": [
        "horsemen = [\"war\", \"famine\", 3, [1,2]]\n",
        "i = 0\n",
        "while i < 4:\n",
        "  print (horsemen[i])\n",
        "  i = i + 1"
      ],
      "execution_count": null,
      "outputs": [
        {
          "output_type": "stream",
          "text": [
            "war\n",
            "famine\n",
            "3\n",
            "[1, 2]\n"
          ],
          "name": "stdout"
        }
      ]
    },
    {
      "cell_type": "code",
      "metadata": {
        "id": "cJ-ApNGVt_nu",
        "colab_type": "code",
        "colab": {
          "base_uri": "https://localhost:8080/",
          "height": 34
        },
        "outputId": "7961eb7c-9fd2-4c63-bcc3-99eaeaf0a430"
      },
      "source": [
        "len(horsemen)"
      ],
      "execution_count": null,
      "outputs": [
        {
          "output_type": "execute_result",
          "data": {
            "text/plain": [
              "4"
            ]
          },
          "metadata": {
            "tags": []
          },
          "execution_count": 31
        }
      ]
    },
    {
      "cell_type": "markdown",
      "metadata": {
        "id": "z6zwaFPTUFg4",
        "colab_type": "text"
      },
      "source": [
        "#List length"
      ]
    },
    {
      "cell_type": "markdown",
      "metadata": {
        "id": "fAjzGaVRUJeW",
        "colab_type": "text"
      },
      "source": [
        "The function len returns the length of a list. It is a good idea to use this value\n",
        "as the upper bound of a loop instead of a constant"
      ]
    },
    {
      "cell_type": "code",
      "metadata": {
        "id": "aHjld7YAtyLX",
        "colab_type": "code",
        "colab": {
          "base_uri": "https://localhost:8080/",
          "height": 34
        },
        "outputId": "6905629d-b7e6-4ff6-c02d-53feb983c7c3"
      },
      "source": [
        "len(horsemen)"
      ],
      "execution_count": null,
      "outputs": [
        {
          "output_type": "execute_result",
          "data": {
            "text/plain": [
              "4"
            ]
          },
          "metadata": {
            "tags": []
          },
          "execution_count": 30
        }
      ]
    },
    {
      "cell_type": "code",
      "metadata": {
        "id": "IWfAXC-_T-o1",
        "colab_type": "code",
        "colab": {
          "base_uri": "https://localhost:8080/",
          "height": 85
        },
        "outputId": "24d6996d-1f72-4ac8-b4f0-60949dab48c1"
      },
      "source": [
        "horsemen = [\"war\", \"famine\", \"pestilence\", \"death\"]\n",
        "i = 0\n",
        "while i < len(horsemen):\n",
        "  print (horsemen[i])\n",
        "  i = i + 1"
      ],
      "execution_count": null,
      "outputs": [
        {
          "output_type": "stream",
          "text": [
            "war\n",
            "famine\n",
            "pestilence\n",
            "death\n"
          ],
          "name": "stdout"
        }
      ]
    },
    {
      "cell_type": "markdown",
      "metadata": {
        "id": "lQNY6I9RUSZ5",
        "colab_type": "text"
      },
      "source": [
        "Although a list can contain another list, the nested list still counts as a single\n",
        "element. The length of this list is four:"
      ]
    },
    {
      "cell_type": "markdown",
      "metadata": {
        "id": "AaIlfG6zUaqi",
        "colab_type": "text"
      },
      "source": [
        "As an exercise, write a loop that traverses the  list and prints\n",
        "the length of each element. What happens if you send an integer to\n",
        "len?"
      ]
    },
    {
      "cell_type": "code",
      "metadata": {
        "id": "up4UdnekUNIJ",
        "colab_type": "code",
        "colab": {}
      },
      "source": [
        "listcheck =['spam!', 1, ['Brie', 'Roquefort', 'Pol le Veq'], [1, 2, 3]]"
      ],
      "execution_count": null,
      "outputs": []
    },
    {
      "cell_type": "code",
      "metadata": {
        "id": "JNCtQDTbURpx",
        "colab_type": "code",
        "colab": {
          "base_uri": "https://localhost:8080/",
          "height": 34
        },
        "outputId": "6fc7c50a-2f08-43b2-d802-4220ddafee1e"
      },
      "source": [
        "len(listcheck)"
      ],
      "execution_count": null,
      "outputs": [
        {
          "output_type": "execute_result",
          "data": {
            "text/plain": [
              "4"
            ]
          },
          "metadata": {
            "tags": []
          },
          "execution_count": 34
        }
      ]
    },
    {
      "cell_type": "markdown",
      "metadata": {
        "id": "S0r6xo_dUyYF",
        "colab_type": "text"
      },
      "source": [
        "#List membership"
      ]
    },
    {
      "cell_type": "markdown",
      "metadata": {
        "id": "aRT4oJGpVAvN",
        "colab_type": "text"
      },
      "source": [
        "in is a boolean operator that tests membership in a sequence."
      ]
    },
    {
      "cell_type": "code",
      "metadata": {
        "id": "-N2kXHq2Uoek",
        "colab_type": "code",
        "colab": {}
      },
      "source": [
        "fruits = ['apple','mango','orange']  \n"
      ],
      "execution_count": null,
      "outputs": []
    },
    {
      "cell_type": "code",
      "metadata": {
        "id": "LeLR83pzVLh3",
        "colab_type": "code",
        "colab": {
          "base_uri": "https://localhost:8080/",
          "height": 34
        },
        "outputId": "d30ab67d-7b07-41da-9a97-ed1deee54d3c"
      },
      "source": [
        "'orange' in fruits"
      ],
      "execution_count": null,
      "outputs": [
        {
          "output_type": "execute_result",
          "data": {
            "text/plain": [
              "True"
            ]
          },
          "metadata": {
            "tags": []
          },
          "execution_count": 37
        }
      ]
    },
    {
      "cell_type": "code",
      "metadata": {
        "id": "jciX9STtVNof",
        "colab_type": "code",
        "colab": {
          "base_uri": "https://localhost:8080/",
          "height": 34
        },
        "outputId": "a0fc817d-c7c4-4c42-f161-28771417d7f4"
      },
      "source": [
        "'banana' in fruits"
      ],
      "execution_count": null,
      "outputs": [
        {
          "output_type": "execute_result",
          "data": {
            "text/plain": [
              "False"
            ]
          },
          "metadata": {
            "tags": []
          },
          "execution_count": 38
        }
      ]
    },
    {
      "cell_type": "code",
      "metadata": {
        "id": "aLQgHodMVVR_",
        "colab_type": "code",
        "colab": {
          "base_uri": "https://localhost:8080/",
          "height": 34
        },
        "outputId": "20fc86ae-7116-4bdf-d50b-436c6b2aa60d"
      },
      "source": [
        "'banana' not in fruits"
      ],
      "execution_count": null,
      "outputs": [
        {
          "output_type": "execute_result",
          "data": {
            "text/plain": [
              "True"
            ]
          },
          "metadata": {
            "tags": []
          },
          "execution_count": 39
        }
      ]
    },
    {
      "cell_type": "markdown",
      "metadata": {
        "id": "CAW27lcaVbN_",
        "colab_type": "text"
      },
      "source": [
        "#Lists and for loops"
      ]
    },
    {
      "cell_type": "code",
      "metadata": {
        "id": "9gJryZbEu6wT",
        "colab_type": "code",
        "colab": {}
      },
      "source": [
        "fruits = ['apple', 'mango', 'orange',3,'grape']"
      ],
      "execution_count": null,
      "outputs": []
    },
    {
      "cell_type": "code",
      "metadata": {
        "id": "iTKpT83gVZle",
        "colab_type": "code",
        "colab": {
          "base_uri": "https://localhost:8080/",
          "height": 103
        },
        "outputId": "bda6cfb7-f095-4ed6-b91b-58d128bacbb9"
      },
      "source": [
        "for fruit in fruits:\n",
        "  print (\"I like to eat\",fruit)"
      ],
      "execution_count": null,
      "outputs": [
        {
          "output_type": "stream",
          "text": [
            "I like to eat apple\n",
            "I like to eat mango\n",
            "I like to eat orange\n",
            "I like to eat 3\n",
            "I like to eat grape\n"
          ],
          "name": "stdout"
        }
      ]
    },
    {
      "cell_type": "markdown",
      "metadata": {
        "id": "LHVHMniMV7q8",
        "colab_type": "text"
      },
      "source": [
        "Range doesnot returns list in Python 3"
      ]
    },
    {
      "cell_type": "code",
      "metadata": {
        "id": "_M1kjOZIvmh2",
        "colab_type": "code",
        "colab": {
          "base_uri": "https://localhost:8080/",
          "height": 34
        },
        "outputId": "033909af-c0b0-44ea-e991-9dbc6d1a23a5"
      },
      "source": [
        "range(20)"
      ],
      "execution_count": null,
      "outputs": [
        {
          "output_type": "execute_result",
          "data": {
            "text/plain": [
              "range(0, 20)"
            ]
          },
          "metadata": {
            "tags": []
          },
          "execution_count": 46
        }
      ]
    },
    {
      "cell_type": "code",
      "metadata": {
        "id": "bEH-bxotVhud",
        "colab_type": "code",
        "colab": {
          "base_uri": "https://localhost:8080/",
          "height": 187
        },
        "outputId": "c1b4d0e4-df5b-4a49-fa70-faa6be364d95"
      },
      "source": [
        "for number in range(20):\n",
        "  if number % 2 == 0:\n",
        "    print (number)"
      ],
      "execution_count": null,
      "outputs": [
        {
          "output_type": "stream",
          "text": [
            "0\n",
            "2\n",
            "4\n",
            "6\n",
            "8\n",
            "10\n",
            "12\n",
            "14\n",
            "16\n",
            "18\n"
          ],
          "name": "stdout"
        }
      ]
    },
    {
      "cell_type": "markdown",
      "metadata": {
        "id": "6MdlFUmpWBQ9",
        "colab_type": "text"
      },
      "source": [
        "#List operations"
      ]
    },
    {
      "cell_type": "code",
      "metadata": {
        "id": "FFDrIKjVV0CP",
        "colab_type": "code",
        "colab": {
          "base_uri": "https://localhost:8080/",
          "height": 34
        },
        "outputId": "eaa2b4ac-def8-4fc4-bf96-b3ab96ad86ea"
      },
      "source": [
        "a = [1, 2, 3]\n",
        "b = [4, 5, 6]\n",
        "print(a+b)"
      ],
      "execution_count": null,
      "outputs": [
        {
          "output_type": "stream",
          "text": [
            "[1, 2, 3, 4, 5, 6]\n"
          ],
          "name": "stdout"
        }
      ]
    },
    {
      "cell_type": "markdown",
      "metadata": {
        "id": "__MAlvKtWJo4",
        "colab_type": "text"
      },
      "source": [
        "the * operator repeats a list a given number of times:"
      ]
    },
    {
      "cell_type": "code",
      "metadata": {
        "id": "ibLut9cYWGi2",
        "colab_type": "code",
        "colab": {
          "base_uri": "https://localhost:8080/",
          "height": 34
        },
        "outputId": "e6c02925-fd98-4add-fda7-4621ff1836c9"
      },
      "source": [
        "[1]*5"
      ],
      "execution_count": null,
      "outputs": [
        {
          "output_type": "execute_result",
          "data": {
            "text/plain": [
              "[1, 1, 1, 1, 1]"
            ]
          },
          "metadata": {
            "tags": []
          },
          "execution_count": 44
        }
      ]
    },
    {
      "cell_type": "code",
      "metadata": {
        "id": "lgtuWK4vWOKI",
        "colab_type": "code",
        "colab": {
          "base_uri": "https://localhost:8080/",
          "height": 531
        },
        "outputId": "fb80c266-3c28-4143-8828-ad120dfdb16e"
      },
      "source": [
        "[1, 2, 3] * 10"
      ],
      "execution_count": null,
      "outputs": [
        {
          "output_type": "execute_result",
          "data": {
            "text/plain": [
              "[1,\n",
              " 2,\n",
              " 3,\n",
              " 1,\n",
              " 2,\n",
              " 3,\n",
              " 1,\n",
              " 2,\n",
              " 3,\n",
              " 1,\n",
              " 2,\n",
              " 3,\n",
              " 1,\n",
              " 2,\n",
              " 3,\n",
              " 1,\n",
              " 2,\n",
              " 3,\n",
              " 1,\n",
              " 2,\n",
              " 3,\n",
              " 1,\n",
              " 2,\n",
              " 3,\n",
              " 1,\n",
              " 2,\n",
              " 3,\n",
              " 1,\n",
              " 2,\n",
              " 3]"
            ]
          },
          "metadata": {
            "tags": []
          },
          "execution_count": 51
        }
      ]
    },
    {
      "cell_type": "markdown",
      "metadata": {
        "id": "_KG9b-k5WSER",
        "colab_type": "text"
      },
      "source": [
        "#List slices"
      ]
    },
    {
      "cell_type": "code",
      "metadata": {
        "id": "pzqpeK8TWPo8",
        "colab_type": "code",
        "colab": {}
      },
      "source": [
        "mylist = ['a', 'b', 'c', 'd', 'e', 'f']"
      ],
      "execution_count": null,
      "outputs": []
    },
    {
      "cell_type": "code",
      "metadata": {
        "id": "ZN6IEJpDWYAY",
        "colab_type": "code",
        "colab": {
          "base_uri": "https://localhost:8080/",
          "height": 34
        },
        "outputId": "507115c9-ef32-4b74-b21d-c92874012d4d"
      },
      "source": [
        "mylist[1:4]"
      ],
      "execution_count": null,
      "outputs": [
        {
          "output_type": "execute_result",
          "data": {
            "text/plain": [
              "['b', 'c', 'd']"
            ]
          },
          "metadata": {
            "tags": []
          },
          "execution_count": 58
        }
      ]
    },
    {
      "cell_type": "code",
      "metadata": {
        "id": "kP_TLXFmWZ0e",
        "colab_type": "code",
        "colab": {
          "base_uri": "https://localhost:8080/",
          "height": 34
        },
        "outputId": "68e89fac-5e1a-46a8-842b-39401f0aeb44"
      },
      "source": [
        "mylist[:4]"
      ],
      "execution_count": null,
      "outputs": [
        {
          "output_type": "execute_result",
          "data": {
            "text/plain": [
              "['a', 'b', 'c', 'd']"
            ]
          },
          "metadata": {
            "tags": []
          },
          "execution_count": 59
        }
      ]
    },
    {
      "cell_type": "code",
      "metadata": {
        "id": "R3jSAcSYWbEp",
        "colab_type": "code",
        "colab": {
          "base_uri": "https://localhost:8080/",
          "height": 34
        },
        "outputId": "2973d4d9-4f39-45f4-9277-5df2167b7619"
      },
      "source": [
        "mylist[3:]"
      ],
      "execution_count": null,
      "outputs": [
        {
          "output_type": "execute_result",
          "data": {
            "text/plain": [
              "['d', 'e', 'f']"
            ]
          },
          "metadata": {
            "tags": []
          },
          "execution_count": 60
        }
      ]
    },
    {
      "cell_type": "code",
      "metadata": {
        "id": "R7LkxwkLWcUl",
        "colab_type": "code",
        "colab": {
          "base_uri": "https://localhost:8080/",
          "height": 34
        },
        "outputId": "d32b8f60-64f6-4503-f582-0d7480639709"
      },
      "source": [
        "list[:]"
      ],
      "execution_count": null,
      "outputs": [
        {
          "output_type": "execute_result",
          "data": {
            "text/plain": [
              "['a', 'b', 'c', 'd', 'e', 'f']"
            ]
          },
          "metadata": {
            "tags": []
          },
          "execution_count": 61
        }
      ]
    },
    {
      "cell_type": "markdown",
      "metadata": {
        "id": "gKmseykpW08b",
        "colab_type": "text"
      },
      "source": [
        "#List deletion"
      ]
    },
    {
      "cell_type": "code",
      "metadata": {
        "id": "eUfvKhQRWdkL",
        "colab_type": "code",
        "colab": {}
      },
      "source": [
        "a = ['one', 'two', 'three']"
      ],
      "execution_count": null,
      "outputs": []
    },
    {
      "cell_type": "code",
      "metadata": {
        "id": "TxyGCowKW5X5",
        "colab_type": "code",
        "colab": {}
      },
      "source": [
        "del a[0]"
      ],
      "execution_count": null,
      "outputs": []
    },
    {
      "cell_type": "code",
      "metadata": {
        "id": "EP4gY-iUW6oN",
        "colab_type": "code",
        "colab": {
          "base_uri": "https://localhost:8080/",
          "height": 34
        },
        "outputId": "7ef80338-9e80-470b-99ab-2efa0db7cf54"
      },
      "source": [
        "a"
      ],
      "execution_count": null,
      "outputs": [
        {
          "output_type": "execute_result",
          "data": {
            "text/plain": [
              "['two', 'three']"
            ]
          },
          "metadata": {
            "tags": []
          },
          "execution_count": 64
        }
      ]
    },
    {
      "cell_type": "markdown",
      "metadata": {
        "id": "RI3a58LvXAl-",
        "colab_type": "text"
      },
      "source": [
        "del handles negative indices and causes a runtime error\n",
        "if the index is out of range."
      ]
    },
    {
      "cell_type": "code",
      "metadata": {
        "id": "Tua93et6W60t",
        "colab_type": "code",
        "colab": {}
      },
      "source": [
        "del a[-1]"
      ],
      "execution_count": null,
      "outputs": []
    },
    {
      "cell_type": "code",
      "metadata": {
        "id": "3tJS0iyBXCJf",
        "colab_type": "code",
        "colab": {
          "base_uri": "https://localhost:8080/",
          "height": 34
        },
        "outputId": "f38e33e1-9bb8-479e-dcff-5edac9b9605b"
      },
      "source": [
        "a"
      ],
      "execution_count": null,
      "outputs": [
        {
          "output_type": "execute_result",
          "data": {
            "text/plain": [
              "['two']"
            ]
          },
          "metadata": {
            "tags": []
          },
          "execution_count": 66
        }
      ]
    },
    {
      "cell_type": "code",
      "metadata": {
        "id": "F23XDAI0XCWN",
        "colab_type": "code",
        "colab": {
          "base_uri": "https://localhost:8080/",
          "height": 164
        },
        "outputId": "6f203ac7-c381-4621-e7ea-8b233d36ae4f"
      },
      "source": [
        "del a[3]"
      ],
      "execution_count": null,
      "outputs": [
        {
          "output_type": "error",
          "ename": "IndexError",
          "evalue": "ignored",
          "traceback": [
            "\u001b[0;31m---------------------------------------------------------------------------\u001b[0m",
            "\u001b[0;31mIndexError\u001b[0m                                Traceback (most recent call last)",
            "\u001b[0;32m<ipython-input-67-2e197d0bc8c9>\u001b[0m in \u001b[0;36m<module>\u001b[0;34m()\u001b[0m\n\u001b[0;32m----> 1\u001b[0;31m \u001b[0;32mdel\u001b[0m \u001b[0ma\u001b[0m\u001b[0;34m[\u001b[0m\u001b[0;36m3\u001b[0m\u001b[0;34m]\u001b[0m\u001b[0;34m\u001b[0m\u001b[0;34m\u001b[0m\u001b[0m\n\u001b[0m",
            "\u001b[0;31mIndexError\u001b[0m: list assignment index out of range"
          ]
        }
      ]
    },
    {
      "cell_type": "markdown",
      "metadata": {
        "id": "fdnflUH-XNWQ",
        "colab_type": "text"
      },
      "source": [
        "You can use a slice as an index for del:"
      ]
    },
    {
      "cell_type": "code",
      "metadata": {
        "id": "gSmPiM1kXIKb",
        "colab_type": "code",
        "colab": {}
      },
      "source": [
        "list = ['a', 'b', 'c', 'd', 'e', 'f']"
      ],
      "execution_count": null,
      "outputs": []
    },
    {
      "cell_type": "markdown",
      "metadata": {
        "id": "rV9u7T86XXXy",
        "colab_type": "text"
      },
      "source": [
        "slices select all the elements up to, but not including, the second index."
      ]
    },
    {
      "cell_type": "code",
      "metadata": {
        "id": "aULJsj_IXSNx",
        "colab_type": "code",
        "colab": {}
      },
      "source": [
        "del list[1:3]"
      ],
      "execution_count": null,
      "outputs": []
    },
    {
      "cell_type": "code",
      "metadata": {
        "id": "wAPOpCrhXTf-",
        "colab_type": "code",
        "colab": {
          "base_uri": "https://localhost:8080/",
          "height": 34
        },
        "outputId": "8e1c4825-3c7a-482a-afa5-39de14ebd6f2"
      },
      "source": [
        "list"
      ],
      "execution_count": null,
      "outputs": [
        {
          "output_type": "execute_result",
          "data": {
            "text/plain": [
              "['a', 'd', 'e', 'f']"
            ]
          },
          "metadata": {
            "tags": []
          },
          "execution_count": 70
        }
      ]
    },
    {
      "cell_type": "markdown",
      "metadata": {
        "id": "Z0NNb9AvY5oS",
        "colab_type": "text"
      },
      "source": [
        "#Objects and values\n"
      ]
    },
    {
      "cell_type": "code",
      "metadata": {
        "id": "4su6z7PwXT29",
        "colab_type": "code",
        "colab": {}
      },
      "source": [
        "a = \"banana\"\n",
        "b = \"banana\"\n"
      ],
      "execution_count": null,
      "outputs": []
    },
    {
      "cell_type": "code",
      "metadata": {
        "id": "PmEVdKlMY-xn",
        "colab_type": "code",
        "colab": {
          "base_uri": "https://localhost:8080/",
          "height": 34
        },
        "outputId": "180f9b5a-16c5-49f2-cece-2d7b9291b6fe"
      },
      "source": [
        "id(a)"
      ],
      "execution_count": null,
      "outputs": [
        {
          "output_type": "execute_result",
          "data": {
            "text/plain": [
              "140509429668304"
            ]
          },
          "metadata": {
            "tags": []
          },
          "execution_count": 72
        }
      ]
    },
    {
      "cell_type": "code",
      "metadata": {
        "id": "KYXbVXJQY_Za",
        "colab_type": "code",
        "colab": {
          "base_uri": "https://localhost:8080/",
          "height": 34
        },
        "outputId": "9a4245bf-4667-42ac-b5f1-07a9a8d9ed63"
      },
      "source": [
        "id(b)"
      ],
      "execution_count": null,
      "outputs": [
        {
          "output_type": "execute_result",
          "data": {
            "text/plain": [
              "140509429668304"
            ]
          },
          "metadata": {
            "tags": []
          },
          "execution_count": 73
        }
      ]
    },
    {
      "cell_type": "code",
      "metadata": {
        "id": "xHgFoNTcY_7H",
        "colab_type": "code",
        "colab": {}
      },
      "source": [
        "c = [1, 2, 3]\n",
        "d = [1, 2, 3]"
      ],
      "execution_count": null,
      "outputs": []
    },
    {
      "cell_type": "code",
      "metadata": {
        "id": "p5jbMh3JZGsf",
        "colab_type": "code",
        "colab": {
          "base_uri": "https://localhost:8080/",
          "height": 34
        },
        "outputId": "e0486cf1-2f72-41c7-c810-41508d1cc1a4"
      },
      "source": [
        "id(c)"
      ],
      "execution_count": null,
      "outputs": [
        {
          "output_type": "execute_result",
          "data": {
            "text/plain": [
              "140509429685640"
            ]
          },
          "metadata": {
            "tags": []
          },
          "execution_count": 75
        }
      ]
    },
    {
      "cell_type": "code",
      "metadata": {
        "id": "LL8K9OGEZHit",
        "colab_type": "code",
        "colab": {
          "base_uri": "https://localhost:8080/",
          "height": 34
        },
        "outputId": "ad1b673a-9b13-426d-976a-566aae233fe6"
      },
      "source": [
        "id(d)"
      ],
      "execution_count": null,
      "outputs": [
        {
          "output_type": "execute_result",
          "data": {
            "text/plain": [
              "140509429268552"
            ]
          },
          "metadata": {
            "tags": []
          },
          "execution_count": 76
        }
      ]
    },
    {
      "cell_type": "markdown",
      "metadata": {
        "id": "xH2kRUeJZK5e",
        "colab_type": "text"
      },
      "source": [
        "#Aliasing"
      ]
    },
    {
      "cell_type": "code",
      "metadata": {
        "id": "QP1eN8YcZIY4",
        "colab_type": "code",
        "colab": {}
      },
      "source": [
        "d = [1, 2, 3]\n",
        "e=d"
      ],
      "execution_count": null,
      "outputs": []
    },
    {
      "cell_type": "code",
      "metadata": {
        "id": "K4Lhq_IhZQ9P",
        "colab_type": "code",
        "colab": {
          "base_uri": "https://localhost:8080/",
          "height": 34
        },
        "outputId": "56c19e96-0bdf-40c6-e4e5-114995b25d04"
      },
      "source": [
        "id(d)"
      ],
      "execution_count": null,
      "outputs": [
        {
          "output_type": "execute_result",
          "data": {
            "text/plain": [
              "140509429291016"
            ]
          },
          "metadata": {
            "tags": []
          },
          "execution_count": 78
        }
      ]
    },
    {
      "cell_type": "code",
      "metadata": {
        "id": "AnhvrL-mZhkZ",
        "colab_type": "code",
        "colab": {
          "base_uri": "https://localhost:8080/",
          "height": 34
        },
        "outputId": "a381a917-105d-48a7-f0b3-97e45ddbcc44"
      },
      "source": [
        "id(e)"
      ],
      "execution_count": null,
      "outputs": [
        {
          "output_type": "execute_result",
          "data": {
            "text/plain": [
              "140509429291016"
            ]
          },
          "metadata": {
            "tags": []
          },
          "execution_count": 79
        }
      ]
    },
    {
      "cell_type": "markdown",
      "metadata": {
        "id": "FiXuKuNcZlSa",
        "colab_type": "text"
      },
      "source": [
        "Because the same list has two different names, a and b, we say that it is aliased."
      ]
    },
    {
      "cell_type": "markdown",
      "metadata": {
        "id": "MZFUzQM0Zutb",
        "colab_type": "text"
      },
      "source": [
        "Changes made with one alias affect the other"
      ]
    },
    {
      "cell_type": "code",
      "metadata": {
        "id": "i8uvKAYZZiD4",
        "colab_type": "code",
        "colab": {}
      },
      "source": [
        "d = [1, 2, 3]\n",
        "e=d\n",
        "e[0]=10"
      ],
      "execution_count": null,
      "outputs": []
    },
    {
      "cell_type": "code",
      "metadata": {
        "id": "GFyyWqGYZz0o",
        "colab_type": "code",
        "colab": {
          "base_uri": "https://localhost:8080/",
          "height": 34
        },
        "outputId": "f5880455-55ab-4530-8116-04f2423e2174"
      },
      "source": [
        "print(e)"
      ],
      "execution_count": null,
      "outputs": [
        {
          "output_type": "stream",
          "text": [
            "[10, 2, 3]\n"
          ],
          "name": "stdout"
        }
      ]
    },
    {
      "cell_type": "code",
      "metadata": {
        "id": "0P3X_xQ9Z1r7",
        "colab_type": "code",
        "colab": {
          "base_uri": "https://localhost:8080/",
          "height": 34
        },
        "outputId": "26dcef35-4bb5-4a43-dbe5-e2ec0c1d9b25"
      },
      "source": [
        "print(d)"
      ],
      "execution_count": null,
      "outputs": [
        {
          "output_type": "stream",
          "text": [
            "[10, 2, 3]\n"
          ],
          "name": "stdout"
        }
      ]
    },
    {
      "cell_type": "markdown",
      "metadata": {
        "id": "EgL2qAS7aBMU",
        "colab_type": "text"
      },
      "source": [
        "In general, it is safer to avoid aliasing when you are working with mutable\n",
        "objects"
      ]
    },
    {
      "cell_type": "markdown",
      "metadata": {
        "id": "JTzfRiKyXtXT",
        "colab_type": "text"
      },
      "source": [
        "#Cloning lists"
      ]
    },
    {
      "cell_type": "markdown",
      "metadata": {
        "id": "ZKZ9b_NdXzN8",
        "colab_type": "text"
      },
      "source": [
        "If we want to modify a list and also keep a copy of the original, we need to\n",
        "be able to make a copy of the list itself, not just the reference. This process is\n",
        "sometimes called cloning"
      ]
    },
    {
      "cell_type": "code",
      "metadata": {
        "id": "EUo_8adiXwHz",
        "colab_type": "code",
        "colab": {
          "base_uri": "https://localhost:8080/",
          "height": 34
        },
        "outputId": "7f9ab174-a291-4810-9ff2-b1ccd428d568"
      },
      "source": [
        "a = [1, 2, 3]\n",
        "b = a[:]\n",
        "print (b)"
      ],
      "execution_count": null,
      "outputs": [
        {
          "output_type": "stream",
          "text": [
            "[1, 2, 3]\n"
          ],
          "name": "stdout"
        }
      ]
    },
    {
      "cell_type": "code",
      "metadata": {
        "id": "AVGlOGtrX-2u",
        "colab_type": "code",
        "colab": {
          "base_uri": "https://localhost:8080/",
          "height": 34
        },
        "outputId": "5ba29789-24a7-421b-d2f3-1ec5334ea5d4"
      },
      "source": [
        "b[0] = 5\n",
        "print (a)"
      ],
      "execution_count": null,
      "outputs": [
        {
          "output_type": "stream",
          "text": [
            "[1, 2, 3]\n"
          ],
          "name": "stdout"
        }
      ]
    },
    {
      "cell_type": "markdown",
      "metadata": {
        "id": "MXxsSM7MX72R",
        "colab_type": "text"
      },
      "source": [
        "Taking any slice of a creates a new list. In this case the slice happens to consist\n",
        "of the whole list.\n",
        "Now we are free to make changes to b without worrying about a"
      ]
    },
    {
      "cell_type": "markdown",
      "metadata": {
        "id": "2mBRM2RLaFUp",
        "colab_type": "text"
      },
      "source": [
        "#List parameters"
      ]
    },
    {
      "cell_type": "markdown",
      "metadata": {
        "id": "Khk7Ig7raLR9",
        "colab_type": "text"
      },
      "source": [
        "Passing a list as an argument actually passes a reference to the list, not a copy\n",
        "of the list"
      ]
    },
    {
      "cell_type": "code",
      "metadata": {
        "id": "YD-mShHhZ2ix",
        "colab_type": "code",
        "colab": {}
      },
      "source": [
        "def head(list):\n",
        "  return list[0]"
      ],
      "execution_count": null,
      "outputs": []
    },
    {
      "cell_type": "code",
      "metadata": {
        "id": "2AHM4F-iaOC5",
        "colab_type": "code",
        "colab": {}
      },
      "source": [
        "numbers = [1, 2, 3]"
      ],
      "execution_count": null,
      "outputs": []
    },
    {
      "cell_type": "code",
      "metadata": {
        "id": "CGAP2q-JaPyS",
        "colab_type": "code",
        "colab": {
          "base_uri": "https://localhost:8080/",
          "height": 34
        },
        "outputId": "85085f91-e2a3-477e-c44f-8f5b593b356b"
      },
      "source": [
        "head(numbers)"
      ],
      "execution_count": null,
      "outputs": [
        {
          "output_type": "execute_result",
          "data": {
            "text/plain": [
              "1"
            ]
          },
          "metadata": {
            "tags": []
          },
          "execution_count": 79
        }
      ]
    },
    {
      "cell_type": "markdown",
      "metadata": {
        "id": "zmmmIY7kaX1x",
        "colab_type": "text"
      },
      "source": [
        "The parameter list and the variable numbers are aliases for the same object."
      ]
    },
    {
      "cell_type": "markdown",
      "metadata": {
        "id": "XjLY8CoabLqQ",
        "colab_type": "text"
      },
      "source": [
        "If a function modifies a list parameter, the caller sees the change"
      ]
    },
    {
      "cell_type": "code",
      "metadata": {
        "id": "QekbcBCRbJzZ",
        "colab_type": "code",
        "colab": {}
      },
      "source": [
        "def deleteHead(list):\n",
        " del list[0]"
      ],
      "execution_count": null,
      "outputs": []
    },
    {
      "cell_type": "code",
      "metadata": {
        "id": "2x2PJMV_aR0R",
        "colab_type": "code",
        "colab": {
          "base_uri": "https://localhost:8080/",
          "height": 34
        },
        "outputId": "75365938-07e0-49ee-931e-008600d561f8"
      },
      "source": [
        "numbers = [1, 2, 3]\n",
        "deleteHead(numbers)\n",
        "print(numbers)"
      ],
      "execution_count": null,
      "outputs": [
        {
          "output_type": "stream",
          "text": [
            "[2, 3]\n"
          ],
          "name": "stdout"
        }
      ]
    },
    {
      "cell_type": "markdown",
      "metadata": {
        "id": "KLdNhh3lbXk_",
        "colab_type": "text"
      },
      "source": [
        "If a function returns a list, it returns a reference to the list."
      ]
    },
    {
      "cell_type": "code",
      "metadata": {
        "id": "Kw1qG6vmbU_h",
        "colab_type": "code",
        "colab": {}
      },
      "source": [
        "def tail(list):\n",
        "  return list[1:]"
      ],
      "execution_count": null,
      "outputs": []
    },
    {
      "cell_type": "code",
      "metadata": {
        "id": "a1I2S0kHbaek",
        "colab_type": "code",
        "colab": {
          "base_uri": "https://localhost:8080/",
          "height": 34
        },
        "outputId": "609fe4c9-bd8a-4cdc-d81a-97bdb6ed9e90"
      },
      "source": [
        "numbers = [1, 2, 3]\n",
        "rest = tail(numbers)\n",
        "print(rest)"
      ],
      "execution_count": null,
      "outputs": [
        {
          "output_type": "stream",
          "text": [
            "[2, 3]\n"
          ],
          "name": "stdout"
        }
      ]
    },
    {
      "cell_type": "markdown",
      "metadata": {
        "id": "uUGTmAvcbh-p",
        "colab_type": "text"
      },
      "source": [
        "Because the return value was created with the slice operator, it is a new list."
      ]
    },
    {
      "cell_type": "markdown",
      "metadata": {
        "id": "z9kAwdiqbrg8",
        "colab_type": "text"
      },
      "source": [
        "#Nested lists"
      ]
    },
    {
      "cell_type": "code",
      "metadata": {
        "id": "p96maaNPbej7",
        "colab_type": "code",
        "colab": {}
      },
      "source": [
        "list = [\"hello\", 2.0, 5, [10, 20]]"
      ],
      "execution_count": null,
      "outputs": []
    },
    {
      "cell_type": "code",
      "metadata": {
        "id": "4BtcPX-cbpKj",
        "colab_type": "code",
        "colab": {
          "base_uri": "https://localhost:8080/",
          "height": 34
        },
        "outputId": "d57f8e2f-9bec-4b56-e7f8-3c4284690c89"
      },
      "source": [
        "list[3]"
      ],
      "execution_count": null,
      "outputs": [
        {
          "output_type": "execute_result",
          "data": {
            "text/plain": [
              "[10, 20]"
            ]
          },
          "metadata": {
            "tags": []
          },
          "execution_count": 85
        }
      ]
    },
    {
      "cell_type": "code",
      "metadata": {
        "id": "Vuy6N1RrbuGE",
        "colab_type": "code",
        "colab": {
          "base_uri": "https://localhost:8080/",
          "height": 34
        },
        "outputId": "40bf3bb1-e89a-4159-f23b-140eb45919b6"
      },
      "source": [
        "elt = list[3]\n",
        "elt[1]"
      ],
      "execution_count": null,
      "outputs": [
        {
          "output_type": "execute_result",
          "data": {
            "text/plain": [
              "20"
            ]
          },
          "metadata": {
            "tags": []
          },
          "execution_count": 86
        }
      ]
    },
    {
      "cell_type": "code",
      "metadata": {
        "id": "fUor7Fw0bwey",
        "colab_type": "code",
        "colab": {
          "base_uri": "https://localhost:8080/",
          "height": 34
        },
        "outputId": "68f3a4c4-9ca3-4fee-8681-754efa733c6c"
      },
      "source": [
        "list[3][1]"
      ],
      "execution_count": null,
      "outputs": [
        {
          "output_type": "execute_result",
          "data": {
            "text/plain": [
              "20"
            ]
          },
          "metadata": {
            "tags": []
          },
          "execution_count": 87
        }
      ]
    },
    {
      "cell_type": "markdown",
      "metadata": {
        "id": "JkEmDEnCb0VA",
        "colab_type": "text"
      },
      "source": [
        "Bracket operators evaluate from left to right, so this expression gets the threeeth\n",
        "element of list and extracts the one-eth element from it."
      ]
    },
    {
      "cell_type": "markdown",
      "metadata": {
        "id": "qrnKZ8qyYJIg",
        "colab_type": "text"
      },
      "source": [
        "#Matrices"
      ]
    },
    {
      "cell_type": "markdown",
      "metadata": {
        "id": "7l9fwSZiYR_6",
        "colab_type": "text"
      },
      "source": [
        "Nested lists are often used to represent matrices"
      ]
    },
    {
      "cell_type": "markdown",
      "metadata": {
        "id": "wAs_9pGeYeB6",
        "colab_type": "text"
      },
      "source": [
        "matrix is a list with three elements, where each element is a row of the matrix."
      ]
    },
    {
      "cell_type": "code",
      "metadata": {
        "id": "60A8F4MhbyE3",
        "colab_type": "code",
        "colab": {}
      },
      "source": [
        "matrix = [[1, 2, 3], [4, 5, 6], [7, 8, 9]]"
      ],
      "execution_count": null,
      "outputs": []
    },
    {
      "cell_type": "markdown",
      "metadata": {
        "id": "pyIeW4EpYiyL",
        "colab_type": "text"
      },
      "source": [
        "We can select an entire row from the matrix in the usual way:"
      ]
    },
    {
      "cell_type": "code",
      "metadata": {
        "id": "jRl1MwdEYa2d",
        "colab_type": "code",
        "colab": {
          "base_uri": "https://localhost:8080/",
          "height": 34
        },
        "outputId": "bc1fd16e-a0e1-4357-c647-9c630f97dc98"
      },
      "source": [
        "matrix[1]"
      ],
      "execution_count": null,
      "outputs": [
        {
          "output_type": "execute_result",
          "data": {
            "text/plain": [
              "[4, 5, 6]"
            ]
          },
          "metadata": {
            "tags": []
          },
          "execution_count": 4
        }
      ]
    },
    {
      "cell_type": "markdown",
      "metadata": {
        "id": "UTWHqYJoYmYR",
        "colab_type": "text"
      },
      "source": [
        "Or we can extract a single element from the matrix using the double-index form"
      ]
    },
    {
      "cell_type": "code",
      "metadata": {
        "id": "JVSmPH-GYkF8",
        "colab_type": "code",
        "colab": {
          "base_uri": "https://localhost:8080/",
          "height": 34
        },
        "outputId": "6546d47c-e94a-44d0-9557-b5e73cb92a3c"
      },
      "source": [
        "matrix[1][1]"
      ],
      "execution_count": null,
      "outputs": [
        {
          "output_type": "execute_result",
          "data": {
            "text/plain": [
              "5"
            ]
          },
          "metadata": {
            "tags": []
          },
          "execution_count": 5
        }
      ]
    },
    {
      "cell_type": "markdown",
      "metadata": {
        "id": "hpY2YsNAYyWf",
        "colab_type": "text"
      },
      "source": [
        "#Strings and lists"
      ]
    },
    {
      "cell_type": "code",
      "metadata": {
        "id": "-seIF3TeYnuV",
        "colab_type": "code",
        "colab": {
          "base_uri": "https://localhost:8080/",
          "height": 34
        },
        "outputId": "4a817969-e458-4dd8-fac5-e543e118210c"
      },
      "source": [
        "song = \"The rain in Spain...\"\n",
        "splitsong = song.split(\" \")\n",
        "print(splitsong)"
      ],
      "execution_count": null,
      "outputs": [
        {
          "output_type": "stream",
          "text": [
            "['The', 'rain', 'in', 'Spain...']\n"
          ],
          "name": "stdout"
        }
      ]
    },
    {
      "cell_type": "code",
      "metadata": {
        "id": "s5wLFzqTY5LU",
        "colab_type": "code",
        "colab": {
          "base_uri": "https://localhost:8080/",
          "height": 34
        },
        "outputId": "cb67bcab-dd71-4da2-d3cc-a3b1b265236f"
      },
      "source": [
        "list = ['The', 'rain', 'in', 'Spain...']\n",
        "songjoin = \"-\"\n",
        "songjoin=songjoin.join(list)\n",
        "print(songjoin)"
      ],
      "execution_count": null,
      "outputs": [
        {
          "output_type": "stream",
          "text": [
            "The-rain-in-Spain...\n"
          ],
          "name": "stdout"
        }
      ]
    },
    {
      "cell_type": "code",
      "metadata": {
        "id": "xbaIuP9bZTvl",
        "colab_type": "code",
        "colab": {
          "base_uri": "https://localhost:8080/",
          "height": 34
        },
        "outputId": "41bad9ba-8aa9-4e4d-f342-fe8bb8c5aedd"
      },
      "source": [
        "list = ['The', 'rain', 'in', 'Spain...']\n",
        "songjoin = \" \"\n",
        "songjoin=songjoin.join(list)\n",
        "print(songjoin)"
      ],
      "execution_count": null,
      "outputs": [
        {
          "output_type": "stream",
          "text": [
            "The rain in Spain...\n"
          ],
          "name": "stdout"
        }
      ]
    },
    {
      "cell_type": "code",
      "metadata": {
        "id": "y13Ynxt7ZzPN",
        "colab_type": "code",
        "colab": {}
      },
      "source": [
        ""
      ],
      "execution_count": null,
      "outputs": []
    }
  ]
}