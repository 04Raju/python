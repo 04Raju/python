{
  "nbformat": 4,
  "nbformat_minor": 0,
  "metadata": {
    "colab": {
      "name": "Lists.ipynb",
      "provenance": []
    },
    "kernelspec": {
      "name": "python3",
      "display_name": "Python 3"
    }
  },
  "cells": [
    {
      "cell_type": "markdown",
      "metadata": {
        "id": "a4Eq32QtRkSg",
        "colab_type": "text"
      },
      "source": [
        "#Lists-List Values"
      ]
    },
    {
      "cell_type": "code",
      "metadata": {
        "id": "Ki6lim2ARrRz",
        "colab_type": "code",
        "colab": {}
      },
      "source": [
        "list1= [10, 20, 30, 40]\n",
        "list2= [\"spam\", \"bungee\", \"swallow\"]\n",
        "list3= [\"hello\", 2.0, 5, [10, 20]]\n"
      ],
      "execution_count": 1,
      "outputs": []
    },
    {
      "cell_type": "code",
      "metadata": {
        "id": "4Rt7c6MMRu92",
        "colab_type": "code",
        "colab": {
          "base_uri": "https://localhost:8080/",
          "height": 68
        },
        "outputId": "bc2a0443-6d14-4cf8-d936-924d2fb6052e"
      },
      "source": [
        "print(list1)\n",
        "print(list2)\n",
        "print(list3)"
      ],
      "execution_count": 2,
      "outputs": [
        {
          "output_type": "stream",
          "text": [
            "[10, 20, 30, 40]\n",
            "['spam', 'bungee', 'swallow']\n",
            "['hello', 2.0, 5, [10, 20]]\n"
          ],
          "name": "stdout"
        }
      ]
    },
    {
      "cell_type": "code",
      "metadata": {
        "id": "25-AzVoyRyGD",
        "colab_type": "code",
        "colab": {}
      },
      "source": [
        "empty = []"
      ],
      "execution_count": 7,
      "outputs": []
    },
    {
      "cell_type": "code",
      "metadata": {
        "id": "k0DzQqOdSEhE",
        "colab_type": "code",
        "colab": {
          "base_uri": "https://localhost:8080/",
          "height": 34
        },
        "outputId": "89da7016-96e6-4af4-da72-825ac3e66db2"
      },
      "source": [
        "print(empty)"
      ],
      "execution_count": 8,
      "outputs": [
        {
          "output_type": "stream",
          "text": [
            "[]\n"
          ],
          "name": "stdout"
        }
      ]
    },
    {
      "cell_type": "code",
      "metadata": {
        "id": "ksedorVKSHD3",
        "colab_type": "code",
        "colab": {}
      },
      "source": [
        "vocabulary = [\"ameliorate\", \"castigate\", \"defenestrate\"]\n",
        "numbers = [17, 123]\n",
        "empty = []"
      ],
      "execution_count": 9,
      "outputs": []
    },
    {
      "cell_type": "markdown",
      "metadata": {
        "id": "zi-fIKeQS6au",
        "colab_type": "text"
      },
      "source": [
        "#Accessing Elements"
      ]
    },
    {
      "cell_type": "markdown",
      "metadata": {
        "id": "kQ6HGQoXTAuw",
        "colab_type": "text"
      },
      "source": [
        "The syntax for accessing the elements of a list is the same as the syntax for\n",
        "accessing the characters of a string|the bracket operator ([]). The expression\n",
        "inside the brackets specifies the index. Remember that the indices start at 0:"
      ]
    },
    {
      "cell_type": "code",
      "metadata": {
        "id": "m6VACH77TR_a",
        "colab_type": "code",
        "colab": {}
      },
      "source": [
        "numbers = [10, 20]"
      ],
      "execution_count": 15,
      "outputs": []
    },
    {
      "cell_type": "code",
      "metadata": {
        "id": "E3UNPdAaTV_a",
        "colab_type": "code",
        "colab": {
          "base_uri": "https://localhost:8080/",
          "height": 34
        },
        "outputId": "eef66df5-9da2-4ff4-e98c-8433ad15e272"
      },
      "source": [
        "print(numbers)"
      ],
      "execution_count": 16,
      "outputs": [
        {
          "output_type": "stream",
          "text": [
            "[10, 20]\n"
          ],
          "name": "stdout"
        }
      ]
    },
    {
      "cell_type": "markdown",
      "metadata": {
        "id": "2zoI6LV7Wlxz",
        "colab_type": "text"
      },
      "source": [
        "**Lists are mutable** "
      ]
    },
    {
      "cell_type": "code",
      "metadata": {
        "id": "SCTRk3UqS1W1",
        "colab_type": "code",
        "colab": {
          "base_uri": "https://localhost:8080/",
          "height": 34
        },
        "outputId": "db64102c-3459-485c-b592-0ceee515d055"
      },
      "source": [
        "print (numbers[0])\n",
        "numbers[1] = 5"
      ],
      "execution_count": 17,
      "outputs": [
        {
          "output_type": "stream",
          "text": [
            "10\n"
          ],
          "name": "stdout"
        }
      ]
    },
    {
      "cell_type": "code",
      "metadata": {
        "id": "C0I2OWhOTZG7",
        "colab_type": "code",
        "colab": {
          "base_uri": "https://localhost:8080/",
          "height": 34
        },
        "outputId": "df79ac7b-d107-4f39-8004-da76d10a4022"
      },
      "source": [
        "print(numbers)"
      ],
      "execution_count": 18,
      "outputs": [
        {
          "output_type": "stream",
          "text": [
            "[10, 5]\n"
          ],
          "name": "stdout"
        }
      ]
    },
    {
      "cell_type": "markdown",
      "metadata": {
        "id": "XhR2ZjmiTPj6",
        "colab_type": "text"
      },
      "source": [
        "The bracket operator can appear anywhere in an expression. When it appears\n",
        "on the left side of an assignment, it changes one of the elements in the list, so the one-eth element of numbers, which used to be 123, is now 5."
      ]
    },
    {
      "cell_type": "markdown",
      "metadata": {
        "id": "PCsWAl9UTlNs",
        "colab_type": "text"
      },
      "source": [
        "Any integer expression can be used as an index:"
      ]
    },
    {
      "cell_type": "code",
      "metadata": {
        "id": "dzGXbNNnTGGj",
        "colab_type": "code",
        "colab": {
          "base_uri": "https://localhost:8080/",
          "height": 34
        },
        "outputId": "41420d09-b80b-4f71-cf35-2f5f25d8c267"
      },
      "source": [
        "numbers[3-2]"
      ],
      "execution_count": 19,
      "outputs": [
        {
          "output_type": "execute_result",
          "data": {
            "text/plain": [
              "5"
            ]
          },
          "metadata": {
            "tags": []
          },
          "execution_count": 19
        }
      ]
    },
    {
      "cell_type": "code",
      "metadata": {
        "id": "OjPAKt-ITnHf",
        "colab_type": "code",
        "colab": {
          "base_uri": "https://localhost:8080/",
          "height": 163
        },
        "outputId": "c235de4d-6e57-4d8c-8382-fb3a420fbc1b"
      },
      "source": [
        "numbers[1.0]"
      ],
      "execution_count": 20,
      "outputs": [
        {
          "output_type": "error",
          "ename": "TypeError",
          "evalue": "ignored",
          "traceback": [
            "\u001b[0;31m---------------------------------------------------------------------------\u001b[0m",
            "\u001b[0;31mTypeError\u001b[0m                                 Traceback (most recent call last)",
            "\u001b[0;32m<ipython-input-20-465ed91686c6>\u001b[0m in \u001b[0;36m<module>\u001b[0;34m()\u001b[0m\n\u001b[0;32m----> 1\u001b[0;31m \u001b[0mnumbers\u001b[0m\u001b[0;34m[\u001b[0m\u001b[0;36m1.0\u001b[0m\u001b[0;34m]\u001b[0m\u001b[0;34m\u001b[0m\u001b[0;34m\u001b[0m\u001b[0m\n\u001b[0m",
            "\u001b[0;31mTypeError\u001b[0m: list indices must be integers or slices, not float"
          ]
        }
      ]
    },
    {
      "cell_type": "code",
      "metadata": {
        "id": "RAa233pUToaS",
        "colab_type": "code",
        "colab": {
          "base_uri": "https://localhost:8080/",
          "height": 163
        },
        "outputId": "11517ddc-5774-4c96-c881-bd5f49f60ce0"
      },
      "source": [
        "numbers[2] = 5"
      ],
      "execution_count": 21,
      "outputs": [
        {
          "output_type": "error",
          "ename": "IndexError",
          "evalue": "ignored",
          "traceback": [
            "\u001b[0;31m---------------------------------------------------------------------------\u001b[0m",
            "\u001b[0;31mIndexError\u001b[0m                                Traceback (most recent call last)",
            "\u001b[0;32m<ipython-input-21-31060463d6ff>\u001b[0m in \u001b[0;36m<module>\u001b[0;34m()\u001b[0m\n\u001b[0;32m----> 1\u001b[0;31m \u001b[0mnumbers\u001b[0m\u001b[0;34m[\u001b[0m\u001b[0;36m2\u001b[0m\u001b[0;34m]\u001b[0m \u001b[0;34m=\u001b[0m \u001b[0;36m5\u001b[0m\u001b[0;34m\u001b[0m\u001b[0;34m\u001b[0m\u001b[0m\n\u001b[0m",
            "\u001b[0;31mIndexError\u001b[0m: list assignment index out of range"
          ]
        }
      ]
    },
    {
      "cell_type": "markdown",
      "metadata": {
        "id": "5g-35ndxTu1b",
        "colab_type": "text"
      },
      "source": [
        "If an index has a negative value, it counts backward from the end of the list:"
      ]
    },
    {
      "cell_type": "code",
      "metadata": {
        "id": "gm7EmIuRTq4z",
        "colab_type": "code",
        "colab": {
          "base_uri": "https://localhost:8080/",
          "height": 34
        },
        "outputId": "0ce2cd25-dafe-46fd-ab9d-9d976d2c8ee4"
      },
      "source": [
        "numbers[-1]"
      ],
      "execution_count": 22,
      "outputs": [
        {
          "output_type": "execute_result",
          "data": {
            "text/plain": [
              "5"
            ]
          },
          "metadata": {
            "tags": []
          },
          "execution_count": 22
        }
      ]
    },
    {
      "cell_type": "markdown",
      "metadata": {
        "id": "7KsO_Z4aT7I0",
        "colab_type": "text"
      },
      "source": [
        "#List traversal"
      ]
    },
    {
      "cell_type": "code",
      "metadata": {
        "id": "y951TM5qTtTa",
        "colab_type": "code",
        "colab": {
          "base_uri": "https://localhost:8080/",
          "height": 85
        },
        "outputId": "49ea2b37-24c0-4e19-d983-55e90562646b"
      },
      "source": [
        "horsemen = [\"war\", \"famine\", \"pestilence\", \"death\"]\n",
        "i = 0\n",
        "while i < 4:\n",
        "  print (horsemen[i])\n",
        "  i = i + 1"
      ],
      "execution_count": 24,
      "outputs": [
        {
          "output_type": "stream",
          "text": [
            "war\n",
            "famine\n",
            "pestilence\n",
            "death\n"
          ],
          "name": "stdout"
        }
      ]
    },
    {
      "cell_type": "markdown",
      "metadata": {
        "id": "z6zwaFPTUFg4",
        "colab_type": "text"
      },
      "source": [
        "#List length"
      ]
    },
    {
      "cell_type": "markdown",
      "metadata": {
        "id": "fAjzGaVRUJeW",
        "colab_type": "text"
      },
      "source": [
        "The function len returns the length of a list. It is a good idea to use this value\n",
        "as the upper bound of a loop instead of a constant"
      ]
    },
    {
      "cell_type": "code",
      "metadata": {
        "id": "IWfAXC-_T-o1",
        "colab_type": "code",
        "colab": {
          "base_uri": "https://localhost:8080/",
          "height": 85
        },
        "outputId": "24d6996d-1f72-4ac8-b4f0-60949dab48c1"
      },
      "source": [
        "horsemen = [\"war\", \"famine\", \"pestilence\", \"death\"]\n",
        "i = 0\n",
        "while i < len(horsemen):\n",
        "  print (horsemen[i])\n",
        "  i = i + 1"
      ],
      "execution_count": 26,
      "outputs": [
        {
          "output_type": "stream",
          "text": [
            "war\n",
            "famine\n",
            "pestilence\n",
            "death\n"
          ],
          "name": "stdout"
        }
      ]
    },
    {
      "cell_type": "markdown",
      "metadata": {
        "id": "lQNY6I9RUSZ5",
        "colab_type": "text"
      },
      "source": [
        "Although a list can contain another list, the nested list still counts as a single\n",
        "element. The length of this list is four:"
      ]
    },
    {
      "cell_type": "markdown",
      "metadata": {
        "id": "AaIlfG6zUaqi",
        "colab_type": "text"
      },
      "source": [
        "As an exercise, write a loop that traverses the  list and prints\n",
        "the length of each element. What happens if you send an integer to\n",
        "len?"
      ]
    },
    {
      "cell_type": "code",
      "metadata": {
        "id": "up4UdnekUNIJ",
        "colab_type": "code",
        "colab": {}
      },
      "source": [
        "listcheck =['spam!', 1, ['Brie', 'Roquefort', 'Pol le Veq'], [1, 2, 3]]"
      ],
      "execution_count": 28,
      "outputs": []
    },
    {
      "cell_type": "code",
      "metadata": {
        "id": "JNCtQDTbURpx",
        "colab_type": "code",
        "colab": {
          "base_uri": "https://localhost:8080/",
          "height": 34
        },
        "outputId": "7da9ec73-a4b9-47e1-c4d2-c3b923377c3a"
      },
      "source": [
        "len(listcheck)"
      ],
      "execution_count": 29,
      "outputs": [
        {
          "output_type": "execute_result",
          "data": {
            "text/plain": [
              "4"
            ]
          },
          "metadata": {
            "tags": []
          },
          "execution_count": 29
        }
      ]
    },
    {
      "cell_type": "markdown",
      "metadata": {
        "id": "S0r6xo_dUyYF",
        "colab_type": "text"
      },
      "source": [
        "#List membership"
      ]
    },
    {
      "cell_type": "markdown",
      "metadata": {
        "id": "aRT4oJGpVAvN",
        "colab_type": "text"
      },
      "source": [
        "in is a boolean operator that tests membership in a sequence."
      ]
    },
    {
      "cell_type": "code",
      "metadata": {
        "id": "-N2kXHq2Uoek",
        "colab_type": "code",
        "colab": {}
      },
      "source": [
        "fruits = ['apple','mango','orange']  \n"
      ],
      "execution_count": 34,
      "outputs": []
    },
    {
      "cell_type": "code",
      "metadata": {
        "id": "LeLR83pzVLh3",
        "colab_type": "code",
        "colab": {
          "base_uri": "https://localhost:8080/",
          "height": 34
        },
        "outputId": "969516af-19e0-416f-fd5d-8356e6f96fd1"
      },
      "source": [
        "'orange' in fruits"
      ],
      "execution_count": 35,
      "outputs": [
        {
          "output_type": "execute_result",
          "data": {
            "text/plain": [
              "True"
            ]
          },
          "metadata": {
            "tags": []
          },
          "execution_count": 35
        }
      ]
    },
    {
      "cell_type": "code",
      "metadata": {
        "id": "jciX9STtVNof",
        "colab_type": "code",
        "colab": {
          "base_uri": "https://localhost:8080/",
          "height": 34
        },
        "outputId": "35dc0b5c-637e-4099-e19e-1490dd27ce37"
      },
      "source": [
        "'banana' in fruits"
      ],
      "execution_count": 36,
      "outputs": [
        {
          "output_type": "execute_result",
          "data": {
            "text/plain": [
              "False"
            ]
          },
          "metadata": {
            "tags": []
          },
          "execution_count": 36
        }
      ]
    },
    {
      "cell_type": "code",
      "metadata": {
        "id": "aLQgHodMVVR_",
        "colab_type": "code",
        "colab": {
          "base_uri": "https://localhost:8080/",
          "height": 34
        },
        "outputId": "fdedf5d8-542e-425e-f5fc-dc008fbdbc3c"
      },
      "source": [
        "'banana' not in fruits"
      ],
      "execution_count": 37,
      "outputs": [
        {
          "output_type": "execute_result",
          "data": {
            "text/plain": [
              "True"
            ]
          },
          "metadata": {
            "tags": []
          },
          "execution_count": 37
        }
      ]
    },
    {
      "cell_type": "markdown",
      "metadata": {
        "id": "CAW27lcaVbN_",
        "colab_type": "text"
      },
      "source": [
        "#Lists and for loops"
      ]
    },
    {
      "cell_type": "code",
      "metadata": {
        "id": "iTKpT83gVZle",
        "colab_type": "code",
        "colab": {
          "base_uri": "https://localhost:8080/",
          "height": 68
        },
        "outputId": "3cc53830-97a2-44c0-fc1c-46745fafd293"
      },
      "source": [
        "for fruit in fruits:\n",
        "  print (\"I like to eat\",fruit)"
      ],
      "execution_count": 40,
      "outputs": [
        {
          "output_type": "stream",
          "text": [
            "I like to eat apple\n",
            "I like to eat mango\n",
            "I like to eat orange\n"
          ],
          "name": "stdout"
        }
      ]
    },
    {
      "cell_type": "markdown",
      "metadata": {
        "id": "LHVHMniMV7q8",
        "colab_type": "text"
      },
      "source": [
        "Range doesnot returns list in Python 3"
      ]
    },
    {
      "cell_type": "code",
      "metadata": {
        "id": "bEH-bxotVhud",
        "colab_type": "code",
        "colab": {
          "base_uri": "https://localhost:8080/",
          "height": 187
        },
        "outputId": "c1b4d0e4-df5b-4a49-fa70-faa6be364d95"
      },
      "source": [
        "for number in range(20):\n",
        "  if number % 2 == 0:\n",
        "    print (number)"
      ],
      "execution_count": 42,
      "outputs": [
        {
          "output_type": "stream",
          "text": [
            "0\n",
            "2\n",
            "4\n",
            "6\n",
            "8\n",
            "10\n",
            "12\n",
            "14\n",
            "16\n",
            "18\n"
          ],
          "name": "stdout"
        }
      ]
    },
    {
      "cell_type": "markdown",
      "metadata": {
        "id": "6MdlFUmpWBQ9",
        "colab_type": "text"
      },
      "source": [
        "#List operations"
      ]
    },
    {
      "cell_type": "code",
      "metadata": {
        "id": "FFDrIKjVV0CP",
        "colab_type": "code",
        "colab": {
          "base_uri": "https://localhost:8080/",
          "height": 34
        },
        "outputId": "e77a8746-745f-4e44-e7c6-a4e310c6aa9d"
      },
      "source": [
        "a = [1, 2, 3]\n",
        "b = [4, 5, 6]\n",
        "print(a+b)"
      ],
      "execution_count": 43,
      "outputs": [
        {
          "output_type": "stream",
          "text": [
            "[1, 2, 3, 4, 5, 6]\n"
          ],
          "name": "stdout"
        }
      ]
    },
    {
      "cell_type": "markdown",
      "metadata": {
        "id": "__MAlvKtWJo4",
        "colab_type": "text"
      },
      "source": [
        "the * operator repeats a list a given number of times:"
      ]
    },
    {
      "cell_type": "code",
      "metadata": {
        "id": "ibLut9cYWGi2",
        "colab_type": "code",
        "colab": {
          "base_uri": "https://localhost:8080/",
          "height": 34
        },
        "outputId": "e6c02925-fd98-4add-fda7-4621ff1836c9"
      },
      "source": [
        "[1]*5"
      ],
      "execution_count": 44,
      "outputs": [
        {
          "output_type": "execute_result",
          "data": {
            "text/plain": [
              "[1, 1, 1, 1, 1]"
            ]
          },
          "metadata": {
            "tags": []
          },
          "execution_count": 44
        }
      ]
    },
    {
      "cell_type": "code",
      "metadata": {
        "id": "lgtuWK4vWOKI",
        "colab_type": "code",
        "colab": {
          "base_uri": "https://localhost:8080/",
          "height": 34
        },
        "outputId": "1750e07b-dd1d-403c-ae1f-03e681d8bdb7"
      },
      "source": [
        "[1, 2, 3] * 3"
      ],
      "execution_count": 45,
      "outputs": [
        {
          "output_type": "execute_result",
          "data": {
            "text/plain": [
              "[1, 2, 3, 1, 2, 3, 1, 2, 3]"
            ]
          },
          "metadata": {
            "tags": []
          },
          "execution_count": 45
        }
      ]
    },
    {
      "cell_type": "markdown",
      "metadata": {
        "id": "_KG9b-k5WSER",
        "colab_type": "text"
      },
      "source": [
        "#List slices"
      ]
    },
    {
      "cell_type": "code",
      "metadata": {
        "id": "pzqpeK8TWPo8",
        "colab_type": "code",
        "colab": {}
      },
      "source": [
        "list = ['a', 'b', 'c', 'd', 'e', 'f']"
      ],
      "execution_count": 46,
      "outputs": []
    },
    {
      "cell_type": "code",
      "metadata": {
        "id": "ZN6IEJpDWYAY",
        "colab_type": "code",
        "colab": {
          "base_uri": "https://localhost:8080/",
          "height": 34
        },
        "outputId": "528ac079-cbe8-4520-8083-161c3ab3a3de"
      },
      "source": [
        "list[1:3]"
      ],
      "execution_count": 47,
      "outputs": [
        {
          "output_type": "execute_result",
          "data": {
            "text/plain": [
              "['b', 'c']"
            ]
          },
          "metadata": {
            "tags": []
          },
          "execution_count": 47
        }
      ]
    },
    {
      "cell_type": "code",
      "metadata": {
        "id": "kP_TLXFmWZ0e",
        "colab_type": "code",
        "colab": {
          "base_uri": "https://localhost:8080/",
          "height": 34
        },
        "outputId": "4841931d-aa2d-42c6-fe69-ecc679b91f6f"
      },
      "source": [
        "list[:4]"
      ],
      "execution_count": 48,
      "outputs": [
        {
          "output_type": "execute_result",
          "data": {
            "text/plain": [
              "['a', 'b', 'c', 'd']"
            ]
          },
          "metadata": {
            "tags": []
          },
          "execution_count": 48
        }
      ]
    },
    {
      "cell_type": "code",
      "metadata": {
        "id": "R3jSAcSYWbEp",
        "colab_type": "code",
        "colab": {
          "base_uri": "https://localhost:8080/",
          "height": 34
        },
        "outputId": "fd0700c9-8cc4-45e5-8b42-9af628b9c5c8"
      },
      "source": [
        "list[3:]"
      ],
      "execution_count": 49,
      "outputs": [
        {
          "output_type": "execute_result",
          "data": {
            "text/plain": [
              "['d', 'e', 'f']"
            ]
          },
          "metadata": {
            "tags": []
          },
          "execution_count": 49
        }
      ]
    },
    {
      "cell_type": "code",
      "metadata": {
        "id": "R7LkxwkLWcUl",
        "colab_type": "code",
        "colab": {
          "base_uri": "https://localhost:8080/",
          "height": 34
        },
        "outputId": "e986c647-dc31-484c-fbcc-edf65f7eab5f"
      },
      "source": [
        "list[:]"
      ],
      "execution_count": 50,
      "outputs": [
        {
          "output_type": "execute_result",
          "data": {
            "text/plain": [
              "['a', 'b', 'c', 'd', 'e', 'f']"
            ]
          },
          "metadata": {
            "tags": []
          },
          "execution_count": 50
        }
      ]
    },
    {
      "cell_type": "markdown",
      "metadata": {
        "id": "gKmseykpW08b",
        "colab_type": "text"
      },
      "source": [
        "#List deletion"
      ]
    },
    {
      "cell_type": "code",
      "metadata": {
        "id": "eUfvKhQRWdkL",
        "colab_type": "code",
        "colab": {}
      },
      "source": [
        "a = ['one', 'two', 'three']"
      ],
      "execution_count": 51,
      "outputs": []
    },
    {
      "cell_type": "code",
      "metadata": {
        "id": "TxyGCowKW5X5",
        "colab_type": "code",
        "colab": {}
      },
      "source": [
        "del a[1]"
      ],
      "execution_count": 52,
      "outputs": []
    },
    {
      "cell_type": "code",
      "metadata": {
        "id": "EP4gY-iUW6oN",
        "colab_type": "code",
        "colab": {
          "base_uri": "https://localhost:8080/",
          "height": 34
        },
        "outputId": "8541590f-7074-4fe5-e87b-60105dc067f3"
      },
      "source": [
        "a"
      ],
      "execution_count": 53,
      "outputs": [
        {
          "output_type": "execute_result",
          "data": {
            "text/plain": [
              "['one', 'three']"
            ]
          },
          "metadata": {
            "tags": []
          },
          "execution_count": 53
        }
      ]
    },
    {
      "cell_type": "markdown",
      "metadata": {
        "id": "RI3a58LvXAl-",
        "colab_type": "text"
      },
      "source": [
        "del handles negative indices and causes a runtime error\n",
        "if the index is out of range."
      ]
    },
    {
      "cell_type": "code",
      "metadata": {
        "id": "Tua93et6W60t",
        "colab_type": "code",
        "colab": {}
      },
      "source": [
        "del a[-1]"
      ],
      "execution_count": 55,
      "outputs": []
    },
    {
      "cell_type": "code",
      "metadata": {
        "id": "3tJS0iyBXCJf",
        "colab_type": "code",
        "colab": {
          "base_uri": "https://localhost:8080/",
          "height": 34
        },
        "outputId": "6d3b411e-4ac8-41f3-e74e-3d84a4312094"
      },
      "source": [
        "a"
      ],
      "execution_count": 56,
      "outputs": [
        {
          "output_type": "execute_result",
          "data": {
            "text/plain": [
              "['one']"
            ]
          },
          "metadata": {
            "tags": []
          },
          "execution_count": 56
        }
      ]
    },
    {
      "cell_type": "code",
      "metadata": {
        "id": "F23XDAI0XCWN",
        "colab_type": "code",
        "colab": {
          "base_uri": "https://localhost:8080/",
          "height": 163
        },
        "outputId": "df85ea5d-59e8-4098-ede0-76aa00856127"
      },
      "source": [
        "del a[3]"
      ],
      "execution_count": 58,
      "outputs": [
        {
          "output_type": "error",
          "ename": "IndexError",
          "evalue": "ignored",
          "traceback": [
            "\u001b[0;31m---------------------------------------------------------------------------\u001b[0m",
            "\u001b[0;31mIndexError\u001b[0m                                Traceback (most recent call last)",
            "\u001b[0;32m<ipython-input-58-2e197d0bc8c9>\u001b[0m in \u001b[0;36m<module>\u001b[0;34m()\u001b[0m\n\u001b[0;32m----> 1\u001b[0;31m \u001b[0;32mdel\u001b[0m \u001b[0ma\u001b[0m\u001b[0;34m[\u001b[0m\u001b[0;36m3\u001b[0m\u001b[0;34m]\u001b[0m\u001b[0;34m\u001b[0m\u001b[0;34m\u001b[0m\u001b[0m\n\u001b[0m",
            "\u001b[0;31mIndexError\u001b[0m: list assignment index out of range"
          ]
        }
      ]
    },
    {
      "cell_type": "markdown",
      "metadata": {
        "id": "fdnflUH-XNWQ",
        "colab_type": "text"
      },
      "source": [
        "You can use a slice as an index for del:"
      ]
    },
    {
      "cell_type": "code",
      "metadata": {
        "id": "gSmPiM1kXIKb",
        "colab_type": "code",
        "colab": {}
      },
      "source": [
        "list = ['a', 'b', 'c', 'd', 'e', 'f']"
      ],
      "execution_count": 59,
      "outputs": []
    },
    {
      "cell_type": "markdown",
      "metadata": {
        "id": "rV9u7T86XXXy",
        "colab_type": "text"
      },
      "source": [
        "slices select all the elements up to, but not including, the second index."
      ]
    },
    {
      "cell_type": "code",
      "metadata": {
        "id": "aULJsj_IXSNx",
        "colab_type": "code",
        "colab": {}
      },
      "source": [
        "del list[1:5]"
      ],
      "execution_count": 60,
      "outputs": []
    },
    {
      "cell_type": "code",
      "metadata": {
        "id": "wAPOpCrhXTf-",
        "colab_type": "code",
        "colab": {
          "base_uri": "https://localhost:8080/",
          "height": 34
        },
        "outputId": "eb6d4775-be6f-4314-d8a8-ab7aa4a21ed5"
      },
      "source": [
        "list"
      ],
      "execution_count": 61,
      "outputs": [
        {
          "output_type": "execute_result",
          "data": {
            "text/plain": [
              "['a', 'f']"
            ]
          },
          "metadata": {
            "tags": []
          },
          "execution_count": 61
        }
      ]
    },
    {
      "cell_type": "markdown",
      "metadata": {
        "id": "Z0NNb9AvY5oS",
        "colab_type": "text"
      },
      "source": [
        "#Objects and values\n"
      ]
    },
    {
      "cell_type": "code",
      "metadata": {
        "id": "4su6z7PwXT29",
        "colab_type": "code",
        "colab": {}
      },
      "source": [
        "a = \"banana\"\n",
        "b = \"banana\"\n"
      ],
      "execution_count": 62,
      "outputs": []
    },
    {
      "cell_type": "code",
      "metadata": {
        "id": "PmEVdKlMY-xn",
        "colab_type": "code",
        "colab": {
          "base_uri": "https://localhost:8080/",
          "height": 34
        },
        "outputId": "3bd503ec-67ce-4796-949a-4243dc5f0462"
      },
      "source": [
        "id(a)"
      ],
      "execution_count": 63,
      "outputs": [
        {
          "output_type": "execute_result",
          "data": {
            "text/plain": [
              "140155729944448"
            ]
          },
          "metadata": {
            "tags": []
          },
          "execution_count": 63
        }
      ]
    },
    {
      "cell_type": "code",
      "metadata": {
        "id": "KYXbVXJQY_Za",
        "colab_type": "code",
        "colab": {
          "base_uri": "https://localhost:8080/",
          "height": 34
        },
        "outputId": "95774649-bc18-4743-f6fa-1a1f076283be"
      },
      "source": [
        "id(b)"
      ],
      "execution_count": 64,
      "outputs": [
        {
          "output_type": "execute_result",
          "data": {
            "text/plain": [
              "140155729944448"
            ]
          },
          "metadata": {
            "tags": []
          },
          "execution_count": 64
        }
      ]
    },
    {
      "cell_type": "code",
      "metadata": {
        "id": "xHgFoNTcY_7H",
        "colab_type": "code",
        "colab": {}
      },
      "source": [
        "c = [1, 2, 3]\n",
        "d = [1, 2, 3]"
      ],
      "execution_count": 65,
      "outputs": []
    },
    {
      "cell_type": "code",
      "metadata": {
        "id": "p5jbMh3JZGsf",
        "colab_type": "code",
        "colab": {
          "base_uri": "https://localhost:8080/",
          "height": 34
        },
        "outputId": "5de5f252-1471-44a7-be4b-a8ab2501501f"
      },
      "source": [
        "id(c)"
      ],
      "execution_count": 66,
      "outputs": [
        {
          "output_type": "execute_result",
          "data": {
            "text/plain": [
              "140155729770824"
            ]
          },
          "metadata": {
            "tags": []
          },
          "execution_count": 66
        }
      ]
    },
    {
      "cell_type": "code",
      "metadata": {
        "id": "LL8K9OGEZHit",
        "colab_type": "code",
        "colab": {
          "base_uri": "https://localhost:8080/",
          "height": 34
        },
        "outputId": "e05053b9-7a58-4955-b702-7af1e7538262"
      },
      "source": [
        "id(d)"
      ],
      "execution_count": 67,
      "outputs": [
        {
          "output_type": "execute_result",
          "data": {
            "text/plain": [
              "140155729751368"
            ]
          },
          "metadata": {
            "tags": []
          },
          "execution_count": 67
        }
      ]
    },
    {
      "cell_type": "markdown",
      "metadata": {
        "id": "xH2kRUeJZK5e",
        "colab_type": "text"
      },
      "source": [
        "#Aliasing"
      ]
    },
    {
      "cell_type": "code",
      "metadata": {
        "id": "QP1eN8YcZIY4",
        "colab_type": "code",
        "colab": {}
      },
      "source": [
        "d = [1, 2, 3]\n",
        "e=d"
      ],
      "execution_count": 68,
      "outputs": []
    },
    {
      "cell_type": "code",
      "metadata": {
        "id": "K4Lhq_IhZQ9P",
        "colab_type": "code",
        "colab": {
          "base_uri": "https://localhost:8080/",
          "height": 34
        },
        "outputId": "0d48b1b3-8e12-4420-a478-d4fb325db702"
      },
      "source": [
        "id(d)"
      ],
      "execution_count": 69,
      "outputs": [
        {
          "output_type": "execute_result",
          "data": {
            "text/plain": [
              "140155730607880"
            ]
          },
          "metadata": {
            "tags": []
          },
          "execution_count": 69
        }
      ]
    },
    {
      "cell_type": "code",
      "metadata": {
        "id": "AnhvrL-mZhkZ",
        "colab_type": "code",
        "colab": {
          "base_uri": "https://localhost:8080/",
          "height": 34
        },
        "outputId": "b6e3eccb-cce3-4ba0-8972-6efcc9845ce0"
      },
      "source": [
        "id(e)"
      ],
      "execution_count": 70,
      "outputs": [
        {
          "output_type": "execute_result",
          "data": {
            "text/plain": [
              "140155730607880"
            ]
          },
          "metadata": {
            "tags": []
          },
          "execution_count": 70
        }
      ]
    },
    {
      "cell_type": "markdown",
      "metadata": {
        "id": "FiXuKuNcZlSa",
        "colab_type": "text"
      },
      "source": [
        "Because the same list has two different names, a and b, we say that it is aliased."
      ]
    },
    {
      "cell_type": "markdown",
      "metadata": {
        "id": "MZFUzQM0Zutb",
        "colab_type": "text"
      },
      "source": [
        "Changes made with one alias affect the other"
      ]
    },
    {
      "cell_type": "code",
      "metadata": {
        "id": "i8uvKAYZZiD4",
        "colab_type": "code",
        "colab": {}
      },
      "source": [
        "d = [1, 2, 3]\n",
        "e=d\n",
        "e[0]=10"
      ],
      "execution_count": 74,
      "outputs": []
    },
    {
      "cell_type": "code",
      "metadata": {
        "id": "GFyyWqGYZz0o",
        "colab_type": "code",
        "colab": {
          "base_uri": "https://localhost:8080/",
          "height": 34
        },
        "outputId": "b2298919-b74d-4958-c986-b5a1813e9151"
      },
      "source": [
        "print(e)"
      ],
      "execution_count": 75,
      "outputs": [
        {
          "output_type": "stream",
          "text": [
            "[10, 2, 3]\n"
          ],
          "name": "stdout"
        }
      ]
    },
    {
      "cell_type": "code",
      "metadata": {
        "id": "0P3X_xQ9Z1r7",
        "colab_type": "code",
        "colab": {
          "base_uri": "https://localhost:8080/",
          "height": 34
        },
        "outputId": "41dc89ba-51bc-46cc-cf7c-150f0db518e3"
      },
      "source": [
        "print(d)"
      ],
      "execution_count": 76,
      "outputs": [
        {
          "output_type": "stream",
          "text": [
            "[10, 2, 3]\n"
          ],
          "name": "stdout"
        }
      ]
    },
    {
      "cell_type": "markdown",
      "metadata": {
        "id": "EgL2qAS7aBMU",
        "colab_type": "text"
      },
      "source": [
        "In general, it is safer to avoid aliasing when you are working with mutable\n",
        "objects"
      ]
    },
    {
      "cell_type": "markdown",
      "metadata": {
        "id": "2mBRM2RLaFUp",
        "colab_type": "text"
      },
      "source": [
        "#List parameters"
      ]
    },
    {
      "cell_type": "markdown",
      "metadata": {
        "id": "Khk7Ig7raLR9",
        "colab_type": "text"
      },
      "source": [
        "Passing a list as an argument actually passes a reference to the list, not a copy\n",
        "of the list"
      ]
    },
    {
      "cell_type": "code",
      "metadata": {
        "id": "YD-mShHhZ2ix",
        "colab_type": "code",
        "colab": {}
      },
      "source": [
        "def head(list):\n",
        "  return list[0]"
      ],
      "execution_count": 77,
      "outputs": []
    },
    {
      "cell_type": "code",
      "metadata": {
        "id": "2AHM4F-iaOC5",
        "colab_type": "code",
        "colab": {}
      },
      "source": [
        "numbers = [1, 2, 3]"
      ],
      "execution_count": 78,
      "outputs": []
    },
    {
      "cell_type": "code",
      "metadata": {
        "id": "CGAP2q-JaPyS",
        "colab_type": "code",
        "colab": {
          "base_uri": "https://localhost:8080/",
          "height": 34
        },
        "outputId": "85085f91-e2a3-477e-c44f-8f5b593b356b"
      },
      "source": [
        "head(numbers)"
      ],
      "execution_count": 79,
      "outputs": [
        {
          "output_type": "execute_result",
          "data": {
            "text/plain": [
              "1"
            ]
          },
          "metadata": {
            "tags": []
          },
          "execution_count": 79
        }
      ]
    },
    {
      "cell_type": "markdown",
      "metadata": {
        "id": "zmmmIY7kaX1x",
        "colab_type": "text"
      },
      "source": [
        "The parameter list and the variable numbers are aliases for the same object."
      ]
    },
    {
      "cell_type": "markdown",
      "metadata": {
        "id": "XjLY8CoabLqQ",
        "colab_type": "text"
      },
      "source": [
        "If a function modifies a list parameter, the caller sees the change"
      ]
    },
    {
      "cell_type": "code",
      "metadata": {
        "id": "QekbcBCRbJzZ",
        "colab_type": "code",
        "colab": {}
      },
      "source": [
        "def deleteHead(list):\n",
        " del list[0]"
      ],
      "execution_count": 80,
      "outputs": []
    },
    {
      "cell_type": "code",
      "metadata": {
        "id": "2x2PJMV_aR0R",
        "colab_type": "code",
        "colab": {
          "base_uri": "https://localhost:8080/",
          "height": 34
        },
        "outputId": "75365938-07e0-49ee-931e-008600d561f8"
      },
      "source": [
        "numbers = [1, 2, 3]\n",
        "deleteHead(numbers)\n",
        "print(numbers)"
      ],
      "execution_count": 81,
      "outputs": [
        {
          "output_type": "stream",
          "text": [
            "[2, 3]\n"
          ],
          "name": "stdout"
        }
      ]
    },
    {
      "cell_type": "markdown",
      "metadata": {
        "id": "KLdNhh3lbXk_",
        "colab_type": "text"
      },
      "source": [
        "If a function returns a list, it returns a reference to the list."
      ]
    },
    {
      "cell_type": "code",
      "metadata": {
        "id": "Kw1qG6vmbU_h",
        "colab_type": "code",
        "colab": {}
      },
      "source": [
        "def tail(list):\n",
        "  return list[1:]"
      ],
      "execution_count": 82,
      "outputs": []
    },
    {
      "cell_type": "code",
      "metadata": {
        "id": "a1I2S0kHbaek",
        "colab_type": "code",
        "colab": {
          "base_uri": "https://localhost:8080/",
          "height": 34
        },
        "outputId": "609fe4c9-bd8a-4cdc-d81a-97bdb6ed9e90"
      },
      "source": [
        "numbers = [1, 2, 3]\n",
        "rest = tail(numbers)\n",
        "print(rest)"
      ],
      "execution_count": 83,
      "outputs": [
        {
          "output_type": "stream",
          "text": [
            "[2, 3]\n"
          ],
          "name": "stdout"
        }
      ]
    },
    {
      "cell_type": "markdown",
      "metadata": {
        "id": "uUGTmAvcbh-p",
        "colab_type": "text"
      },
      "source": [
        "Because the return value was created with the slice operator, it is a new list."
      ]
    },
    {
      "cell_type": "markdown",
      "metadata": {
        "id": "z9kAwdiqbrg8",
        "colab_type": "text"
      },
      "source": [
        "#Nested lists"
      ]
    },
    {
      "cell_type": "code",
      "metadata": {
        "id": "p96maaNPbej7",
        "colab_type": "code",
        "colab": {}
      },
      "source": [
        "list = [\"hello\", 2.0, 5, [10, 20]]"
      ],
      "execution_count": 84,
      "outputs": []
    },
    {
      "cell_type": "code",
      "metadata": {
        "id": "4BtcPX-cbpKj",
        "colab_type": "code",
        "colab": {
          "base_uri": "https://localhost:8080/",
          "height": 34
        },
        "outputId": "d57f8e2f-9bec-4b56-e7f8-3c4284690c89"
      },
      "source": [
        "list[3]"
      ],
      "execution_count": 85,
      "outputs": [
        {
          "output_type": "execute_result",
          "data": {
            "text/plain": [
              "[10, 20]"
            ]
          },
          "metadata": {
            "tags": []
          },
          "execution_count": 85
        }
      ]
    },
    {
      "cell_type": "code",
      "metadata": {
        "id": "Vuy6N1RrbuGE",
        "colab_type": "code",
        "colab": {
          "base_uri": "https://localhost:8080/",
          "height": 34
        },
        "outputId": "40bf3bb1-e89a-4159-f23b-140eb45919b6"
      },
      "source": [
        "elt = list[3]\n",
        "elt[1]"
      ],
      "execution_count": 86,
      "outputs": [
        {
          "output_type": "execute_result",
          "data": {
            "text/plain": [
              "20"
            ]
          },
          "metadata": {
            "tags": []
          },
          "execution_count": 86
        }
      ]
    },
    {
      "cell_type": "code",
      "metadata": {
        "id": "fUor7Fw0bwey",
        "colab_type": "code",
        "colab": {
          "base_uri": "https://localhost:8080/",
          "height": 34
        },
        "outputId": "68f3a4c4-9ca3-4fee-8681-754efa733c6c"
      },
      "source": [
        "list[3][1]"
      ],
      "execution_count": 87,
      "outputs": [
        {
          "output_type": "execute_result",
          "data": {
            "text/plain": [
              "20"
            ]
          },
          "metadata": {
            "tags": []
          },
          "execution_count": 87
        }
      ]
    },
    {
      "cell_type": "markdown",
      "metadata": {
        "id": "JkEmDEnCb0VA",
        "colab_type": "text"
      },
      "source": [
        "Bracket operators evaluate from left to right, so this expression gets the threeeth\n",
        "element of list and extracts the one-eth element from it."
      ]
    },
    {
      "cell_type": "code",
      "metadata": {
        "id": "60A8F4MhbyE3",
        "colab_type": "code",
        "colab": {}
      },
      "source": [
        ""
      ],
      "execution_count": null,
      "outputs": []
    }
  ]
}