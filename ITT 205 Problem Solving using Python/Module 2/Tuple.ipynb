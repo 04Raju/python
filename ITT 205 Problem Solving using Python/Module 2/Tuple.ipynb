{
  "nbformat": 4,
  "nbformat_minor": 0,
  "metadata": {
    "colab": {
      "name": "Tuple",
      "provenance": []
    },
    "kernelspec": {
      "name": "python3",
      "display_name": "Python 3"
    }
  },
  "cells": [
    {
      "cell_type": "markdown",
      "metadata": {
        "id": "jcuWaUfnmoZy",
        "colab_type": "text"
      },
      "source": [
        "Syntactically, a tuple is a comma-separated list of values"
      ]
    },
    {
      "cell_type": "code",
      "metadata": {
        "id": "uMHBtz6umojD",
        "colab_type": "code",
        "colab": {}
      },
      "source": [
        "tuple = 'a', 'b', 'c', 'd', 'e'"
      ],
      "execution_count": null,
      "outputs": []
    },
    {
      "cell_type": "markdown",
      "metadata": {
        "id": "fUlBUZoRmvDZ",
        "colab_type": "text"
      },
      "source": [
        "Although it is not necessary, it is conventional to enclose tuples in parentheses:"
      ]
    },
    {
      "cell_type": "code",
      "metadata": {
        "id": "f4FWjLoompwN",
        "colab_type": "code",
        "colab": {}
      },
      "source": [
        "tuple = ('a', 'b', 'c', 'd', 'e')"
      ],
      "execution_count": null,
      "outputs": []
    },
    {
      "cell_type": "markdown",
      "metadata": {
        "id": "7Ofb9STznHqK",
        "colab_type": "text"
      },
      "source": [
        "To create a tuple with a single element, we have to include the final comma:"
      ]
    },
    {
      "cell_type": "code",
      "metadata": {
        "id": "C1vZMEv0mw4Q",
        "colab_type": "code",
        "colab": {}
      },
      "source": [
        "t1 = ('a',)"
      ],
      "execution_count": null,
      "outputs": []
    },
    {
      "cell_type": "code",
      "metadata": {
        "id": "p5_D9UNknIhp",
        "colab_type": "code",
        "colab": {
          "base_uri": "https://localhost:8080/",
          "height": 34
        },
        "outputId": "f45c252e-7b82-410f-8ff1-35bd97b929b5"
      },
      "source": [
        "type(t1)"
      ],
      "execution_count": null,
      "outputs": [
        {
          "output_type": "execute_result",
          "data": {
            "text/plain": [
              "tuple"
            ]
          },
          "metadata": {
            "tags": []
          },
          "execution_count": 5
        }
      ]
    },
    {
      "cell_type": "markdown",
      "metadata": {
        "id": "WkM1-sQ9nTfb",
        "colab_type": "text"
      },
      "source": [
        "Without the comma, Python treats ('a') as a string in parentheses:"
      ]
    },
    {
      "cell_type": "code",
      "metadata": {
        "id": "uWBTsTQanPlu",
        "colab_type": "code",
        "colab": {}
      },
      "source": [
        "t2 = ('a')"
      ],
      "execution_count": null,
      "outputs": []
    },
    {
      "cell_type": "code",
      "metadata": {
        "id": "F_ch2X2WnVXF",
        "colab_type": "code",
        "colab": {
          "base_uri": "https://localhost:8080/",
          "height": 34
        },
        "outputId": "c1fe2f5d-40e0-4652-d062-fa94af50cb3e"
      },
      "source": [
        "type(t2)"
      ],
      "execution_count": null,
      "outputs": [
        {
          "output_type": "execute_result",
          "data": {
            "text/plain": [
              "str"
            ]
          },
          "metadata": {
            "tags": []
          },
          "execution_count": 7
        }
      ]
    },
    {
      "cell_type": "markdown",
      "metadata": {
        "id": "cJ86kPMTnb1Q",
        "colab_type": "text"
      },
      "source": [
        "Operations on tuples are the same as the operations on\n",
        "lists. The index operator selects an element from a tuple."
      ]
    },
    {
      "cell_type": "code",
      "metadata": {
        "id": "ZGFZAGxqnWDe",
        "colab_type": "code",
        "colab": {
          "base_uri": "https://localhost:8080/",
          "height": 35
        },
        "outputId": "aa2e7587-a06e-4ee7-80d1-eaf06440d1b3"
      },
      "source": [
        "tuple[0]"
      ],
      "execution_count": null,
      "outputs": [
        {
          "output_type": "execute_result",
          "data": {
            "application/vnd.google.colaboratory.intrinsic+json": {
              "type": "string"
            },
            "text/plain": [
              "'a'"
            ]
          },
          "metadata": {
            "tags": []
          },
          "execution_count": 8
        }
      ]
    },
    {
      "cell_type": "markdown",
      "metadata": {
        "id": "6pa4-W-ZnkBd",
        "colab_type": "text"
      },
      "source": [
        "And the slice operator selects a range of elements."
      ]
    },
    {
      "cell_type": "code",
      "metadata": {
        "id": "hANYbibxngF7",
        "colab_type": "code",
        "colab": {
          "base_uri": "https://localhost:8080/",
          "height": 34
        },
        "outputId": "499d0525-4a55-4f6b-cfd2-7b06fb9e8b49"
      },
      "source": [
        "tuple[1:3]"
      ],
      "execution_count": null,
      "outputs": [
        {
          "output_type": "execute_result",
          "data": {
            "text/plain": [
              "('b', 'c')"
            ]
          },
          "metadata": {
            "tags": []
          },
          "execution_count": 9
        }
      ]
    },
    {
      "cell_type": "markdown",
      "metadata": {
        "id": "yxpjxmE6nv9A",
        "colab_type": "text"
      },
      "source": [
        "Immutable"
      ]
    },
    {
      "cell_type": "code",
      "metadata": {
        "id": "m7R0h85xnmeu",
        "colab_type": "code",
        "colab": {
          "base_uri": "https://localhost:8080/",
          "height": 163
        },
        "outputId": "326d78ac-11f2-4d29-9221-614b267acdbf"
      },
      "source": [
        "tuple[0] = 'A'"
      ],
      "execution_count": null,
      "outputs": [
        {
          "output_type": "error",
          "ename": "TypeError",
          "evalue": "ignored",
          "traceback": [
            "\u001b[0;31m---------------------------------------------------------------------------\u001b[0m",
            "\u001b[0;31mTypeError\u001b[0m                                 Traceback (most recent call last)",
            "\u001b[0;32m<ipython-input-10-0c3ebe4a93ea>\u001b[0m in \u001b[0;36m<module>\u001b[0;34m()\u001b[0m\n\u001b[0;32m----> 1\u001b[0;31m \u001b[0mtuple\u001b[0m\u001b[0;34m[\u001b[0m\u001b[0;36m0\u001b[0m\u001b[0;34m]\u001b[0m \u001b[0;34m=\u001b[0m \u001b[0;34m'A'\u001b[0m\u001b[0;34m\u001b[0m\u001b[0;34m\u001b[0m\u001b[0m\n\u001b[0m",
            "\u001b[0;31mTypeError\u001b[0m: 'tuple' object does not support item assignment"
          ]
        }
      ]
    },
    {
      "cell_type": "markdown",
      "metadata": {
        "id": "IiEZ1Ra7nqla",
        "colab_type": "text"
      },
      "source": [
        "But if we try to modify one of the elements of the tuple, we get an error:"
      ]
    },
    {
      "cell_type": "code",
      "metadata": {
        "id": "ILkgP4ICnq-B",
        "colab_type": "code",
        "colab": {}
      },
      "source": [
        "tuple = ('A',) + tuple[1:]"
      ],
      "execution_count": null,
      "outputs": []
    },
    {
      "cell_type": "code",
      "metadata": {
        "id": "etoRcd61n1p-",
        "colab_type": "code",
        "colab": {
          "base_uri": "https://localhost:8080/",
          "height": 34
        },
        "outputId": "a4092f73-5870-40a6-e97e-bbf0b15b0b2a"
      },
      "source": [
        "print(tuple)"
      ],
      "execution_count": null,
      "outputs": [
        {
          "output_type": "stream",
          "text": [
            "('A', 'b', 'c', 'd', 'e')\n"
          ],
          "name": "stdout"
        }
      ]
    },
    {
      "cell_type": "markdown",
      "metadata": {
        "id": "luR3H_ijoZVF",
        "colab_type": "text"
      },
      "source": [
        "#Tuple assignment\n"
      ]
    },
    {
      "cell_type": "code",
      "metadata": {
        "id": "8JokQbhAoc4m",
        "colab_type": "code",
        "colab": {}
      },
      "source": [
        "a=3\n",
        "b=2"
      ],
      "execution_count": null,
      "outputs": []
    },
    {
      "cell_type": "code",
      "metadata": {
        "id": "oGpEwAF2oqp9",
        "colab_type": "code",
        "colab": {
          "base_uri": "https://localhost:8080/",
          "height": 34
        },
        "outputId": "e01bb79e-b67e-48ea-8c79-dfb4b1be4b3a"
      },
      "source": [
        "type(a)"
      ],
      "execution_count": null,
      "outputs": [
        {
          "output_type": "execute_result",
          "data": {
            "text/plain": [
              "int"
            ]
          },
          "metadata": {
            "tags": []
          },
          "execution_count": 18
        }
      ]
    },
    {
      "cell_type": "code",
      "metadata": {
        "id": "a4DLp3b7ost6",
        "colab_type": "code",
        "colab": {
          "base_uri": "https://localhost:8080/",
          "height": 34
        },
        "outputId": "17f88c0a-3a75-4194-a3bc-f6d898043c9b"
      },
      "source": [
        "type(b)"
      ],
      "execution_count": null,
      "outputs": [
        {
          "output_type": "execute_result",
          "data": {
            "text/plain": [
              "int"
            ]
          },
          "metadata": {
            "tags": []
          },
          "execution_count": 19
        }
      ]
    },
    {
      "cell_type": "code",
      "metadata": {
        "id": "sjsxUxIioe1W",
        "colab_type": "code",
        "colab": {
          "base_uri": "https://localhost:8080/",
          "height": 34
        },
        "outputId": "9747b3d4-d224-4d2e-d04c-9593038e3371"
      },
      "source": [
        "print(a,b)"
      ],
      "execution_count": null,
      "outputs": [
        {
          "output_type": "stream",
          "text": [
            "3 2\n"
          ],
          "name": "stdout"
        }
      ]
    },
    {
      "cell_type": "code",
      "metadata": {
        "id": "dV6HlhjMn3pz",
        "colab_type": "code",
        "colab": {}
      },
      "source": [
        "(a, b) = (b, a)"
      ],
      "execution_count": null,
      "outputs": []
    },
    {
      "cell_type": "code",
      "metadata": {
        "id": "aJSJRfb8pAjV",
        "colab_type": "code",
        "colab": {
          "base_uri": "https://localhost:8080/",
          "height": 34
        },
        "outputId": "fdd8a88d-7aea-4777-f7aa-eaf776a6b3f0"
      },
      "source": [
        "type((a,b))"
      ],
      "execution_count": null,
      "outputs": [
        {
          "output_type": "execute_result",
          "data": {
            "text/plain": [
              "tuple"
            ]
          },
          "metadata": {
            "tags": []
          },
          "execution_count": 30
        }
      ]
    },
    {
      "cell_type": "code",
      "metadata": {
        "id": "GwWOZcv9oaig",
        "colab_type": "code",
        "colab": {
          "base_uri": "https://localhost:8080/",
          "height": 34
        },
        "outputId": "44f6fa79-5369-4f69-d6ae-63d4b1119c15"
      },
      "source": [
        "print(a,b)"
      ],
      "execution_count": null,
      "outputs": [
        {
          "output_type": "stream",
          "text": [
            "2 3\n"
          ],
          "name": "stdout"
        }
      ]
    },
    {
      "cell_type": "code",
      "metadata": {
        "id": "_bmNqERcoibl",
        "colab_type": "code",
        "colab": {
          "base_uri": "https://localhost:8080/",
          "height": 163
        },
        "outputId": "8c5098ec-ad7b-4b28-fb95-ecb3fa809da0"
      },
      "source": [
        "(a, b, c, d) = (1, 2, 3)"
      ],
      "execution_count": null,
      "outputs": [
        {
          "output_type": "error",
          "ename": "ValueError",
          "evalue": "ignored",
          "traceback": [
            "\u001b[0;31m---------------------------------------------------------------------------\u001b[0m",
            "\u001b[0;31mValueError\u001b[0m                                Traceback (most recent call last)",
            "\u001b[0;32m<ipython-input-32-6238a938dae1>\u001b[0m in \u001b[0;36m<module>\u001b[0;34m()\u001b[0m\n\u001b[0;32m----> 1\u001b[0;31m \u001b[0;34m(\u001b[0m\u001b[0ma\u001b[0m\u001b[0;34m,\u001b[0m \u001b[0mb\u001b[0m\u001b[0;34m,\u001b[0m \u001b[0mc\u001b[0m\u001b[0;34m,\u001b[0m \u001b[0md\u001b[0m\u001b[0;34m)\u001b[0m \u001b[0;34m=\u001b[0m \u001b[0;34m(\u001b[0m\u001b[0;36m1\u001b[0m\u001b[0;34m,\u001b[0m \u001b[0;36m2\u001b[0m\u001b[0;34m,\u001b[0m \u001b[0;36m3\u001b[0m\u001b[0;34m)\u001b[0m\u001b[0;34m\u001b[0m\u001b[0;34m\u001b[0m\u001b[0m\n\u001b[0m",
            "\u001b[0;31mValueError\u001b[0m: not enough values to unpack (expected 4, got 3)"
          ]
        }
      ]
    },
    {
      "cell_type": "markdown",
      "metadata": {
        "id": "4fmWyrqSpV4M",
        "colab_type": "text"
      },
      "source": [
        "#Tuples as return values"
      ]
    },
    {
      "cell_type": "code",
      "metadata": {
        "id": "4fX9DUrgpSri",
        "colab_type": "code",
        "colab": {}
      },
      "source": [
        "def swap(x, y):\n",
        " return (y, x)"
      ],
      "execution_count": null,
      "outputs": []
    },
    {
      "cell_type": "code",
      "metadata": {
        "id": "trGuUjsppvht",
        "colab_type": "code",
        "colab": {}
      },
      "source": [
        "p=5\n",
        "q=6"
      ],
      "execution_count": null,
      "outputs": []
    },
    {
      "cell_type": "code",
      "metadata": {
        "id": "tgchfDErp0qZ",
        "colab_type": "code",
        "colab": {}
      },
      "source": [
        "(p,q)=swap(p,q)"
      ],
      "execution_count": null,
      "outputs": []
    },
    {
      "cell_type": "code",
      "metadata": {
        "id": "XW2cFuDip2Tr",
        "colab_type": "code",
        "colab": {
          "base_uri": "https://localhost:8080/",
          "height": 51
        },
        "outputId": "591f5a56-5f44-4c61-82f6-b1a143307202"
      },
      "source": [
        "print(p)\n",
        "print(q)"
      ],
      "execution_count": null,
      "outputs": [
        {
          "output_type": "stream",
          "text": [
            "6\n",
            "5\n"
          ],
          "name": "stdout"
        }
      ]
    },
    {
      "cell_type": "markdown",
      "metadata": {
        "id": "0mnPsYdiqOgi",
        "colab_type": "text"
      },
      "source": [
        "Another Method"
      ]
    },
    {
      "cell_type": "code",
      "metadata": {
        "id": "O4a924bHp8Yh",
        "colab_type": "code",
        "colab": {}
      },
      "source": [
        "def swap2(x, y): \n",
        " x, y = y, x\n",
        " return (x,y)"
      ],
      "execution_count": null,
      "outputs": []
    },
    {
      "cell_type": "code",
      "metadata": {
        "id": "xvSk_VI6qSxj",
        "colab_type": "code",
        "colab": {}
      },
      "source": [
        "a=5\n",
        "b=6"
      ],
      "execution_count": null,
      "outputs": []
    },
    {
      "cell_type": "code",
      "metadata": {
        "id": "Y4XMNQ-0qUUe",
        "colab_type": "code",
        "colab": {}
      },
      "source": [
        "(a,b)=swap2(a,b)"
      ],
      "execution_count": null,
      "outputs": []
    },
    {
      "cell_type": "code",
      "metadata": {
        "id": "OQA-Xjivqkp4",
        "colab_type": "code",
        "colab": {
          "base_uri": "https://localhost:8080/",
          "height": 51
        },
        "outputId": "81add31f-718c-488f-a75b-4aa7b0c743a1"
      },
      "source": [
        "print(a)\n",
        "print(b)"
      ],
      "execution_count": null,
      "outputs": [
        {
          "output_type": "stream",
          "text": [
            "6\n",
            "5\n"
          ],
          "name": "stdout"
        }
      ]
    },
    {
      "cell_type": "markdown",
      "metadata": {
        "id": "blrXRxV8awcK",
        "colab_type": "text"
      },
      "source": [
        "#Random Numbers"
      ]
    },
    {
      "cell_type": "code",
      "metadata": {
        "id": "bHOGmw3icLo0",
        "colab_type": "code",
        "colab": {
          "base_uri": "https://localhost:8080/",
          "height": 34
        },
        "outputId": "5ff03d04-3c0e-4584-9f66-d944ed6f7ee9"
      },
      "source": [
        "[*range(10)]"
      ],
      "execution_count": null,
      "outputs": [
        {
          "output_type": "execute_result",
          "data": {
            "text/plain": [
              "[0, 1, 2, 3, 4, 5, 6, 7, 8, 9]"
            ]
          },
          "metadata": {
            "tags": []
          },
          "execution_count": 11
        }
      ]
    },
    {
      "cell_type": "code",
      "metadata": {
        "id": "JuACMIKdq_VM",
        "colab_type": "code",
        "colab": {
          "base_uri": "https://localhost:8080/",
          "height": 187
        },
        "outputId": "e1d71bc0-f00a-4842-d00a-8cef71e2c00e"
      },
      "source": [
        "import random\n",
        "for i in range(10):\n",
        "  x = random.random()\n",
        "  print (x)"
      ],
      "execution_count": null,
      "outputs": [
        {
          "output_type": "stream",
          "text": [
            "0.8464005539519207\n",
            "0.4648080388314757\n",
            "0.10854234374297389\n",
            "0.4853895985525172\n",
            "0.7935539081662221\n",
            "0.4443320252755262\n",
            "0.28443444365704107\n",
            "0.10216980523509211\n",
            "0.24188864399727683\n",
            "0.009575022330045813\n"
          ],
          "name": "stdout"
        }
      ]
    },
    {
      "cell_type": "markdown",
      "metadata": {
        "id": "Ynpx077hbMfk",
        "colab_type": "text"
      },
      "source": [
        "#Generate a random number between low and high"
      ]
    },
    {
      "cell_type": "code",
      "metadata": {
        "id": "8nkT10xkayby",
        "colab_type": "code",
        "colab": {
          "base_uri": "https://localhost:8080/",
          "height": 204
        },
        "outputId": "aed394c9-4fe0-46b0-8682-969798b89e59"
      },
      "source": [
        "low=10\n",
        "high=20\n",
        "print([*range(low,high)])\n",
        "import random\n",
        "for i in range(low,high):\n",
        "  x = random.random()\n",
        "  print (round(x*high,1))"
      ],
      "execution_count": null,
      "outputs": [
        {
          "output_type": "stream",
          "text": [
            "[10, 11, 12, 13, 14, 15, 16, 17, 18, 19]\n",
            "13.7\n",
            "9.6\n",
            "3.0\n",
            "3.3\n",
            "0.4\n",
            "19.0\n",
            "5.5\n",
            "15.7\n",
            "5.5\n",
            "17.3\n"
          ],
          "name": "stdout"
        }
      ]
    },
    {
      "cell_type": "markdown",
      "metadata": {
        "id": "q6C56lRNbhdL",
        "colab_type": "text"
      },
      "source": [
        "#As an additional exercise, generate a random integer between low and high, including both end points."
      ]
    },
    {
      "cell_type": "code",
      "metadata": {
        "id": "3Dlx3Rt1bWUu",
        "colab_type": "code",
        "colab": {
          "base_uri": "https://localhost:8080/",
          "height": 221
        },
        "outputId": "2289a6c8-34b5-42e1-fb35-ae8a0514dcf9"
      },
      "source": [
        "low=10\n",
        "high=20\n",
        "print([*range(low,high+1)])\n",
        "import random\n",
        "for i in range(low,high+1):\n",
        "  x = random.random()\n",
        "  print (round(x*high,1))"
      ],
      "execution_count": null,
      "outputs": [
        {
          "output_type": "stream",
          "text": [
            "[10, 11, 12, 13, 14, 15, 16, 17, 18, 19, 20]\n",
            "1.2\n",
            "16.3\n",
            "1.8\n",
            "11.8\n",
            "16.3\n",
            "8.6\n",
            "15.7\n",
            "1.1\n",
            "3.2\n",
            "1.3\n",
            "8.7\n"
          ],
          "name": "stdout"
        }
      ]
    },
    {
      "cell_type": "markdown",
      "metadata": {
        "id": "NqDxDUcGdZNM",
        "colab_type": "text"
      },
      "source": [
        "#List of random numbers"
      ]
    },
    {
      "cell_type": "code",
      "metadata": {
        "id": "N8YzM6UMdGmA",
        "colab_type": "code",
        "colab": {}
      },
      "source": [
        "def randomList(n):\n",
        "  s = [0] * n\n",
        "  for i in range(n):\n",
        "    s[i] = random.random()\n",
        "  return s"
      ],
      "execution_count": null,
      "outputs": []
    },
    {
      "cell_type": "code",
      "metadata": {
        "id": "fjVF2Q2DdiK7",
        "colab_type": "code",
        "colab": {
          "base_uri": "https://localhost:8080/",
          "height": 187
        },
        "outputId": "5f39dece-6b3b-4503-c20e-b08bc82a3002"
      },
      "source": [
        "randomList(10)"
      ],
      "execution_count": null,
      "outputs": [
        {
          "output_type": "execute_result",
          "data": {
            "text/plain": [
              "[0.177442359639015,\n",
              " 0.24035445788037602,\n",
              " 0.6590108253970893,\n",
              " 0.18201274818837998,\n",
              " 0.4675651442535864,\n",
              " 0.3993739718844548,\n",
              " 0.2754665291119548,\n",
              " 0.5378997002521186,\n",
              " 0.4037280604976209,\n",
              " 0.18895787087307192]"
            ]
          },
          "metadata": {
            "tags": []
          },
          "execution_count": 26
        }
      ]
    },
    {
      "cell_type": "markdown",
      "metadata": {
        "id": "-9AWYeuodwKc",
        "colab_type": "text"
      },
      "source": [
        "The numbers generated by random are supposed to be distributed uniformly,\n",
        "which means that every value is equally likely."
      ]
    },
    {
      "cell_type": "markdown",
      "metadata": {
        "id": "NBVsEcTgd1nn",
        "colab_type": "text"
      },
      "source": [
        "If we divide the range of possible values into equal-sized \"buckets,\" and count\n",
        "the number of times a random value falls in each bucket, we should get roughly\n",
        "the same number in each."
      ]
    },
    {
      "cell_type": "markdown",
      "metadata": {
        "id": "MrWx1wt2d6zI",
        "colab_type": "text"
      },
      "source": [
        "We can test this theory by writing a program to divide the range into buckets\n",
        "and count the number of values in each."
      ]
    },
    {
      "cell_type": "code",
      "metadata": {
        "id": "cIAbfV6JfWog",
        "colab_type": "code",
        "colab": {}
      },
      "source": [
        "def randomList(n):\n",
        "  s = [0] * n\n",
        "  for i in range(n):\n",
        "    s[i] = random.random()\n",
        "  return s"
      ],
      "execution_count": null,
      "outputs": []
    },
    {
      "cell_type": "code",
      "metadata": {
        "id": "_4PySj9Ydk0W",
        "colab_type": "code",
        "colab": {}
      },
      "source": [
        "def inBucket(t, low, high):\n",
        "  count = 0\n",
        "  for num in t:\n",
        "    if low < num < high:\n",
        "      count = count + 1\n",
        "  return count"
      ],
      "execution_count": null,
      "outputs": []
    },
    {
      "cell_type": "code",
      "metadata": {
        "id": "Mk-6VvKyecg-",
        "colab_type": "code",
        "colab": {}
      },
      "source": [
        "rlist1=randomList(100)\n",
        "rlist2=randomList(500)\n"
      ],
      "execution_count": null,
      "outputs": []
    },
    {
      "cell_type": "code",
      "metadata": {
        "id": "dHt-MdSnhDi8",
        "colab_type": "code",
        "colab": {
          "base_uri": "https://localhost:8080/",
          "height": 51
        },
        "outputId": "5347380c-a871-4911-b8bb-0df241cfb6ae"
      },
      "source": [
        "low = inBucket(rlist1, 0.0, 0.5)\n",
        "print(low)\n",
        "high = inBucket(rlist1, 0.5, 1)\n",
        "print(high)"
      ],
      "execution_count": null,
      "outputs": [
        {
          "output_type": "stream",
          "text": [
            "59\n",
            "41\n"
          ],
          "name": "stdout"
        }
      ]
    },
    {
      "cell_type": "code",
      "metadata": {
        "id": "Izk9jjrFhN_1",
        "colab_type": "code",
        "colab": {
          "base_uri": "https://localhost:8080/",
          "height": 51
        },
        "outputId": "54c91fc9-4475-4838-a622-50c41674af10"
      },
      "source": [
        "low = inBucket(rlist2, 0.0, 0.5)\n",
        "print(low)\n",
        "high = inBucket(rlist2, 0.5, 1)\n",
        "print(high)"
      ],
      "execution_count": null,
      "outputs": [
        {
          "output_type": "stream",
          "text": [
            "275\n",
            "225\n"
          ],
          "name": "stdout"
        }
      ]
    },
    {
      "cell_type": "markdown",
      "metadata": {
        "id": "yDdp9DYamLIR",
        "colab_type": "text"
      },
      "source": [
        "#Tuple Operations"
      ]
    },
    {
      "cell_type": "code",
      "metadata": {
        "id": "kMIQVR-YmNOJ",
        "colab_type": "code",
        "colab": {}
      },
      "source": [
        "tuple = (1,2,3,4,5,6)"
      ],
      "execution_count": null,
      "outputs": []
    },
    {
      "cell_type": "code",
      "metadata": {
        "id": "ihSXh_zHnTEq",
        "colab_type": "code",
        "colab": {
          "base_uri": "https://localhost:8080/",
          "height": 34
        },
        "outputId": "fc60f26d-bc11-440e-8c22-f00ac69e74ea"
      },
      "source": [
        "tuple*2"
      ],
      "execution_count": null,
      "outputs": [
        {
          "output_type": "execute_result",
          "data": {
            "text/plain": [
              "(1, 2, 3, 4, 5, 6, 1, 2, 3, 4, 5, 6)"
            ]
          },
          "metadata": {
            "tags": []
          },
          "execution_count": 103
        }
      ]
    },
    {
      "cell_type": "code",
      "metadata": {
        "id": "pfWEi1wdnUDp",
        "colab_type": "code",
        "colab": {
          "base_uri": "https://localhost:8080/",
          "height": 34
        },
        "outputId": "891460ad-36c3-47cf-e9b4-3f2f4a68b28d"
      },
      "source": [
        "tuple+tuple"
      ],
      "execution_count": null,
      "outputs": [
        {
          "output_type": "execute_result",
          "data": {
            "text/plain": [
              "(1, 2, 3, 4, 5, 6, 1, 2, 3, 4, 5, 6)"
            ]
          },
          "metadata": {
            "tags": []
          },
          "execution_count": 102
        }
      ]
    },
    {
      "cell_type": "code",
      "metadata": {
        "id": "ycdjQK8WndK4",
        "colab_type": "code",
        "colab": {}
      },
      "source": [
        ""
      ],
      "execution_count": null,
      "outputs": []
    }
  ]
}