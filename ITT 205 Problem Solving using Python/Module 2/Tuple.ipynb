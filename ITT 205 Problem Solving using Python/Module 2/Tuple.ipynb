{
  "nbformat": 4,
  "nbformat_minor": 0,
  "metadata": {
    "colab": {
      "name": "Tuple",
      "provenance": []
    },
    "kernelspec": {
      "name": "python3",
      "display_name": "Python 3"
    }
  },
  "cells": [
    {
      "cell_type": "markdown",
      "metadata": {
        "id": "jcuWaUfnmoZy",
        "colab_type": "text"
      },
      "source": [
        "Syntactically, a tuple is a comma-separated list of values"
      ]
    },
    {
      "cell_type": "code",
      "metadata": {
        "id": "uMHBtz6umojD",
        "colab_type": "code",
        "colab": {}
      },
      "source": [
        "mytuple = 'a', 'b', 'c', 'd', 'e'"
      ],
      "execution_count": null,
      "outputs": []
    },
    {
      "cell_type": "code",
      "metadata": {
        "id": "EdSJtVmeolrL",
        "colab_type": "code",
        "colab": {
          "base_uri": "https://localhost:8080/",
          "height": 35
        },
        "outputId": "c3613c87-22d4-4524-d16d-2c121247719c"
      },
      "source": [
        "print(mytuple)"
      ],
      "execution_count": null,
      "outputs": [
        {
          "output_type": "stream",
          "text": [
            "('a', 'b', 'c', 'd', 'e')\n"
          ],
          "name": "stdout"
        }
      ]
    },
    {
      "cell_type": "code",
      "metadata": {
        "id": "Zy5leUD7osul",
        "colab_type": "code",
        "colab": {
          "base_uri": "https://localhost:8080/",
          "height": 35
        },
        "outputId": "5bb7e331-a6a1-4b6b-cf4e-d01940e2254c"
      },
      "source": [
        "mytuple"
      ],
      "execution_count": null,
      "outputs": [
        {
          "output_type": "execute_result",
          "data": {
            "text/plain": [
              "('a', 'b', 'c', 'd', 'e')"
            ]
          },
          "metadata": {
            "tags": []
          },
          "execution_count": 6
        }
      ]
    },
    {
      "cell_type": "markdown",
      "metadata": {
        "id": "fUlBUZoRmvDZ",
        "colab_type": "text"
      },
      "source": [
        "Although it is not necessary, it is conventional to enclose tuples in parentheses:"
      ]
    },
    {
      "cell_type": "code",
      "metadata": {
        "id": "f4FWjLoompwN",
        "colab_type": "code",
        "colab": {}
      },
      "source": [
        "tuple = ('a', 'b', 'c', 'd', 'e')"
      ],
      "execution_count": null,
      "outputs": []
    },
    {
      "cell_type": "markdown",
      "metadata": {
        "id": "7Ofb9STznHqK",
        "colab_type": "text"
      },
      "source": [
        "To create a tuple with a single element, we have to include the final comma:"
      ]
    },
    {
      "cell_type": "code",
      "metadata": {
        "id": "C1vZMEv0mw4Q",
        "colab_type": "code",
        "colab": {}
      },
      "source": [
        "t1 = ('a',)"
      ],
      "execution_count": null,
      "outputs": []
    },
    {
      "cell_type": "code",
      "metadata": {
        "id": "p5_D9UNknIhp",
        "colab_type": "code",
        "colab": {
          "base_uri": "https://localhost:8080/",
          "height": 35
        },
        "outputId": "c825e567-92d5-4e33-b35e-cb54298e7e3c"
      },
      "source": [
        "type(t1)"
      ],
      "execution_count": null,
      "outputs": [
        {
          "output_type": "execute_result",
          "data": {
            "text/plain": [
              "tuple"
            ]
          },
          "metadata": {
            "tags": []
          },
          "execution_count": 9
        }
      ]
    },
    {
      "cell_type": "markdown",
      "metadata": {
        "id": "WkM1-sQ9nTfb",
        "colab_type": "text"
      },
      "source": [
        "Without the comma, Python treats ('a') as a string in parentheses:"
      ]
    },
    {
      "cell_type": "code",
      "metadata": {
        "id": "uWBTsTQanPlu",
        "colab_type": "code",
        "colab": {}
      },
      "source": [
        "t2 = ('a')"
      ],
      "execution_count": null,
      "outputs": []
    },
    {
      "cell_type": "code",
      "metadata": {
        "id": "F_ch2X2WnVXF",
        "colab_type": "code",
        "colab": {
          "base_uri": "https://localhost:8080/",
          "height": 35
        },
        "outputId": "8d7d9726-a663-495e-de78-bdf528bf0e62"
      },
      "source": [
        "type(t2)"
      ],
      "execution_count": null,
      "outputs": [
        {
          "output_type": "execute_result",
          "data": {
            "text/plain": [
              "str"
            ]
          },
          "metadata": {
            "tags": []
          },
          "execution_count": 11
        }
      ]
    },
    {
      "cell_type": "markdown",
      "metadata": {
        "id": "cJ86kPMTnb1Q",
        "colab_type": "text"
      },
      "source": [
        "Operations on tuples are the same as the operations on\n",
        "lists. The index operator selects an element from a tuple."
      ]
    },
    {
      "cell_type": "code",
      "metadata": {
        "id": "A6vzxwTqq6lh",
        "colab_type": "code",
        "colab": {
          "base_uri": "https://localhost:8080/",
          "height": 35
        },
        "outputId": "450432c4-e429-425a-feb8-777bc637528c"
      },
      "source": [
        "tuple"
      ],
      "execution_count": null,
      "outputs": [
        {
          "output_type": "execute_result",
          "data": {
            "text/plain": [
              "('a', 'b', 'c', 'd', 'e')"
            ]
          },
          "metadata": {
            "tags": []
          },
          "execution_count": 12
        }
      ]
    },
    {
      "cell_type": "code",
      "metadata": {
        "id": "ZGFZAGxqnWDe",
        "colab_type": "code",
        "colab": {
          "base_uri": "https://localhost:8080/",
          "height": 35
        },
        "outputId": "ce34685f-e090-4f09-926f-994750e0f469"
      },
      "source": [
        "tuple[-1]"
      ],
      "execution_count": null,
      "outputs": [
        {
          "output_type": "execute_result",
          "data": {
            "application/vnd.google.colaboratory.intrinsic+json": {
              "type": "string"
            },
            "text/plain": [
              "'e'"
            ]
          },
          "metadata": {
            "tags": []
          },
          "execution_count": 16
        }
      ]
    },
    {
      "cell_type": "markdown",
      "metadata": {
        "id": "6pa4-W-ZnkBd",
        "colab_type": "text"
      },
      "source": [
        "And the slice operator selects a range of elements."
      ]
    },
    {
      "cell_type": "code",
      "metadata": {
        "id": "hANYbibxngF7",
        "colab_type": "code",
        "colab": {
          "base_uri": "https://localhost:8080/",
          "height": 35
        },
        "outputId": "b23999f3-d189-4ac3-a516-3adf3848823f"
      },
      "source": [
        "tuple[1:3]"
      ],
      "execution_count": null,
      "outputs": [
        {
          "output_type": "execute_result",
          "data": {
            "text/plain": [
              "('b', 'c')"
            ]
          },
          "metadata": {
            "tags": []
          },
          "execution_count": 17
        }
      ]
    },
    {
      "cell_type": "markdown",
      "metadata": {
        "id": "yxpjxmE6nv9A",
        "colab_type": "text"
      },
      "source": [
        "Immutable"
      ]
    },
    {
      "cell_type": "code",
      "metadata": {
        "id": "xwv3gkTBrW9N",
        "colab_type": "code",
        "colab": {
          "base_uri": "https://localhost:8080/",
          "height": 35
        },
        "outputId": "562d71fc-6539-47f1-d839-f05066c42ed9"
      },
      "source": [
        "tuple"
      ],
      "execution_count": null,
      "outputs": [
        {
          "output_type": "execute_result",
          "data": {
            "text/plain": [
              "('a', 'b', 'c', 'd', 'e')"
            ]
          },
          "metadata": {
            "tags": []
          },
          "execution_count": 19
        }
      ]
    },
    {
      "cell_type": "code",
      "metadata": {
        "id": "m7R0h85xnmeu",
        "colab_type": "code",
        "colab": {
          "base_uri": "https://localhost:8080/",
          "height": 166
        },
        "outputId": "a8dfdb82-f72c-4c6e-95fa-b3683b2dd6d1"
      },
      "source": [
        "tuple[0] = 'A'"
      ],
      "execution_count": null,
      "outputs": [
        {
          "output_type": "error",
          "ename": "TypeError",
          "evalue": "ignored",
          "traceback": [
            "\u001b[0;31m---------------------------------------------------------------------------\u001b[0m",
            "\u001b[0;31mTypeError\u001b[0m                                 Traceback (most recent call last)",
            "\u001b[0;32m<ipython-input-20-0c3ebe4a93ea>\u001b[0m in \u001b[0;36m<module>\u001b[0;34m()\u001b[0m\n\u001b[0;32m----> 1\u001b[0;31m \u001b[0mtuple\u001b[0m\u001b[0;34m[\u001b[0m\u001b[0;36m0\u001b[0m\u001b[0;34m]\u001b[0m \u001b[0;34m=\u001b[0m \u001b[0;34m'A'\u001b[0m\u001b[0;34m\u001b[0m\u001b[0;34m\u001b[0m\u001b[0m\n\u001b[0m",
            "\u001b[0;31mTypeError\u001b[0m: 'tuple' object does not support item assignment"
          ]
        }
      ]
    },
    {
      "cell_type": "markdown",
      "metadata": {
        "id": "IiEZ1Ra7nqla",
        "colab_type": "text"
      },
      "source": [
        "But if we try to modify one of the elements of the tuple, we get an error:"
      ]
    },
    {
      "cell_type": "code",
      "metadata": {
        "id": "ILkgP4ICnq-B",
        "colab_type": "code",
        "colab": {}
      },
      "source": [
        "tuple = ('A',) + tuple[1:]"
      ],
      "execution_count": null,
      "outputs": []
    },
    {
      "cell_type": "code",
      "metadata": {
        "id": "etoRcd61n1p-",
        "colab_type": "code",
        "colab": {
          "base_uri": "https://localhost:8080/",
          "height": 35
        },
        "outputId": "ec22a03a-e148-498a-e279-2d0885910931"
      },
      "source": [
        "print(tuple)"
      ],
      "execution_count": null,
      "outputs": [
        {
          "output_type": "stream",
          "text": [
            "('A', 'b', 'c', 'd', 'e')\n"
          ],
          "name": "stdout"
        }
      ]
    },
    {
      "cell_type": "code",
      "metadata": {
        "id": "gAUYBJ-SsVi9",
        "colab_type": "code",
        "colab": {}
      },
      "source": [
        "tup=list(tuple)\n",
        "tup[0]='A'\n",
        "#tuple=tuple(tup)"
      ],
      "execution_count": null,
      "outputs": []
    },
    {
      "cell_type": "markdown",
      "metadata": {
        "id": "luR3H_ijoZVF",
        "colab_type": "text"
      },
      "source": [
        "#Tuple assignment\n"
      ]
    },
    {
      "cell_type": "code",
      "metadata": {
        "id": "8JokQbhAoc4m",
        "colab_type": "code",
        "colab": {}
      },
      "source": [
        "a=3\n",
        "b=2"
      ],
      "execution_count": null,
      "outputs": []
    },
    {
      "cell_type": "code",
      "metadata": {
        "id": "oGpEwAF2oqp9",
        "colab_type": "code",
        "colab": {
          "base_uri": "https://localhost:8080/",
          "height": 35
        },
        "outputId": "ba6b7abc-c8da-4a10-b9ec-da778c1893dd"
      },
      "source": [
        "type(a)"
      ],
      "execution_count": null,
      "outputs": [
        {
          "output_type": "execute_result",
          "data": {
            "text/plain": [
              "int"
            ]
          },
          "metadata": {
            "tags": []
          },
          "execution_count": 26
        }
      ]
    },
    {
      "cell_type": "code",
      "metadata": {
        "id": "a4DLp3b7ost6",
        "colab_type": "code",
        "colab": {
          "base_uri": "https://localhost:8080/",
          "height": 35
        },
        "outputId": "113197c5-4f5e-42bb-ad3f-ef86aebd6c53"
      },
      "source": [
        "type(b)"
      ],
      "execution_count": null,
      "outputs": [
        {
          "output_type": "execute_result",
          "data": {
            "text/plain": [
              "int"
            ]
          },
          "metadata": {
            "tags": []
          },
          "execution_count": 27
        }
      ]
    },
    {
      "cell_type": "code",
      "metadata": {
        "id": "sjsxUxIioe1W",
        "colab_type": "code",
        "colab": {
          "base_uri": "https://localhost:8080/",
          "height": 35
        },
        "outputId": "5b4ef7de-58ae-482c-d4b3-6ea77e8398d4"
      },
      "source": [
        "print(a,b)"
      ],
      "execution_count": null,
      "outputs": [
        {
          "output_type": "stream",
          "text": [
            "3 2\n"
          ],
          "name": "stdout"
        }
      ]
    },
    {
      "cell_type": "code",
      "metadata": {
        "id": "dV6HlhjMn3pz",
        "colab_type": "code",
        "colab": {}
      },
      "source": [
        "(a, b) = (b, a)"
      ],
      "execution_count": null,
      "outputs": []
    },
    {
      "cell_type": "code",
      "metadata": {
        "id": "aJSJRfb8pAjV",
        "colab_type": "code",
        "colab": {
          "base_uri": "https://localhost:8080/",
          "height": 35
        },
        "outputId": "cacf166f-d507-4ec7-b8fe-46126e494e8e"
      },
      "source": [
        "type((a,b))"
      ],
      "execution_count": null,
      "outputs": [
        {
          "output_type": "execute_result",
          "data": {
            "text/plain": [
              "tuple"
            ]
          },
          "metadata": {
            "tags": []
          },
          "execution_count": 30
        }
      ]
    },
    {
      "cell_type": "code",
      "metadata": {
        "id": "GwWOZcv9oaig",
        "colab_type": "code",
        "colab": {
          "base_uri": "https://localhost:8080/",
          "height": 35
        },
        "outputId": "fb2d6dff-497f-414f-b8f6-2b4d3651ff42"
      },
      "source": [
        "print(a,b)"
      ],
      "execution_count": null,
      "outputs": [
        {
          "output_type": "stream",
          "text": [
            "2 3\n"
          ],
          "name": "stdout"
        }
      ]
    },
    {
      "cell_type": "code",
      "metadata": {
        "id": "_bmNqERcoibl",
        "colab_type": "code",
        "colab": {}
      },
      "source": [
        "(a, b, c, d) = (1, 2, 3,4)"
      ],
      "execution_count": null,
      "outputs": []
    },
    {
      "cell_type": "markdown",
      "metadata": {
        "id": "4fmWyrqSpV4M",
        "colab_type": "text"
      },
      "source": [
        "#Tuples as return values"
      ]
    },
    {
      "cell_type": "code",
      "metadata": {
        "id": "4fX9DUrgpSri",
        "colab_type": "code",
        "colab": {}
      },
      "source": [
        "def swap(x, y):\n",
        " return (y, x)"
      ],
      "execution_count": null,
      "outputs": []
    },
    {
      "cell_type": "code",
      "metadata": {
        "id": "U0IoHU7st7sS",
        "colab_type": "code",
        "colab": {}
      },
      "source": [
        "def fun5(x, y):\n",
        " return (y, x, p,q,r)"
      ],
      "execution_count": null,
      "outputs": []
    },
    {
      "cell_type": "code",
      "metadata": {
        "id": "M8X5y6_xt_qu",
        "colab_type": "code",
        "colab": {}
      },
      "source": [
        "a,b,c,d,e = fun5(x, y)"
      ],
      "execution_count": null,
      "outputs": []
    },
    {
      "cell_type": "code",
      "metadata": {
        "id": "trGuUjsppvht",
        "colab_type": "code",
        "colab": {}
      },
      "source": [
        "p=5\n",
        "q=6"
      ],
      "execution_count": null,
      "outputs": []
    },
    {
      "cell_type": "code",
      "metadata": {
        "id": "tgchfDErp0qZ",
        "colab_type": "code",
        "colab": {}
      },
      "source": [
        "p,q=swap(p,q)"
      ],
      "execution_count": null,
      "outputs": []
    },
    {
      "cell_type": "code",
      "metadata": {
        "id": "XW2cFuDip2Tr",
        "colab_type": "code",
        "colab": {
          "base_uri": "https://localhost:8080/",
          "height": 52
        },
        "outputId": "b6717211-1272-4036-de09-0ae3da661be9"
      },
      "source": [
        "print(p)\n",
        "print(q)"
      ],
      "execution_count": null,
      "outputs": [
        {
          "output_type": "stream",
          "text": [
            "6\n",
            "5\n"
          ],
          "name": "stdout"
        }
      ]
    },
    {
      "cell_type": "markdown",
      "metadata": {
        "id": "0mnPsYdiqOgi",
        "colab_type": "text"
      },
      "source": [
        "Another Method"
      ]
    },
    {
      "cell_type": "code",
      "metadata": {
        "id": "O4a924bHp8Yh",
        "colab_type": "code",
        "colab": {}
      },
      "source": [
        "def swap2(x, y): \n",
        " x, y = y, x\n",
        " return (x,y)"
      ],
      "execution_count": null,
      "outputs": []
    },
    {
      "cell_type": "code",
      "metadata": {
        "id": "xvSk_VI6qSxj",
        "colab_type": "code",
        "colab": {}
      },
      "source": [
        "a=5\n",
        "b=6"
      ],
      "execution_count": null,
      "outputs": []
    },
    {
      "cell_type": "code",
      "metadata": {
        "id": "Y4XMNQ-0qUUe",
        "colab_type": "code",
        "colab": {}
      },
      "source": [
        "(a,b)=swap2(a,b)"
      ],
      "execution_count": null,
      "outputs": []
    },
    {
      "cell_type": "code",
      "metadata": {
        "id": "OQA-Xjivqkp4",
        "colab_type": "code",
        "colab": {
          "base_uri": "https://localhost:8080/",
          "height": 52
        },
        "outputId": "f6b686ec-8502-4cd9-ba5f-37fbdaa648b0"
      },
      "source": [
        "print(a)\n",
        "print(b)"
      ],
      "execution_count": null,
      "outputs": [
        {
          "output_type": "stream",
          "text": [
            "6\n",
            "5\n"
          ],
          "name": "stdout"
        }
      ]
    },
    {
      "cell_type": "markdown",
      "metadata": {
        "id": "blrXRxV8awcK",
        "colab_type": "text"
      },
      "source": [
        "#Random Numbers"
      ]
    },
    {
      "cell_type": "code",
      "metadata": {
        "id": "bHOGmw3icLo0",
        "colab_type": "code",
        "colab": {
          "base_uri": "https://localhost:8080/",
          "height": 35
        },
        "outputId": "2dd7ba14-42ed-4846-ac83-703a89ba5313"
      },
      "source": [
        "[*range(10+1)]"
      ],
      "execution_count": null,
      "outputs": [
        {
          "output_type": "execute_result",
          "data": {
            "text/plain": [
              "[0, 1, 2, 3, 4, 5, 6, 7, 8, 9, 10]"
            ]
          },
          "metadata": {
            "tags": []
          },
          "execution_count": 55
        }
      ]
    },
    {
      "cell_type": "code",
      "metadata": {
        "id": "eyvwl5XKvRdI",
        "colab_type": "code",
        "colab": {}
      },
      "source": [
        "def random():\n",
        "    print(\"My random function\")"
      ],
      "execution_count": 14,
      "outputs": []
    },
    {
      "cell_type": "code",
      "metadata": {
        "id": "rvnrgeVTvXMr",
        "colab_type": "code",
        "colab": {
          "base_uri": "https://localhost:8080/",
          "height": 34
        },
        "outputId": "dbc59e6a-e9f1-4a85-c277-f79bb26e1306"
      },
      "source": [
        "random()"
      ],
      "execution_count": 15,
      "outputs": [
        {
          "output_type": "stream",
          "text": [
            "My random function\n"
          ],
          "name": "stdout"
        }
      ]
    },
    {
      "cell_type": "code",
      "metadata": {
        "id": "Tu-T4Ya7vctx",
        "colab_type": "code",
        "colab": {
          "base_uri": "https://localhost:8080/",
          "height": 34
        },
        "outputId": "78895660-52fd-4bac-e6fd-b0be0795736c"
      },
      "source": [
        "import random as rd\n",
        "rd.random()"
      ],
      "execution_count": 21,
      "outputs": [
        {
          "output_type": "execute_result",
          "data": {
            "text/plain": [
              "0.17010247617206398"
            ]
          },
          "metadata": {
            "tags": []
          },
          "execution_count": 21
        }
      ]
    },
    {
      "cell_type": "code",
      "metadata": {
        "id": "Rfyvds6BvCj4",
        "colab_type": "code",
        "colab": {
          "base_uri": "https://localhost:8080/",
          "height": 353
        },
        "outputId": "79368785-d488-4af2-c9ad-7572e7765117"
      },
      "source": [
        "import random\n",
        "for i in range(10):\n",
        "  print(\"Index\",i,\":\")\n",
        "  x = rd.random()\n",
        "  print (x)"
      ],
      "execution_count": 24,
      "outputs": [
        {
          "output_type": "stream",
          "text": [
            "Index 0 :\n",
            "0.23731502928243997\n",
            "Index 1 :\n",
            "0.3302410365958216\n",
            "Index 2 :\n",
            "0.47134768528672333\n",
            "Index 3 :\n",
            "0.11167806554697801\n",
            "Index 4 :\n",
            "0.5479236489570157\n",
            "Index 5 :\n",
            "0.9174918508658539\n",
            "Index 6 :\n",
            "0.6450017021674603\n",
            "Index 7 :\n",
            "0.2283484553359627\n",
            "Index 8 :\n",
            "0.8632420965837018\n",
            "Index 9 :\n",
            "0.9051343183577528\n"
          ],
          "name": "stdout"
        }
      ]
    },
    {
      "cell_type": "code",
      "metadata": {
        "id": "JuACMIKdq_VM",
        "colab_type": "code",
        "colab": {
          "base_uri": "https://localhost:8080/",
          "height": 187
        },
        "outputId": "e1d71bc0-f00a-4842-d00a-8cef71e2c00e"
      },
      "source": [
        "import random\n",
        "for i in range(10):\n",
        "  x = random.random()\n",
        "  print (x)"
      ],
      "execution_count": null,
      "outputs": [
        {
          "output_type": "stream",
          "text": [
            "0.8464005539519207\n",
            "0.4648080388314757\n",
            "0.10854234374297389\n",
            "0.4853895985525172\n",
            "0.7935539081662221\n",
            "0.4443320252755262\n",
            "0.28443444365704107\n",
            "0.10216980523509211\n",
            "0.24188864399727683\n",
            "0.009575022330045813\n"
          ],
          "name": "stdout"
        }
      ]
    },
    {
      "cell_type": "markdown",
      "metadata": {
        "id": "Ynpx077hbMfk",
        "colab_type": "text"
      },
      "source": [
        "#Generate a random number between low and high"
      ]
    },
    {
      "cell_type": "code",
      "metadata": {
        "id": "j-f92XJywOJS",
        "colab_type": "code",
        "colab": {
          "base_uri": "https://localhost:8080/",
          "height": 35
        },
        "outputId": "e3fbc3a8-22b9-47b8-9661-d340c5f30c0a"
      },
      "source": [
        "low=10\n",
        "high=20\n",
        "print([*range(low,high+1)])"
      ],
      "execution_count": null,
      "outputs": [
        {
          "output_type": "stream",
          "text": [
            "[10, 11, 12, 13, 14, 15, 16, 17, 18, 19, 20]\n"
          ],
          "name": "stdout"
        }
      ]
    },
    {
      "cell_type": "code",
      "metadata": {
        "id": "8nkT10xkayby",
        "colab_type": "code",
        "colab": {
          "base_uri": "https://localhost:8080/",
          "height": 202
        },
        "outputId": "de462920-0d65-48c6-f07e-7d70ec03e040"
      },
      "source": [
        "low=10\n",
        "high=20\n",
        "print([*range(low,high)])\n",
        "import random\n",
        "for i in range(low,high):\n",
        "  x = random.random()\n",
        "  print (round(x*high,1))"
      ],
      "execution_count": 27,
      "outputs": [
        {
          "output_type": "stream",
          "text": [
            "[10, 11, 12, 13, 14, 15, 16, 17, 18, 19]\n",
            "8.6\n",
            "3.3\n",
            "9.3\n",
            "12.3\n",
            "13.4\n",
            "18.5\n",
            "3.4\n",
            "14.5\n",
            "12.9\n",
            "16.6\n"
          ],
          "name": "stdout"
        }
      ]
    },
    {
      "cell_type": "markdown",
      "metadata": {
        "id": "q6C56lRNbhdL",
        "colab_type": "text"
      },
      "source": [
        "#As an additional exercise, generate a random integer between low and high, including both end points."
      ]
    },
    {
      "cell_type": "code",
      "metadata": {
        "id": "3Dlx3Rt1bWUu",
        "colab_type": "code",
        "colab": {
          "base_uri": "https://localhost:8080/",
          "height": 221
        },
        "outputId": "2289a6c8-34b5-42e1-fb35-ae8a0514dcf9"
      },
      "source": [
        "low=10\n",
        "high=20\n",
        "print([*range(low,high+1)])\n",
        "import random\n",
        "for i in range(low,high+1):\n",
        "  x = random.random()\n",
        "  print (round(x*high,1))"
      ],
      "execution_count": null,
      "outputs": [
        {
          "output_type": "stream",
          "text": [
            "[10, 11, 12, 13, 14, 15, 16, 17, 18, 19, 20]\n",
            "1.2\n",
            "16.3\n",
            "1.8\n",
            "11.8\n",
            "16.3\n",
            "8.6\n",
            "15.7\n",
            "1.1\n",
            "3.2\n",
            "1.3\n",
            "8.7\n"
          ],
          "name": "stdout"
        }
      ]
    },
    {
      "cell_type": "markdown",
      "metadata": {
        "id": "NqDxDUcGdZNM",
        "colab_type": "text"
      },
      "source": [
        "#List of random numbers"
      ]
    },
    {
      "cell_type": "code",
      "metadata": {
        "id": "wRs0YjRwmf_A",
        "colab_type": "code",
        "colab": {}
      },
      "source": [
        "n=10"
      ],
      "execution_count": 32,
      "outputs": []
    },
    {
      "cell_type": "code",
      "metadata": {
        "id": "en96pYw9md21",
        "colab_type": "code",
        "colab": {
          "base_uri": "https://localhost:8080/",
          "height": 34
        },
        "outputId": "eaa9c9ea-1953-4a2d-cfe3-109ab08fc44d"
      },
      "source": [
        "s = [0] * n\n",
        "s"
      ],
      "execution_count": 34,
      "outputs": [
        {
          "output_type": "execute_result",
          "data": {
            "text/plain": [
              "[0, 0, 0, 0, 0, 0, 0, 0, 0, 0]"
            ]
          },
          "metadata": {
            "tags": []
          },
          "execution_count": 34
        }
      ]
    },
    {
      "cell_type": "code",
      "metadata": {
        "id": "N8YzM6UMdGmA",
        "colab_type": "code",
        "colab": {}
      },
      "source": [
        "def randomList(n):\n",
        "  s = [0] * n\n",
        "  for i in range(n):\n",
        "    s[i] = random.random()\n",
        "  return s"
      ],
      "execution_count": 35,
      "outputs": []
    },
    {
      "cell_type": "code",
      "metadata": {
        "id": "fjVF2Q2DdiK7",
        "colab_type": "code",
        "colab": {
          "base_uri": "https://localhost:8080/",
          "height": 185
        },
        "outputId": "dee46cb9-e2f2-4d67-a8d7-82fdb6fe05b7"
      },
      "source": [
        "mylist=randomList(10)\n",
        "mylist"
      ],
      "execution_count": 36,
      "outputs": [
        {
          "output_type": "execute_result",
          "data": {
            "text/plain": [
              "[0.5394746442585003,\n",
              " 0.942651360193001,\n",
              " 0.5596814226383872,\n",
              " 0.1528989734498445,\n",
              " 0.16719939578448983,\n",
              " 0.19478804602818156,\n",
              " 0.9101180915561838,\n",
              " 0.306117671743643,\n",
              " 0.7377006904173695,\n",
              " 0.7742773446404088]"
            ]
          },
          "metadata": {
            "tags": []
          },
          "execution_count": 36
        }
      ]
    },
    {
      "cell_type": "markdown",
      "metadata": {
        "id": "-9AWYeuodwKc",
        "colab_type": "text"
      },
      "source": [
        "The numbers generated by random are supposed to be distributed uniformly,\n",
        "which means that every value is equally likely."
      ]
    },
    {
      "cell_type": "markdown",
      "metadata": {
        "id": "NBVsEcTgd1nn",
        "colab_type": "text"
      },
      "source": [
        "If we divide the range of possible values into equal-sized \"buckets,\" and count\n",
        "the number of times a random value falls in each bucket, we should get roughly\n",
        "the same number in each."
      ]
    },
    {
      "cell_type": "markdown",
      "metadata": {
        "id": "MrWx1wt2d6zI",
        "colab_type": "text"
      },
      "source": [
        "We can test this theory by writing a program to divide the range into buckets\n",
        "and count the number of values in each."
      ]
    },
    {
      "cell_type": "code",
      "metadata": {
        "id": "cIAbfV6JfWog",
        "colab_type": "code",
        "colab": {}
      },
      "source": [
        "def randomList(n):\n",
        "  s = [0] * n\n",
        "  for i in range(n):\n",
        "    s[i] = random.random()\n",
        "  return s"
      ],
      "execution_count": null,
      "outputs": []
    },
    {
      "cell_type": "code",
      "metadata": {
        "id": "_4PySj9Ydk0W",
        "colab_type": "code",
        "colab": {}
      },
      "source": [
        "def inBucket(t, low, high):\n",
        "  count = 0\n",
        "  for num in t:\n",
        "    if low < num < high:\n",
        "      count = count + 1\n",
        "  return count"
      ],
      "execution_count": 39,
      "outputs": []
    },
    {
      "cell_type": "code",
      "metadata": {
        "id": "Mk-6VvKyecg-",
        "colab_type": "code",
        "colab": {}
      },
      "source": [
        "rlist1=randomList(100)\n",
        "rlist2=randomList(500)\n"
      ],
      "execution_count": 45,
      "outputs": []
    },
    {
      "cell_type": "code",
      "metadata": {
        "id": "dHt-MdSnhDi8",
        "colab_type": "code",
        "colab": {
          "base_uri": "https://localhost:8080/",
          "height": 50
        },
        "outputId": "55d018da-6430-4da5-c6c5-87571ad6bd24"
      },
      "source": [
        "low = inBucket(rlist1, 0.0, 0.5)\n",
        "print(low)\n",
        "high = inBucket(rlist1, 0.5, 1)\n",
        "print(high)"
      ],
      "execution_count": 43,
      "outputs": [
        {
          "output_type": "stream",
          "text": [
            "50\n",
            "50\n"
          ],
          "name": "stdout"
        }
      ]
    },
    {
      "cell_type": "code",
      "metadata": {
        "id": "Izk9jjrFhN_1",
        "colab_type": "code",
        "colab": {
          "base_uri": "https://localhost:8080/",
          "height": 50
        },
        "outputId": "4185ec03-1fca-448a-d917-3c1ede06a51f"
      },
      "source": [
        "low = inBucket(rlist2, 0.0, 0.5)\n",
        "print(low)\n",
        "high = inBucket(rlist2, 0.5, 1)\n",
        "print(high)"
      ],
      "execution_count": 46,
      "outputs": [
        {
          "output_type": "stream",
          "text": [
            "237\n",
            "263\n"
          ],
          "name": "stdout"
        }
      ]
    },
    {
      "cell_type": "markdown",
      "metadata": {
        "id": "yDdp9DYamLIR",
        "colab_type": "text"
      },
      "source": [
        "#Tuple Operations"
      ]
    },
    {
      "cell_type": "code",
      "metadata": {
        "id": "kMIQVR-YmNOJ",
        "colab_type": "code",
        "colab": {}
      },
      "source": [
        "tuple = (1,2,3,4,5,6)"
      ],
      "execution_count": null,
      "outputs": []
    },
    {
      "cell_type": "code",
      "metadata": {
        "id": "ihSXh_zHnTEq",
        "colab_type": "code",
        "colab": {
          "base_uri": "https://localhost:8080/",
          "height": 35
        },
        "outputId": "b44d355c-15f1-41f1-ae7c-13f204ec2abf"
      },
      "source": [
        "tuple*3"
      ],
      "execution_count": null,
      "outputs": [
        {
          "output_type": "execute_result",
          "data": {
            "text/plain": [
              "(1, 2, 3, 4, 5, 6, 1, 2, 3, 4, 5, 6, 1, 2, 3, 4, 5, 6)"
            ]
          },
          "metadata": {
            "tags": []
          },
          "execution_count": 52
        }
      ]
    },
    {
      "cell_type": "code",
      "metadata": {
        "id": "pfWEi1wdnUDp",
        "colab_type": "code",
        "colab": {
          "base_uri": "https://localhost:8080/",
          "height": 35
        },
        "outputId": "13e4178a-6560-4472-f988-95c1900202bf"
      },
      "source": [
        "tuple+tuple+tuple"
      ],
      "execution_count": null,
      "outputs": [
        {
          "output_type": "execute_result",
          "data": {
            "text/plain": [
              "(1, 2, 3, 4, 5, 6, 1, 2, 3, 4, 5, 6, 1, 2, 3, 4, 5, 6)"
            ]
          },
          "metadata": {
            "tags": []
          },
          "execution_count": 53
        }
      ]
    },
    {
      "cell_type": "code",
      "metadata": {
        "id": "ycdjQK8WndK4",
        "colab_type": "code",
        "colab": {}
      },
      "source": [
        ""
      ],
      "execution_count": null,
      "outputs": []
    },
    {
      "cell_type": "markdown",
      "metadata": {
        "id": "zpcxvzeihsP3",
        "colab_type": "text"
      },
      "source": [
        "#Sorting"
      ]
    },
    {
      "cell_type": "code",
      "metadata": {
        "id": "34i9RGl_hudC",
        "colab_type": "code",
        "colab": {}
      },
      "source": [
        "Ratings = (0, 9, 6, 5, 10, 8, 9, 6, 2)"
      ],
      "execution_count": 1,
      "outputs": []
    },
    {
      "cell_type": "code",
      "metadata": {
        "id": "bH-v02ZqhxWQ",
        "colab_type": "code",
        "colab": {
          "base_uri": "https://localhost:8080/",
          "height": 34
        },
        "outputId": "c9e5e283-3033-4164-f200-ae831b0b38e7"
      },
      "source": [
        "# Sort the tuple\n",
        "\n",
        "RatingsSorted = sorted(Ratings)\n",
        "RatingsSorted"
      ],
      "execution_count": 49,
      "outputs": [
        {
          "output_type": "execute_result",
          "data": {
            "text/plain": [
              "[0, 2, 5, 6, 6, 8, 9, 9, 10]"
            ]
          },
          "metadata": {
            "tags": []
          },
          "execution_count": 49
        }
      ]
    },
    {
      "cell_type": "markdown",
      "metadata": {
        "id": "6QoLhD2Sh7ZN",
        "colab_type": "text"
      },
      "source": [
        "#Nested Tuple"
      ]
    },
    {
      "cell_type": "markdown",
      "metadata": {
        "id": "1txmVDnco8MH",
        "colab_type": "text"
      },
      "source": [
        ""
      ]
    },
    {
      "cell_type": "code",
      "metadata": {
        "id": "umhbq09hh3Za",
        "colab_type": "code",
        "colab": {}
      },
      "source": [
        "NestedT =(1, 2, (\"pop\", \"rock\") ,(3,4),(\"disco\",(1,2)))"
      ],
      "execution_count": 50,
      "outputs": []
    },
    {
      "cell_type": "code",
      "metadata": {
        "id": "MBm56nL5ps7r",
        "colab_type": "code",
        "colab": {
          "base_uri": "https://localhost:8080/",
          "height": 34
        },
        "outputId": "86d03d79-81b1-46e7-ce36-b8715c60b91f"
      },
      "source": [
        "NestedT[4][1][1]"
      ],
      "execution_count": 58,
      "outputs": [
        {
          "output_type": "execute_result",
          "data": {
            "text/plain": [
              "2"
            ]
          },
          "metadata": {
            "tags": []
          },
          "execution_count": 58
        }
      ]
    },
    {
      "cell_type": "code",
      "metadata": {
        "id": "IF-NZq_lo8-q",
        "colab_type": "code",
        "colab": {
          "base_uri": "https://localhost:8080/",
          "height": 34
        },
        "outputId": "a136c884-9e27-4878-cd84-ac3669a19081"
      },
      "source": [
        "print(NestedT[4][0])"
      ],
      "execution_count": 55,
      "outputs": [
        {
          "output_type": "stream",
          "text": [
            "disco\n"
          ],
          "name": "stdout"
        }
      ]
    },
    {
      "cell_type": "code",
      "metadata": {
        "id": "2WOy4CNth-e2",
        "colab_type": "code",
        "colab": {
          "base_uri": "https://localhost:8080/",
          "height": 101
        },
        "outputId": "2cff4f29-887d-4c8f-9c7d-d2e3cbf82379"
      },
      "source": [
        "# Print element on each index\n",
        "\n",
        "print(\"Element 0 of Tuple: \", NestedT[0])\n",
        "print(\"Element 1 of Tuple: \", NestedT[1])\n",
        "print(\"Element 2 of Tuple: \", NestedT[2])\n",
        "print(\"Element 3 of Tuple: \", NestedT[3])\n",
        "print(\"Element 4 of Tuple: \", NestedT[4])"
      ],
      "execution_count": 51,
      "outputs": [
        {
          "output_type": "stream",
          "text": [
            "Element 0 of Tuple:  1\n",
            "Element 1 of Tuple:  2\n",
            "Element 2 of Tuple:  ('pop', 'rock')\n",
            "Element 3 of Tuple:  (3, 4)\n",
            "Element 4 of Tuple:  ('disco', (1, 2))\n"
          ],
          "name": "stdout"
        }
      ]
    },
    {
      "cell_type": "code",
      "metadata": {
        "id": "Pw0ykiWHiCsd",
        "colab_type": "code",
        "colab": {
          "base_uri": "https://localhost:8080/",
          "height": 118
        },
        "outputId": "25e1d10f-abab-4152-bb4c-1c9953596d89"
      },
      "source": [
        "# Print element on each index, including nest indexes\n",
        "\n",
        "print(\"Element 2, 0 of Tuple: \",   NestedT[2][0])\n",
        "print(\"Element 2, 1 of Tuple: \",   NestedT[2][1])\n",
        "print(\"Element 3, 0 of Tuple: \",   NestedT[3][0])\n",
        "print(\"Element 3, 1 of Tuple: \",   NestedT[3][1])\n",
        "print(\"Element 4, 0 of Tuple: \",   NestedT[4][0])\n",
        "print(\"Element 4, 1 of Tuple: \",   NestedT[4][1])"
      ],
      "execution_count": 5,
      "outputs": [
        {
          "output_type": "stream",
          "text": [
            "Element 2, 0 of Tuple:  pop\n",
            "Element 2, 1 of Tuple:  rock\n",
            "Element 3, 0 of Tuple:  3\n",
            "Element 3, 1 of Tuple:  4\n",
            "Element 4, 0 of Tuple:  disco\n",
            "Element 4, 1 of Tuple:  (1, 2)\n"
          ],
          "name": "stdout"
        }
      ]
    },
    {
      "cell_type": "code",
      "metadata": {
        "id": "3FQW2eePiEy2",
        "colab_type": "code",
        "colab": {
          "base_uri": "https://localhost:8080/",
          "height": 35
        },
        "outputId": "96cdee60-4133-4983-bf1a-6a25190c3876"
      },
      "source": [
        "# Print the first element in the second nested tuples\n",
        "\n",
        "NestedT[2][1][0]"
      ],
      "execution_count": 6,
      "outputs": [
        {
          "output_type": "execute_result",
          "data": {
            "application/vnd.google.colaboratory.intrinsic+json": {
              "type": "string"
            },
            "text/plain": [
              "'r'"
            ]
          },
          "metadata": {
            "tags": []
          },
          "execution_count": 6
        }
      ]
    },
    {
      "cell_type": "markdown",
      "metadata": {
        "id": "Eb32CoJSiRmg",
        "colab_type": "text"
      },
      "source": [
        "#Programming Exercise"
      ]
    },
    {
      "cell_type": "markdown",
      "metadata": {
        "id": "4GppcArFirke",
        "colab_type": "text"
      },
      "source": [
        "#Find the length of the tuple, genres_tuple"
      ]
    },
    {
      "cell_type": "code",
      "metadata": {
        "id": "wAjv_jMVqG52",
        "colab_type": "code",
        "colab": {
          "base_uri": "https://localhost:8080/",
          "height": 151
        },
        "outputId": "fb9e1cf8-1c62-44ae-d362-2f71bf645c7e"
      },
      "source": [
        "\n",
        "genres_tuple = (\"pop\", \"rock\", \"soul\", \"hard rock\", \"soft rock\",\"R&B\", \"progressive rock\", \"disco\") \n",
        "genres_tuple"
      ],
      "execution_count": 60,
      "outputs": [
        {
          "output_type": "execute_result",
          "data": {
            "text/plain": [
              "('pop',\n",
              " 'rock',\n",
              " 'soul',\n",
              " 'hard rock',\n",
              " 'soft rock',\n",
              " 'R&B',\n",
              " 'progressive rock',\n",
              " 'disco')"
            ]
          },
          "metadata": {
            "tags": []
          },
          "execution_count": 60
        }
      ]
    },
    {
      "cell_type": "code",
      "metadata": {
        "id": "u6521w0niMQa",
        "colab_type": "code",
        "colab": {
          "base_uri": "https://localhost:8080/",
          "height": 151
        },
        "outputId": "6f3ee1c9-0247-436c-da92-b7592f6a20f3"
      },
      "source": [
        "# sample tuple\n",
        "\n",
        "genres_tuple = (\"pop\", \"rock\", \"soul\", \"hard rock\", \"soft rock\", \\\n",
        "                \"R&B\", \"progressive rock\", \"disco\") \n",
        "genres_tuple"
      ],
      "execution_count": 61,
      "outputs": [
        {
          "output_type": "execute_result",
          "data": {
            "text/plain": [
              "('pop',\n",
              " 'rock',\n",
              " 'soul',\n",
              " 'hard rock',\n",
              " 'soft rock',\n",
              " 'R&B',\n",
              " 'progressive rock',\n",
              " 'disco')"
            ]
          },
          "metadata": {
            "tags": []
          },
          "execution_count": 61
        }
      ]
    },
    {
      "cell_type": "code",
      "metadata": {
        "id": "CSCCrIGSimO8",
        "colab_type": "code",
        "colab": {
          "base_uri": "https://localhost:8080/",
          "height": 34
        },
        "outputId": "fa9d955a-2670-4a29-e35d-0cd95d7cb715"
      },
      "source": [
        "len(genres_tuple)"
      ],
      "execution_count": 62,
      "outputs": [
        {
          "output_type": "execute_result",
          "data": {
            "text/plain": [
              "8"
            ]
          },
          "metadata": {
            "tags": []
          },
          "execution_count": 62
        }
      ]
    },
    {
      "cell_type": "markdown",
      "metadata": {
        "id": "JrTMU9kHjGr-",
        "colab_type": "text"
      },
      "source": [
        "#Access the element, with respect to index 3:"
      ]
    },
    {
      "cell_type": "code",
      "metadata": {
        "id": "Y0HNJVQLi2Rm",
        "colab_type": "code",
        "colab": {
          "base_uri": "https://localhost:8080/",
          "height": 35
        },
        "outputId": "eb691406-8726-4d24-9a8d-c7bdbb89d579"
      },
      "source": [
        "genres_tuple[3]"
      ],
      "execution_count": 63,
      "outputs": [
        {
          "output_type": "execute_result",
          "data": {
            "application/vnd.google.colaboratory.intrinsic+json": {
              "type": "string"
            },
            "text/plain": [
              "'hard rock'"
            ]
          },
          "metadata": {
            "tags": []
          },
          "execution_count": 63
        }
      ]
    },
    {
      "cell_type": "markdown",
      "metadata": {
        "id": "X2Og3z-hjLrW",
        "colab_type": "text"
      },
      "source": [
        "#Use slicing to obtain indexes 3, 4 and 5"
      ]
    },
    {
      "cell_type": "code",
      "metadata": {
        "id": "4UQGQlJejKbX",
        "colab_type": "code",
        "colab": {
          "base_uri": "https://localhost:8080/",
          "height": 34
        },
        "outputId": "0b7770f6-4cc8-4eaf-83cd-6968544978aa"
      },
      "source": [
        "genres_tuple[3:6]"
      ],
      "execution_count": 10,
      "outputs": [
        {
          "output_type": "execute_result",
          "data": {
            "text/plain": [
              "('hard rock', 'soft rock', 'R&B')"
            ]
          },
          "metadata": {
            "tags": []
          },
          "execution_count": 10
        }
      ]
    },
    {
      "cell_type": "markdown",
      "metadata": {
        "id": "_gnVv6wRjUzk",
        "colab_type": "text"
      },
      "source": [
        "#Find the first two elements of the tuple genres_tuple"
      ]
    },
    {
      "cell_type": "code",
      "metadata": {
        "id": "kG6QbNJdjUHb",
        "colab_type": "code",
        "colab": {
          "base_uri": "https://localhost:8080/",
          "height": 34
        },
        "outputId": "b940f959-0a27-41ca-cf8f-8973fd94c8c9"
      },
      "source": [
        "genres_tuple[0:2]"
      ],
      "execution_count": 11,
      "outputs": [
        {
          "output_type": "execute_result",
          "data": {
            "text/plain": [
              "('pop', 'rock')"
            ]
          },
          "metadata": {
            "tags": []
          },
          "execution_count": 11
        }
      ]
    },
    {
      "cell_type": "markdown",
      "metadata": {
        "id": "P6PDsnf-jgRl",
        "colab_type": "text"
      },
      "source": [
        "#Find the first index of \"disco\""
      ]
    },
    {
      "cell_type": "code",
      "metadata": {
        "id": "eO063U48sCSU",
        "colab_type": "code",
        "colab": {
          "base_uri": "https://localhost:8080/",
          "height": 151
        },
        "outputId": "e859764c-18ef-417b-dfa6-f729294e4e0a"
      },
      "source": [
        "genres_tuple"
      ],
      "execution_count": 65,
      "outputs": [
        {
          "output_type": "execute_result",
          "data": {
            "text/plain": [
              "('pop',\n",
              " 'rock',\n",
              " 'soul',\n",
              " 'hard rock',\n",
              " 'soft rock',\n",
              " 'R&B',\n",
              " 'progressive rock',\n",
              " 'disco')"
            ]
          },
          "metadata": {
            "tags": []
          },
          "execution_count": 65
        }
      ]
    },
    {
      "cell_type": "code",
      "metadata": {
        "id": "dKLwpJKfjcEC",
        "colab_type": "code",
        "colab": {
          "base_uri": "https://localhost:8080/",
          "height": 34
        },
        "outputId": "44c3156e-ef1a-4f66-fe9f-e9d0a9982095"
      },
      "source": [
        "genres_tuple.index(\"disco\")"
      ],
      "execution_count": 64,
      "outputs": [
        {
          "output_type": "execute_result",
          "data": {
            "text/plain": [
              "7"
            ]
          },
          "metadata": {
            "tags": []
          },
          "execution_count": 64
        }
      ]
    },
    {
      "cell_type": "markdown",
      "metadata": {
        "id": "MqWCOovNjrP8",
        "colab_type": "text"
      },
      "source": [
        "#Generate a sorted List from the Tuple C_tuple=(-5, 1, -3)"
      ]
    },
    {
      "cell_type": "code",
      "metadata": {
        "id": "n0FLWj9ajjOW",
        "colab_type": "code",
        "colab": {
          "base_uri": "https://localhost:8080/",
          "height": 0
        },
        "outputId": "578e4c20-f7de-48e0-fc25-61451a36e5c6"
      },
      "source": [
        "C_tuple = (-5, 1, -3)\n",
        "C_list = sorted(C_tuple)\n",
        "C_list"
      ],
      "execution_count": 13,
      "outputs": [
        {
          "output_type": "execute_result",
          "data": {
            "text/plain": [
              "[-5, -3, 1]"
            ]
          },
          "metadata": {
            "tags": []
          },
          "execution_count": 13
        }
      ]
    },
    {
      "cell_type": "code",
      "metadata": {
        "id": "Pg-JsZ1hjt2u",
        "colab_type": "code",
        "colab": {}
      },
      "source": [
        ""
      ],
      "execution_count": null,
      "outputs": []
    }
  ]
}