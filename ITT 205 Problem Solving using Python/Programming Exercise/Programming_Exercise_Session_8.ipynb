{
  "nbformat": 4,
  "nbformat_minor": 0,
  "metadata": {
    "colab": {
      "name": "Programming Exercise - Session 8",
      "provenance": [],
      "toc_visible": true
    },
    "kernelspec": {
      "name": "python3",
      "display_name": "Python 3"
    }
  },
  "cells": [
    {
      "cell_type": "markdown",
      "metadata": {
        "id": "QXZfRTtV33F-",
        "colab_type": "text"
      },
      "source": [
        "#1. Write a Python program which accepts the user's first and last name and print them in reverse order with a space between them."
      ]
    },
    {
      "cell_type": "code",
      "metadata": {
        "id": "JSOEPf0Z36UR",
        "colab_type": "code",
        "colab": {
          "base_uri": "https://localhost:8080/",
          "height": 0
        },
        "outputId": "cf87fd07-fb9d-4495-f048-00fbe9b35ce1"
      },
      "source": [
        "fname = input(\"Input your First Name : \")\n",
        "lname = input(\"Input your Last Name : \")\n",
        "print (lname + \" \" + fname)"
      ],
      "execution_count": 1,
      "outputs": [
        {
          "output_type": "stream",
          "text": [
            "Input your First Name : Gopika\n",
            "Input your Last Name : Suresh\n",
            "Hello  Suresh Gopika\n"
          ],
          "name": "stdout"
        }
      ]
    },
    {
      "cell_type": "code",
      "metadata": {
        "id": "u-ABh9KkdSOP",
        "colab_type": "code",
        "colab": {}
      },
      "source": [
        ""
      ],
      "execution_count": null,
      "outputs": []
    },
    {
      "cell_type": "markdown",
      "metadata": {
        "id": "7O98ABPe4Hzs",
        "colab_type": "text"
      },
      "source": [
        "#2. Write a Python program which accepts the radius of a circle from the user and compute the area"
      ]
    },
    {
      "cell_type": "code",
      "metadata": {
        "id": "TrhSNyTn4CBJ",
        "colab_type": "code",
        "colab": {
          "base_uri": "https://localhost:8080/",
          "height": 0
        },
        "outputId": "3929e41f-3e4b-4d5d-f467-3b23b6b25d12"
      },
      "source": [
        "from math import pi\n",
        "r = float(input (\"Input the radius of the circle : \"))\n",
        "print (\"The area of the circle with radius \" + str(r) + \" is: \" + str(pi * r**2))\n"
      ],
      "execution_count": 7,
      "outputs": [
        {
          "output_type": "stream",
          "text": [
            "Input the radius of the circle : 10.5\n",
            "The area of the circle with radius 10.5 is: 346.3605900582747\n"
          ],
          "name": "stdout"
        }
      ]
    },
    {
      "cell_type": "markdown",
      "metadata": {
        "id": "DxO9mWYG4oBL",
        "colab_type": "text"
      },
      "source": [
        "#3. Write a Python program that accepts an integer (n) and computes the value of n+nn+nnn."
      ]
    },
    {
      "cell_type": "code",
      "metadata": {
        "id": "UNKvbU4m4oxO",
        "colab_type": "code",
        "colab": {
          "base_uri": "https://localhost:8080/",
          "height": 0
        },
        "outputId": "41da9cb7-bfff-4e79-89ad-943d1b02474b"
      },
      "source": [
        "a = int(input(\"Input an integer : \"))\n",
        "n1 = int( \"%s\" % a )\n",
        "n2 = int( \"%s%s\" % (a,a) )\n",
        "n3 = int( \"%s%s%s\" % (a,a,a) )\n",
        "print(n1)\n",
        "print(n2)\n",
        "print(n3)\n",
        "print (n1+n2+n3)"
      ],
      "execution_count": 14,
      "outputs": [
        {
          "output_type": "stream",
          "text": [
            "Input an integer : 2\n",
            "2\n",
            "22\n",
            "222\n",
            "246\n"
          ],
          "name": "stdout"
        }
      ]
    },
    {
      "cell_type": "markdown",
      "metadata": {
        "id": "4zonrp1w5ERL",
        "colab_type": "text"
      },
      "source": [
        "#4. Write a Python program to get the volume of a sphere with radius 6"
      ]
    },
    {
      "cell_type": "code",
      "metadata": {
        "id": "nY83ljJi5Mbd",
        "colab_type": "code",
        "colab": {
          "base_uri": "https://localhost:8080/",
          "height": 0
        },
        "outputId": "e6fb1a2d-991b-498c-fc32-a3c8b42b565d"
      },
      "source": [
        "from math import pi\n",
        "r= 6.0\n",
        "V= 4.0/3.0*pi* r**3\n",
        "print('The volume of the sphere is: ',V)"
      ],
      "execution_count": 15,
      "outputs": [
        {
          "output_type": "stream",
          "text": [
            "The volume of the sphere is:  904.7786842338603\n"
          ],
          "name": "stdout"
        }
      ]
    },
    {
      "cell_type": "markdown",
      "metadata": {
        "id": "4A5vofLl5kR1",
        "colab_type": "text"
      },
      "source": [
        "#5. Write a Python program to get the difference between a given number and 10, if the number is greater than 10 return double the absolute difference."
      ]
    },
    {
      "cell_type": "markdown",
      "metadata": {
        "id": "T8YLWgTz5mBZ",
        "colab_type": "text"
      },
      "source": [
        ""
      ]
    },
    {
      "cell_type": "code",
      "metadata": {
        "id": "XJW3Gweo5lFB",
        "colab_type": "code",
        "colab": {
          "base_uri": "https://localhost:8080/",
          "height": 67
        },
        "outputId": "fcc1f011-571b-4967-a687-ae21434d7146"
      },
      "source": [
        "def difference(n):\n",
        "    if n <= 10:\n",
        "        return 10 - n\n",
        "    else:\n",
        "        return (n - 10) * 2 \n",
        "\n",
        "print(difference(22))\n",
        "print(difference(7))\n",
        "print(difference(3))"
      ],
      "execution_count": 21,
      "outputs": [
        {
          "output_type": "stream",
          "text": [
            "24\n",
            "3\n",
            "7\n"
          ],
          "name": "stdout"
        }
      ]
    },
    {
      "cell_type": "markdown",
      "metadata": {
        "id": "_fLyP6L36BSd",
        "colab_type": "text"
      },
      "source": [
        "#6. Write a Python program to calculate the sum of three given numbers, if the values are equal then return thrice of their sum."
      ]
    },
    {
      "cell_type": "markdown",
      "metadata": {
        "id": "VAkDNT9C6C37",
        "colab_type": "text"
      },
      "source": [
        ""
      ]
    },
    {
      "cell_type": "code",
      "metadata": {
        "id": "da4Hxj0L6CJ6",
        "colab_type": "code",
        "colab": {
          "base_uri": "https://localhost:8080/",
          "height": 51
        },
        "outputId": "47b4ddea-7549-49bb-d6da-2433a8d11183"
      },
      "source": [
        "def sum_thrice(x, y, z):\n",
        "\n",
        "     sum = x + y + z\n",
        "  \n",
        "     if x == y == z:\n",
        "      sum = sum * 3\n",
        "     return sum\n",
        "\n",
        "print(sum_thrice(1, 2, 3))\n",
        "print(sum_thrice(3, 3, 3))"
      ],
      "execution_count": null,
      "outputs": [
        {
          "output_type": "stream",
          "text": [
            "6\n",
            "27\n"
          ],
          "name": "stdout"
        }
      ]
    }
  ]
}